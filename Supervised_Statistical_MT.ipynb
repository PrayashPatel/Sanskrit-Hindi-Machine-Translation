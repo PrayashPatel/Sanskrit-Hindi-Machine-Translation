{
  "nbformat": 4,
  "nbformat_minor": 0,
  "metadata": {
    "colab": {
      "name": "Supervised_Statistical_MT.ipynb",
      "provenance": [],
      "collapsed_sections": [],
      "authorship_tag": "ABX9TyMP1rWZIhXvg9HKwlZo0vDn",
      "include_colab_link": true
    },
    "kernelspec": {
      "name": "python3",
      "display_name": "Python 3"
    }
  },
  "cells": [
    {
      "cell_type": "markdown",
      "metadata": {
        "id": "view-in-github",
        "colab_type": "text"
      },
      "source": [
        "<a href=\"https://colab.research.google.com/github/priyanshu2103/Sanskrit-Hindi-Machine-Translation/blob/main/Supervised_Statistical_MT.ipynb\" target=\"_parent\"><img src=\"https://colab.research.google.com/assets/colab-badge.svg\" alt=\"Open In Colab\"/></a>"
      ]
    },
    {
      "cell_type": "markdown",
      "metadata": {
        "id": "VoDWTjffnPgT"
      },
      "source": [
        "# **```Supervised Statistical Machine Translation```**"
      ]
    },
    {
      "cell_type": "markdown",
      "metadata": {
        "id": "0gIch8-tnmSz"
      },
      "source": [
        "This notebook runs the Moses SMT system, following the official documentation. Moses is used to translate Sanskrit to English, which is then translated to Hindi using Google Translate API."
      ]
    },
    {
      "cell_type": "code",
      "metadata": {
        "id": "KJH6-cD4dxAU",
        "colab": {
          "base_uri": "https://localhost:8080/"
        },
        "outputId": "30376fed-bd07-4a12-c46a-3e1cbc02036e"
      },
      "source": [
        "# Downloading Moses Binaries directly, as it is complicated to install moses by source \n",
        "!wget http://www.statmt.org/moses/RELEASE-4.0/binaries/ubuntu-17.04.tgz\n",
        "!tar -xvzf ubuntu-17.04.tgz\n",
        "!rm -rf ubuntu-17.04.tgz"
      ],
      "execution_count": 1,
      "outputs": [
        {
          "output_type": "stream",
          "text": [
            "--2020-11-20 10:04:15--  http://www.statmt.org/moses/RELEASE-4.0/binaries/ubuntu-17.04.tgz\n",
            "Resolving www.statmt.org (www.statmt.org)... 129.215.197.184\n",
            "Connecting to www.statmt.org (www.statmt.org)|129.215.197.184|:80... connected.\n",
            "HTTP request sent, awaiting response... 200 OK\n",
            "Length: 120382471 (115M) [application/x-gzip]\n",
            "Saving to: ‘ubuntu-17.04.tgz’\n",
            "\n",
            "ubuntu-17.04.tgz    100%[===================>] 114.81M  1.18MB/s    in 97s     \n",
            "\n",
            "2020-11-20 10:05:53 (1.18 MB/s) - ‘ubuntu-17.04.tgz’ saved [120382471/120382471]\n",
            "\n",
            "ubuntu-17.04/\n",
            "ubuntu-17.04/training-tools/\n",
            "ubuntu-17.04/training-tools/mkcls\n",
            "ubuntu-17.04/training-tools/snt2cooc\n",
            "ubuntu-17.04/training-tools/merge_alignment.py\n",
            "ubuntu-17.04/training-tools/mgiza\n",
            "ubuntu-17.04/moses/\n",
            "ubuntu-17.04/moses/scripts/\n",
            "ubuntu-17.04/moses/scripts/analysis/\n",
            "ubuntu-17.04/moses/scripts/analysis/sg2dot.perl\n",
            "ubuntu-17.04/moses/scripts/analysis/smtgui/\n",
            "ubuntu-17.04/moses/scripts/analysis/smtgui/newsmtgui.cgi\n",
            "ubuntu-17.04/moses/scripts/analysis/smtgui/file-factors\n",
            "ubuntu-17.04/moses/scripts/analysis/smtgui/Corpus.pm\n",
            "ubuntu-17.04/moses/scripts/analysis/smtgui/file-descriptions\n",
            "ubuntu-17.04/moses/scripts/analysis/smtgui/README\n",
            "ubuntu-17.04/moses/scripts/analysis/smtgui/filter-phrase-table.pl\n",
            "ubuntu-17.04/moses/scripts/analysis/bootstrap-hypothesis-difference-significance.pl\n",
            "ubuntu-17.04/moses/scripts/analysis/README\n",
            "ubuntu-17.04/moses/scripts/analysis/extract-target-trees.py\n",
            "ubuntu-17.04/moses/scripts/analysis/sentence-by-sentence.pl\n",
            "ubuntu-17.04/moses/scripts/analysis/show-phrases-used.pl\n",
            "ubuntu-17.04/moses/scripts/analysis/oov.pl\n",
            "ubuntu-17.04/moses/scripts/analysis/perllib/\n",
            "ubuntu-17.04/moses/scripts/analysis/perllib/Error.pm\n",
            "ubuntu-17.04/moses/scripts/analysis/suspicious_tokenization.pl\n",
            "ubuntu-17.04/moses/scripts/analysis/weight-scan.pl\n",
            "ubuntu-17.04/moses/scripts/analysis/nontranslated_words.pl\n",
            "ubuntu-17.04/moses/scripts/analysis/weight-scan-summarize.sh\n",
            "ubuntu-17.04/moses/scripts/generic/\n",
            "ubuntu-17.04/moses/scripts/generic/mteval-v14.pl\n",
            "ubuntu-17.04/moses/scripts/generic/mteval-v12.pl\n",
            "ubuntu-17.04/moses/scripts/generic/giza-parallel.perl\n",
            "ubuntu-17.04/moses/scripts/generic/score-parallel.perl\n",
            "ubuntu-17.04/moses/scripts/generic/binarize4moses2.perl\n",
            "ubuntu-17.04/moses/scripts/generic/extract-parallel.perl\n",
            "ubuntu-17.04/moses/scripts/generic/qsub-wrapper.pl\n",
            "ubuntu-17.04/moses/scripts/generic/fsa2fsal.pl\n",
            "ubuntu-17.04/moses/scripts/generic/reverse-alignment.perl\n",
            "ubuntu-17.04/moses/scripts/generic/bsbleu.py\n",
            "ubuntu-17.04/moses/scripts/generic/trainlm-irst2.perl\n",
            "ubuntu-17.04/moses/scripts/generic/strip-xml.perl\n",
            "ubuntu-17.04/moses/scripts/generic/moses_sim_pe.py\n",
            "ubuntu-17.04/moses/scripts/generic/multi-bleu.perl\n",
            "ubuntu-17.04/moses/scripts/generic/generic-parallel.perl\n",
            "ubuntu-17.04/moses/scripts/generic/lopar2pos.pl\n",
            "ubuntu-17.04/moses/scripts/generic/moses-parallel.pl\n",
            "ubuntu-17.04/moses/scripts/generic/ph_numbers.perl\n",
            "ubuntu-17.04/moses/scripts/generic/mteval-v13a.pl\n",
            "ubuntu-17.04/moses/scripts/generic/multi_moses.py\n",
            "ubuntu-17.04/moses/scripts/generic/extract-factors.pl\n",
            "ubuntu-17.04/moses/scripts/generic/fsa2plf.pl\n",
            "ubuntu-17.04/moses/scripts/generic/fsa-sample.fsa\n",
            "ubuntu-17.04/moses/scripts/generic/score_parallel.py\n",
            "ubuntu-17.04/moses/scripts/generic/fsal2fsa.pl\n",
            "ubuntu-17.04/moses/scripts/generic/compound-splitter.perl\n",
            "ubuntu-17.04/moses/scripts/generic/mteval-v11b.pl\n",
            "ubuntu-17.04/moses/scripts/training/\n",
            "ubuntu-17.04/moses/scripts/training/wrap_moses.py\n",
            "ubuntu-17.04/moses/scripts/training/build-generation-table.perl\n",
            "ubuntu-17.04/moses/scripts/training/train-global-lexicon-model.perl\n",
            "ubuntu-17.04/moses/scripts/training/remove-orphan-phrase-pairs-from-reordering-table.perl\n",
            "ubuntu-17.04/moses/scripts/training/absolutize_moses_model.pl\n",
            "ubuntu-17.04/moses/scripts/training/LexicalTranslationModel.pm\n",
            "ubuntu-17.04/moses/scripts/training/reduce-factors.perl\n",
            "ubuntu-17.04/moses/scripts/training/combine_factors_syntax.pl\n",
            "ubuntu-17.04/moses/scripts/training/threshold-filter.perl\n",
            "ubuntu-17.04/moses/scripts/training/bilingual-lm/\n",
            "ubuntu-17.04/moses/scripts/training/bilingual-lm/test_nplm.py\n",
            "ubuntu-17.04/moses/scripts/training/bilingual-lm/README\n",
            "ubuntu-17.04/moses/scripts/training/bilingual-lm/extract_test.py\n",
            "ubuntu-17.04/moses/scripts/training/bilingual-lm/train_nplm.py\n",
            "ubuntu-17.04/moses/scripts/training/bilingual-lm/create_blm_ini.py\n",
            "ubuntu-17.04/moses/scripts/training/bilingual-lm/averageNullEmbedding.py\n",
            "ubuntu-17.04/moses/scripts/training/bilingual-lm/tag.sh\n",
            "ubuntu-17.04/moses/scripts/training/bilingual-lm/extract_training.py\n",
            "ubuntu-17.04/moses/scripts/training/bilingual-lm/reduce_ngrams.py\n",
            "ubuntu-17.04/moses/scripts/training/bilingual-lm/extract.py\n",
            "ubuntu-17.04/moses/scripts/training/Jamfile\n",
            "ubuntu-17.04/moses/scripts/training/train-neurallm.py\n",
            "ubuntu-17.04/moses/scripts/training/filter-rule-table.py\n",
            "ubuntu-17.04/moses/scripts/training/postprocess-lopar.perl\n",
            "ubuntu-17.04/moses/scripts/training/clone_moses_model.pl\n",
            "ubuntu-17.04/moses/scripts/training/clean-corpus-n-ratio.perl\n",
            "ubuntu-17.04/moses/scripts/training/get-lexical.perl\n",
            "ubuntu-17.04/moses/scripts/training/convert-moses-ini-to-v2.perl\n",
            "ubuntu-17.04/moses/scripts/training/reduce_combine.pl\n",
            "ubuntu-17.04/moses/scripts/training/create_nplm_ini.py\n",
            "ubuntu-17.04/moses/scripts/training/giza2bal.pl\n",
            "ubuntu-17.04/moses/scripts/training/strip-xml.perl\n",
            "ubuntu-17.04/moses/scripts/training/analyse_moses_model.pl\n",
            "ubuntu-17.04/moses/scripts/training/build-mmsapt.perl\n",
            "ubuntu-17.04/moses/scripts/training/flexibility_score.py\n",
            "ubuntu-17.04/moses/scripts/training/combine_factors.pl\n",
            "ubuntu-17.04/moses/scripts/training/reduce-topt-count.pl\n",
            "ubuntu-17.04/moses/scripts/training/train-model.perl\n",
            "ubuntu-17.04/moses/scripts/training/rdlm/\n",
            "ubuntu-17.04/moses/scripts/training/rdlm/extract_syntactic_ngrams.py\n",
            "ubuntu-17.04/moses/scripts/training/rdlm/README\n",
            "ubuntu-17.04/moses/scripts/training/rdlm/average_null_embedding.py\n",
            "ubuntu-17.04/moses/scripts/training/rdlm/train_rdlm.py\n",
            "ubuntu-17.04/moses/scripts/training/rdlm/extract_vocab.py\n",
            "ubuntu-17.04/moses/scripts/training/clean-corpus-n.perl\n",
            "ubuntu-17.04/moses/scripts/training/create_count_tables.py\n",
            "ubuntu-17.04/moses/scripts/training/exodus.perl\n",
            "ubuntu-17.04/moses/scripts/training/mert-moses.pl\n",
            "ubuntu-17.04/moses/scripts/training/wrappers/\n",
            "ubuntu-17.04/moses/scripts/training/wrappers/make-factor-de-pos.perl\n",
            "ubuntu-17.04/moses/scripts/training/wrappers/conll2mosesxml.py\n",
            "ubuntu-17.04/moses/scripts/training/wrappers/make-factor-en-pos.mxpost.perl\n",
            "ubuntu-17.04/moses/scripts/training/wrappers/parse-en-senna.perl\n",
            "ubuntu-17.04/moses/scripts/training/wrappers/syntax-hyphen-splitting.perl\n",
            "ubuntu-17.04/moses/scripts/training/wrappers/make-factor-suffix.perl\n",
            "ubuntu-17.04/moses/scripts/training/wrappers/find-unparseable.perl\n",
            "ubuntu-17.04/moses/scripts/training/wrappers/berkeleyparsed2mosesxml.perl\n",
            "ubuntu-17.04/moses/scripts/training/wrappers/mosesxml2berkeleyparsed.perl\n",
            "ubuntu-17.04/moses/scripts/training/wrappers/madamira-tok.perl\n",
            "ubuntu-17.04/moses/scripts/training/wrappers/adam-suffix-array/\n",
            "ubuntu-17.04/moses/scripts/training/wrappers/adam-suffix-array/suffix-array-create.sh\n",
            "ubuntu-17.04/moses/scripts/training/wrappers/adam-suffix-array/suffix-array-extract.sh\n",
            "ubuntu-17.04/moses/scripts/training/wrappers/parse-de-berkeley.perl\n",
            "ubuntu-17.04/moses/scripts/training/wrappers/make-factor-stem.perl\n",
            "ubuntu-17.04/moses/scripts/training/wrappers/parse-en-egret.perl\n",
            "ubuntu-17.04/moses/scripts/training/wrappers/berkeleyparsed2mosesxml_PTB.perl\n",
            "ubuntu-17.04/moses/scripts/training/wrappers/parse-en-collins.perl\n",
            "ubuntu-17.04/moses/scripts/training/wrappers/morfessor-wrapper.perl\n",
            "ubuntu-17.04/moses/scripts/training/wrappers/senna2brackets.py\n",
            "ubuntu-17.04/moses/scripts/training/wrappers/make-factor-de-morph.perl\n",
            "ubuntu-17.04/moses/scripts/training/wrappers/parse-de-bitpar.perl\n",
            "ubuntu-17.04/moses/scripts/training/wrappers/tree-converter-mosesxml.sh\n",
            "ubuntu-17.04/moses/scripts/training/wrappers/make-factor-en-porter.perl\n",
            "ubuntu-17.04/moses/scripts/training/wrappers/madamira-wrapper.perl\n",
            "ubuntu-17.04/moses/scripts/training/wrappers/make-factor-pos.tree-tagger.perl\n",
            "ubuntu-17.04/moses/scripts/training/wrappers/parse-en-bllip.perl\n",
            "ubuntu-17.04/moses/scripts/training/wrappers/filter-excluded-lines.perl\n",
            "ubuntu-17.04/moses/scripts/training/wrappers/make-factor-de-lemma.perl\n",
            "ubuntu-17.04/moses/scripts/training/wrappers/make-factor-brown-cluster-mkcls.perl\n",
            "ubuntu-17.04/moses/scripts/training/wrappers/parse-en-stanford.py\n",
            "ubuntu-17.04/moses/scripts/training/wrappers/mada-wrapper.perl\n",
            "ubuntu-17.04/moses/scripts/training/wrappers/tagger-german-chunk.perl\n",
            "ubuntu-17.04/moses/scripts/training/wrappers/mosesxml2brackets.py\n",
            "ubuntu-17.04/moses/scripts/training/corpus-sizes.perl\n",
            "ubuntu-17.04/moses/scripts/training/binarize-model.perl\n",
            "ubuntu-17.04/moses/scripts/training/filter-model-given-input.pl\n",
            "ubuntu-17.04/moses/scripts/share/\n",
            "ubuntu-17.04/moses/scripts/share/nonbreaking_prefixes/\n",
            "ubuntu-17.04/moses/scripts/share/nonbreaking_prefixes/nonbreaking_prefix.pl\n",
            "ubuntu-17.04/moses/scripts/share/nonbreaking_prefixes/nonbreaking_prefix.en\n",
            "ubuntu-17.04/moses/scripts/share/nonbreaking_prefixes/nonbreaking_prefix.fr\n",
            "ubuntu-17.04/moses/scripts/share/nonbreaking_prefixes/nonbreaking_prefix.ro\n",
            "ubuntu-17.04/moses/scripts/share/nonbreaking_prefixes/nonbreaking_prefix.pt\n",
            "ubuntu-17.04/moses/scripts/share/nonbreaking_prefixes/nonbreaking_prefix.de\n",
            "ubuntu-17.04/moses/scripts/share/nonbreaking_prefixes/README.txt\n",
            "ubuntu-17.04/moses/scripts/share/nonbreaking_prefixes/nonbreaking_prefix.sk\n",
            "ubuntu-17.04/moses/scripts/share/nonbreaking_prefixes/nonbreaking_prefix.hu\n",
            "ubuntu-17.04/moses/scripts/share/nonbreaking_prefixes/nonbreaking_prefix.zh\n",
            "ubuntu-17.04/moses/scripts/share/nonbreaking_prefixes/nonbreaking_prefix.el\n",
            "ubuntu-17.04/moses/scripts/share/nonbreaking_prefixes/nonbreaking_prefix.ga\n",
            "ubuntu-17.04/moses/scripts/share/nonbreaking_prefixes/nonbreaking_prefix.cs\n",
            "ubuntu-17.04/moses/scripts/share/nonbreaking_prefixes/nonbreaking_prefix.lt\n",
            "ubuntu-17.04/moses/scripts/share/nonbreaking_prefixes/nonbreaking_prefix.nl\n",
            "ubuntu-17.04/moses/scripts/share/nonbreaking_prefixes/nonbreaking_prefix.lv\n",
            "ubuntu-17.04/moses/scripts/share/nonbreaking_prefixes/nonbreaking_prefix.es\n",
            "ubuntu-17.04/moses/scripts/share/nonbreaking_prefixes/nonbreaking_prefix.sl\n",
            "ubuntu-17.04/moses/scripts/share/nonbreaking_prefixes/nonbreaking_prefix.is\n",
            "ubuntu-17.04/moses/scripts/share/nonbreaking_prefixes/nonbreaking_prefix.it\n",
            "ubuntu-17.04/moses/scripts/share/nonbreaking_prefixes/nonbreaking_prefix.yue\n",
            "ubuntu-17.04/moses/scripts/share/nonbreaking_prefixes/nonbreaking_prefix.ta\n",
            "ubuntu-17.04/moses/scripts/share/nonbreaking_prefixes/nonbreaking_prefix.fi\n",
            "ubuntu-17.04/moses/scripts/share/nonbreaking_prefixes/nonbreaking_prefix.ru\n",
            "ubuntu-17.04/moses/scripts/share/nonbreaking_prefixes/nonbreaking_prefix.sv\n",
            "ubuntu-17.04/moses/scripts/share/nonbreaking_prefixes/nonbreaking_prefix.ca\n",
            "ubuntu-17.04/moses/scripts/Jamfile\n",
            "ubuntu-17.04/moses/scripts/tests/\n",
            "ubuntu-17.04/moses/scripts/tests/train-factored-test-step9.test\n",
            "ubuntu-17.04/moses/scripts/tests/README\n",
            "ubuntu-17.04/moses/scripts/tests/full-train-mert-decode.test\n",
            "ubuntu-17.04/moses/scripts/tests/cs-en-sample/\n",
            "ubuntu-17.04/moses/scripts/tests/cs-en-sample/train.cs\n",
            "ubuntu-17.04/moses/scripts/tests/cs-en-sample/test.src\n",
            "ubuntu-17.04/moses/scripts/tests/cs-en-sample/lm.en.gz\n",
            "ubuntu-17.04/moses/scripts/tests/cs-en-sample/train.en\n",
            "ubuntu-17.04/moses/scripts/tests/cs-en-sample/test.ref\n",
            "ubuntu-17.04/moses/scripts/OSM/\n",
            "ubuntu-17.04/moses/scripts/OSM/OSM-Train.perl\n",
            "ubuntu-17.04/moses/scripts/OSM/extract-singletons.perl\n",
            "ubuntu-17.04/moses/scripts/OSM/flipAlignment.perl\n",
            "ubuntu-17.04/moses/scripts/README\n",
            "ubuntu-17.04/moses/scripts/tokenizer/\n",
            "ubuntu-17.04/moses/scripts/tokenizer/deescape-special-chars-PTB.perl\n",
            "ubuntu-17.04/moses/scripts/tokenizer/tokenizer.perl\n",
            "ubuntu-17.04/moses/scripts/tokenizer/basic-protected-patterns\n",
            "ubuntu-17.04/moses/scripts/tokenizer/lowercase.perl\n",
            "ubuntu-17.04/moses/scripts/tokenizer/tokenizer_PTB.perl\n",
            "ubuntu-17.04/moses/scripts/tokenizer/replace-unicode-punctuation.perl\n",
            "ubuntu-17.04/moses/scripts/tokenizer/normalize-punctuation.perl\n",
            "ubuntu-17.04/moses/scripts/tokenizer/deescape-special-chars.perl\n",
            "ubuntu-17.04/moses/scripts/tokenizer/pre-tokenizer.perl\n",
            "ubuntu-17.04/moses/scripts/tokenizer/escape-special-chars.perl\n",
            "ubuntu-17.04/moses/scripts/tokenizer/remove-non-printing-char.perl\n",
            "ubuntu-17.04/moses/scripts/tokenizer/detokenizer.perl\n",
            "ubuntu-17.04/moses/scripts/tokenizer/pre-tok-clean.perl\n",
            "ubuntu-17.04/moses/scripts/tokenizer/pre_tokenize_cleaning.py\n",
            "ubuntu-17.04/moses/scripts/tokenizer/delete-long-words.perl\n",
            "ubuntu-17.04/moses/scripts/ems/\n",
            "ubuntu-17.04/moses/scripts/ems/experiment.machines\n",
            "ubuntu-17.04/moses/scripts/ems/experiment.perl\n",
            "ubuntu-17.04/moses/scripts/ems/experiment.meta\n",
            "ubuntu-17.04/moses/scripts/ems/example/\n",
            "ubuntu-17.04/moses/scripts/ems/example/config.toy\n",
            "ubuntu-17.04/moses/scripts/ems/example/data/\n",
            "ubuntu-17.04/moses/scripts/ems/example/data/nc-5k.en\n",
            "ubuntu-17.04/moses/scripts/ems/example/data/weight.ini\n",
            "ubuntu-17.04/moses/scripts/ems/example/data/nc-5k.fr\n",
            "ubuntu-17.04/moses/scripts/ems/example/data/test-ref.en.sgm\n",
            "ubuntu-17.04/moses/scripts/ems/example/data/weight_bilinguallm.ini\n",
            "ubuntu-17.04/moses/scripts/ems/example/data/run.hierarchical.sh\n",
            "ubuntu-17.04/moses/scripts/ems/example/data/test-src.fr.sgm\n",
            "ubuntu-17.04/moses/scripts/ems/example/data/config.hierarchical\n",
            "ubuntu-17.04/moses/scripts/ems/example/config.syntax\n",
            "ubuntu-17.04/moses/scripts/ems/example/config.basic\n",
            "ubuntu-17.04/moses/scripts/ems/example/config.factored\n",
            "ubuntu-17.04/moses/scripts/ems/example/config.toy.bilinguallm\n",
            "ubuntu-17.04/moses/scripts/ems/example/config.hierarchical\n",
            "ubuntu-17.04/moses/scripts/ems/support/\n",
            "ubuntu-17.04/moses/scripts/ems/support/ter.perl\n",
            "ubuntu-17.04/moses/scripts/ems/support/symmetrize-fast-align.perl\n",
            "ubuntu-17.04/moses/scripts/ems/support/submit-grid.perl\n",
            "ubuntu-17.04/moses/scripts/ems/support/interpolate-lm.perl\n",
            "ubuntu-17.04/moses/scripts/ems/support/tree-converter-wrapper.perl\n",
            "ubuntu-17.04/moses/scripts/ems/support/mml-filter.perl\n",
            "ubuntu-17.04/moses/scripts/ems/support/prepare-fast-align.perl\n",
            "ubuntu-17.04/moses/scripts/ems/support/consolidate-training-data.perl\n",
            "ubuntu-17.04/moses/scripts/ems/support/report-experiment-scores.perl\n",
            "ubuntu-17.04/moses/scripts/ems/support/split-sentences.perl\n",
            "ubuntu-17.04/moses/scripts/ems/support/run-wade.perl\n",
            "ubuntu-17.04/moses/scripts/ems/support/lmplz-wrapper.perl\n",
            "ubuntu-17.04/moses/scripts/ems/support/create-xml.perl\n",
            "ubuntu-17.04/moses/scripts/ems/support/generic-parallelizer.perl\n",
            "ubuntu-17.04/moses/scripts/ems/support/mml-filter.py\n",
            "ubuntu-17.04/moses/scripts/ems/support/wrap-xml.perl\n",
            "ubuntu-17.04/moses/scripts/ems/support/substitute-filtered-tables.perl\n",
            "ubuntu-17.04/moses/scripts/ems/support/build-domain-file-from-subcorpora.perl\n",
            "ubuntu-17.04/moses/scripts/ems/support/berkeley-train.sh\n",
            "ubuntu-17.04/moses/scripts/ems/support/substitute-filtered-tables-and-weights.perl\n",
            "ubuntu-17.04/moses/scripts/ems/support/analysis.perl\n",
            "ubuntu-17.04/moses/scripts/ems/support/berkeley-process.sh\n",
            "ubuntu-17.04/moses/scripts/ems/support/build-sparse-features.perl\n",
            "ubuntu-17.04/moses/scripts/ems/support/reference-from-sgm.perl\n",
            "ubuntu-17.04/moses/scripts/ems/support/defaultconfig.py\n",
            "ubuntu-17.04/moses/scripts/ems/support/mml-train.perl\n",
            "ubuntu-17.04/moses/scripts/ems/support/thot-lm-wrapper.perl\n",
            "ubuntu-17.04/moses/scripts/ems/support/remove-segmentation-markup.perl\n",
            "ubuntu-17.04/moses/scripts/ems/support/run-command-on-multiple-refsets.perl\n",
            "ubuntu-17.04/moses/scripts/ems/support/generic-multicore-parallelizer.perl\n",
            "ubuntu-17.04/moses/scripts/ems/support/input-from-sgm.perl\n",
            "ubuntu-17.04/moses/scripts/ems/support/fast-align-in-parts.perl\n",
            "ubuntu-17.04/moses/scripts/ems/support/substitute-weights.perl\n",
            "ubuntu-17.04/moses/scripts/ems/support/cache-model.perl\n",
            "ubuntu-17.04/moses/scripts/ems/support/mml-score.perl\n",
            "ubuntu-17.04/moses/scripts/ems/web/\n",
            "ubuntu-17.04/moses/scripts/ems/web/analysis.php\n",
            "ubuntu-17.04/moses/scripts/ems/web/close.gif\n",
            "ubuntu-17.04/moses/scripts/ems/web/hierarchical-segmentation.css\n",
            "ubuntu-17.04/moses/scripts/ems/web/javascripts/\n",
            "ubuntu-17.04/moses/scripts/ems/web/javascripts/controls.js\n",
            "ubuntu-17.04/moses/scripts/ems/web/javascripts/builder.js\n",
            "ubuntu-17.04/moses/scripts/ems/web/javascripts/effects.js\n",
            "ubuntu-17.04/moses/scripts/ems/web/javascripts/slider.js\n",
            "ubuntu-17.04/moses/scripts/ems/web/javascripts/scriptaculous.js\n",
            "ubuntu-17.04/moses/scripts/ems/web/javascripts/dragdrop.js\n",
            "ubuntu-17.04/moses/scripts/ems/web/javascripts/sound.js\n",
            "ubuntu-17.04/moses/scripts/ems/web/javascripts/prototype.js\n",
            "ubuntu-17.04/moses/scripts/ems/web/javascripts/scriptaculous-js-1.8.3/\n",
            "ubuntu-17.04/moses/scripts/ems/web/javascripts/scriptaculous-js-1.8.3/src/\n",
            "ubuntu-17.04/moses/scripts/ems/web/javascripts/scriptaculous-js-1.8.3/src/controls.js\n",
            "ubuntu-17.04/moses/scripts/ems/web/javascripts/scriptaculous-js-1.8.3/src/builder.js\n",
            "ubuntu-17.04/moses/scripts/ems/web/javascripts/scriptaculous-js-1.8.3/src/effects.js\n",
            "ubuntu-17.04/moses/scripts/ems/web/javascripts/scriptaculous-js-1.8.3/src/slider.js\n",
            "ubuntu-17.04/moses/scripts/ems/web/javascripts/scriptaculous-js-1.8.3/src/scriptaculous.js\n",
            "ubuntu-17.04/moses/scripts/ems/web/javascripts/scriptaculous-js-1.8.3/src/dragdrop.js\n",
            "ubuntu-17.04/moses/scripts/ems/web/javascripts/scriptaculous-js-1.8.3/src/sound.js\n",
            "ubuntu-17.04/moses/scripts/ems/web/javascripts/scriptaculous-js-1.8.3/src/unittest.js\n",
            "ubuntu-17.04/moses/scripts/ems/web/javascripts/scriptaculous-js-1.8.3/test/\n",
            "ubuntu-17.04/moses/scripts/ems/web/javascripts/scriptaculous-js-1.8.3/test/run_functional_tests.html\n",
            "ubuntu-17.04/moses/scripts/ems/web/javascripts/scriptaculous-js-1.8.3/test/functional/\n",
            "ubuntu-17.04/moses/scripts/ems/web/javascripts/scriptaculous-js-1.8.3/test/functional/effects_grow_strink_test.html\n",
            "ubuntu-17.04/moses/scripts/ems/web/javascripts/scriptaculous-js-1.8.3/test/functional/dragdrop_delay_test.html\n",
            "ubuntu-17.04/moses/scripts/ems/web/javascripts/scriptaculous-js-1.8.3/test/functional/icon.png\n",
            "ubuntu-17.04/moses/scripts/ems/web/javascripts/scriptaculous-js-1.8.3/test/functional/effect_shake.html\n",
            "ubuntu-17.04/moses/scripts/ems/web/javascripts/scriptaculous-js-1.8.3/test/functional/ajax_autocompleter_test.html\n",
            "ubuntu-17.04/moses/scripts/ems/web/javascripts/scriptaculous-js-1.8.3/test/functional/effects_queue_test.html\n",
            "ubuntu-17.04/moses/scripts/ems/web/javascripts/scriptaculous-js-1.8.3/test/functional/ajax_inplacecollectioneditor_test.html\n",
            "ubuntu-17.04/moses/scripts/ems/web/javascripts/scriptaculous-js-1.8.3/test/functional/sortable_tree_test.html\n",
            "ubuntu-17.04/moses/scripts/ems/web/javascripts/scriptaculous-js-1.8.3/test/functional/dragdrop3_test.html\n",
            "ubuntu-17.04/moses/scripts/ems/web/javascripts/scriptaculous-js-1.8.3/test/functional/sword.mp3\n",
            "ubuntu-17.04/moses/scripts/ems/web/javascripts/scriptaculous-js-1.8.3/test/functional/sortable_nested_test.html\n",
            "ubuntu-17.04/moses/scripts/ems/web/javascripts/scriptaculous-js-1.8.3/test/functional/_ajax_inplaceeditor_result.html\n",
            "ubuntu-17.04/moses/scripts/ems/web/javascripts/scriptaculous-js-1.8.3/test/functional/effects_float_appear_test.html\n",
            "ubuntu-17.04/moses/scripts/ems/web/javascripts/scriptaculous-js-1.8.3/test/functional/effects6_test.html\n",
            "ubuntu-17.04/moses/scripts/ems/web/javascripts/scriptaculous-js-1.8.3/test/functional/effect_scale_test.html\n",
            "ubuntu-17.04/moses/scripts/ems/web/javascripts/scriptaculous-js-1.8.3/test/functional/ajax_autocompleter2_test.html\n",
            "ubuntu-17.04/moses/scripts/ems/web/javascripts/scriptaculous-js-1.8.3/test/functional/dragdrop6_test.html\n",
            "ubuntu-17.04/moses/scripts/ems/web/javascripts/scriptaculous-js-1.8.3/test/functional/dragdrop9_test.html\n",
            "ubuntu-17.04/moses/scripts/ems/web/javascripts/scriptaculous-js-1.8.3/test/functional/sortable_test.html\n",
            "ubuntu-17.04/moses/scripts/ems/web/javascripts/scriptaculous-js-1.8.3/test/functional/sortable4_test.html\n",
            "ubuntu-17.04/moses/scripts/ems/web/javascripts/scriptaculous-js-1.8.3/test/functional/_autocomplete_result_single.html\n",
            "ubuntu-17.04/moses/scripts/ems/web/javascripts/scriptaculous-js-1.8.3/test/functional/effects_toggle_test.html\n",
            "ubuntu-17.04/moses/scripts/ems/web/javascripts/scriptaculous-js-1.8.3/test/functional/effects_random_demo.html\n",
            "ubuntu-17.04/moses/scripts/ems/web/javascripts/scriptaculous-js-1.8.3/test/functional/effects5b_test.html\n",
            "ubuntu-17.04/moses/scripts/ems/web/javascripts/scriptaculous-js-1.8.3/test/functional/effect_direct_test.html\n",
            "ubuntu-17.04/moses/scripts/ems/web/javascripts/scriptaculous-js-1.8.3/test/functional/sound_test.html\n",
            "ubuntu-17.04/moses/scripts/ems/web/javascripts/scriptaculous-js-1.8.3/test/functional/effects_highlight_bg_image.html\n",
            "ubuntu-17.04/moses/scripts/ems/web/javascripts/scriptaculous-js-1.8.3/test/functional/dropmarker.png\n",
            "ubuntu-17.04/moses/scripts/ems/web/javascripts/scriptaculous-js-1.8.3/test/functional/sortable6_test.html\n",
            "ubuntu-17.04/moses/scripts/ems/web/javascripts/scriptaculous-js-1.8.3/test/functional/effects4_test.html\n",
            "ubuntu-17.04/moses/scripts/ems/web/javascripts/scriptaculous-js-1.8.3/test/functional/effects_queue_limit_test.html\n",
            "ubuntu-17.04/moses/scripts/ems/web/javascripts/scriptaculous-js-1.8.3/test/functional/_autocomplete_result.html\n",
            "ubuntu-17.04/moses/scripts/ems/web/javascripts/scriptaculous-js-1.8.3/test/functional/texteffects_test.html\n",
            "ubuntu-17.04/moses/scripts/ems/web/javascripts/scriptaculous-js-1.8.3/test/functional/slider_test.html\n",
            "ubuntu-17.04/moses/scripts/ems/web/javascripts/scriptaculous-js-1.8.3/test/functional/sortable2_test.html\n",
            "ubuntu-17.04/moses/scripts/ems/web/javascripts/scriptaculous-js-1.8.3/test/functional/index.html\n",
            "ubuntu-17.04/moses/scripts/ems/web/javascripts/scriptaculous-js-1.8.3/test/functional/dragdrop7_test.html\n",
            "ubuntu-17.04/moses/scripts/ems/web/javascripts/scriptaculous-js-1.8.3/test/functional/_ajax_inplaceeditor_text.html\n",
            "ubuntu-17.04/moses/scripts/ems/web/javascripts/scriptaculous-js-1.8.3/test/functional/ajax_inplaceeditor_test.html\n",
            "ubuntu-17.04/moses/scripts/ems/web/javascripts/scriptaculous-js-1.8.3/test/functional/effect_puff_test.html\n",
            "ubuntu-17.04/moses/scripts/ems/web/javascripts/scriptaculous-js-1.8.3/test/functional/dragdrop8_test.html\n",
            "ubuntu-17.04/moses/scripts/ems/web/javascripts/scriptaculous-js-1.8.3/test/functional/sortable3_test.html\n",
            "ubuntu-17.04/moses/scripts/ems/web/javascripts/scriptaculous-js-1.8.3/test/functional/position_clone_test.html\n",
            "ubuntu-17.04/moses/scripts/ems/web/javascripts/scriptaculous-js-1.8.3/test/functional/effects2_test.html\n",
            "ubuntu-17.04/moses/scripts/ems/web/javascripts/scriptaculous-js-1.8.3/test/functional/effects_test.html\n",
            "ubuntu-17.04/moses/scripts/ems/web/javascripts/scriptaculous-js-1.8.3/test/functional/effects_blind_test.html\n",
            "ubuntu-17.04/moses/scripts/ems/web/javascripts/scriptaculous-js-1.8.3/test/functional/effects5_test.html\n",
            "ubuntu-17.04/moses/scripts/ems/web/javascripts/scriptaculous-js-1.8.3/test/functional/dragdrop5_test.html\n",
            "ubuntu-17.04/moses/scripts/ems/web/javascripts/scriptaculous-js-1.8.3/test/functional/dragdrop_test.html\n",
            "ubuntu-17.04/moses/scripts/ems/web/javascripts/scriptaculous-js-1.8.3/test/functional/dragdrop2_test.html\n",
            "ubuntu-17.04/moses/scripts/ems/web/javascripts/scriptaculous-js-1.8.3/test/functional/dragdrop4_test.html\n",
            "ubuntu-17.04/moses/scripts/ems/web/javascripts/scriptaculous-js-1.8.3/test/functional/sortable5_test.html\n",
            "ubuntu-17.04/moses/scripts/ems/web/javascripts/scriptaculous-js-1.8.3/test/functional/effects3_test.html\n",
            "ubuntu-17.04/moses/scripts/ems/web/javascripts/scriptaculous-js-1.8.3/test/test.css\n",
            "ubuntu-17.04/moses/scripts/ems/web/javascripts/scriptaculous-js-1.8.3/test/run_unit_tests.html\n",
            "ubuntu-17.04/moses/scripts/ems/web/javascripts/scriptaculous-js-1.8.3/test/unit/\n",
            "ubuntu-17.04/moses/scripts/ems/web/javascripts/scriptaculous-js-1.8.3/test/unit/icon.png\n",
            "ubuntu-17.04/moses/scripts/ems/web/javascripts/scriptaculous-js-1.8.3/test/unit/ajax_autocompleter_test.html\n",
            "ubuntu-17.04/moses/scripts/ems/web/javascripts/scriptaculous-js-1.8.3/test/unit/bdd_test.html\n",
            "ubuntu-17.04/moses/scripts/ems/web/javascripts/scriptaculous-js-1.8.3/test/unit/_ajax_inplaceeditor_result.html\n",
            "ubuntu-17.04/moses/scripts/ems/web/javascripts/scriptaculous-js-1.8.3/test/unit/_ajax_inplaceeditor_ipce_alt_text.html\n",
            "ubuntu-17.04/moses/scripts/ems/web/javascripts/scriptaculous-js-1.8.3/test/unit/element_test.html\n",
            "ubuntu-17.04/moses/scripts/ems/web/javascripts/scriptaculous-js-1.8.3/test/unit/_ajax_updater_result.html\n",
            "ubuntu-17.04/moses/scripts/ems/web/javascripts/scriptaculous-js-1.8.3/test/unit/sortable_test.html\n",
            "ubuntu-17.04/moses/scripts/ems/web/javascripts/scriptaculous-js-1.8.3/test/unit/_ajax_inplaceeditor_result2.html\n",
            "ubuntu-17.04/moses/scripts/ems/web/javascripts/scriptaculous-js-1.8.3/test/unit/_autocomplete_result.html\n",
            "ubuntu-17.04/moses/scripts/ems/web/javascripts/scriptaculous-js-1.8.3/test/unit/slider_test.html\n",
            "ubuntu-17.04/moses/scripts/ems/web/javascripts/scriptaculous-js-1.8.3/test/unit/_autocomplete_result_nobr.html\n",
            "ubuntu-17.04/moses/scripts/ems/web/javascripts/scriptaculous-js-1.8.3/test/unit/index.html\n",
            "ubuntu-17.04/moses/scripts/ems/web/javascripts/scriptaculous-js-1.8.3/test/unit/_ajax_inplaceeditor_text.html\n",
            "ubuntu-17.04/moses/scripts/ems/web/javascripts/scriptaculous-js-1.8.3/test/unit/ajax_inplaceeditor_test.html\n",
            "ubuntu-17.04/moses/scripts/ems/web/javascripts/scriptaculous-js-1.8.3/test/unit/string_test.html\n",
            "ubuntu-17.04/moses/scripts/ems/web/javascripts/scriptaculous-js-1.8.3/test/unit/_ajax_inplaceeditor_tagged.html\n",
            "ubuntu-17.04/moses/scripts/ems/web/javascripts/scriptaculous-js-1.8.3/test/unit/position_clone_test.html\n",
            "ubuntu-17.04/moses/scripts/ems/web/javascripts/scriptaculous-js-1.8.3/test/unit/effects_test.html\n",
            "ubuntu-17.04/moses/scripts/ems/web/javascripts/scriptaculous-js-1.8.3/test/unit/unittest_test.html\n",
            "ubuntu-17.04/moses/scripts/ems/web/javascripts/scriptaculous-js-1.8.3/test/unit/dragdrop_test.html\n",
            "ubuntu-17.04/moses/scripts/ems/web/javascripts/scriptaculous-js-1.8.3/test/unit/builder_test.html\n",
            "ubuntu-17.04/moses/scripts/ems/web/javascripts/scriptaculous-js-1.8.3/test/unit/loading_test.html\n",
            "ubuntu-17.04/moses/scripts/ems/web/javascripts/scriptaculous-js-1.8.3/CHANGELOG\n",
            "ubuntu-17.04/moses/scripts/ems/web/javascripts/scriptaculous-js-1.8.3/README.rdoc\n",
            "ubuntu-17.04/moses/scripts/ems/web/javascripts/scriptaculous-js-1.8.3/MIT-LICENSE\n",
            "ubuntu-17.04/moses/scripts/ems/web/javascripts/scriptaculous-js-1.8.3/lib/\n",
            "ubuntu-17.04/moses/scripts/ems/web/javascripts/scriptaculous-js-1.8.3/lib/prototype.js\n",
            "ubuntu-17.04/moses/scripts/ems/web/javascripts/unittest.js\n",
            "ubuntu-17.04/moses/scripts/ems/web/index.php\n",
            "ubuntu-17.04/moses/scripts/ems/web/spinner.gif\n",
            "ubuntu-17.04/moses/scripts/ems/web/bilingual-concordance.css\n",
            "ubuntu-17.04/moses/scripts/ems/web/favicon.ico\n",
            "ubuntu-17.04/moses/scripts/ems/web/comment.php\n",
            "ubuntu-17.04/moses/scripts/ems/web/progress.perl\n",
            "ubuntu-17.04/moses/scripts/ems/web/general.css\n",
            "ubuntu-17.04/moses/scripts/ems/web/diff.php\n",
            "ubuntu-17.04/moses/scripts/ems/web/base64.js\n",
            "ubuntu-17.04/moses/scripts/ems/web/sgviz.php\n",
            "ubuntu-17.04/moses/scripts/ems/web/sgviz.js\n",
            "ubuntu-17.04/moses/scripts/ems/web/overview.php\n",
            "ubuntu-17.04/moses/scripts/ems/web/lib.php\n",
            "ubuntu-17.04/moses/scripts/ems/web/analysis_diff.php\n",
            "ubuntu-17.04/moses/scripts/ems/web/setup\n",
            "ubuntu-17.04/moses/scripts/ems/web/hierarchical-segmentation.js\n",
            "ubuntu-17.04/moses/scripts/ems/fix-info.perl\n",
            "ubuntu-17.04/moses/scripts/Transliteration/\n",
            "ubuntu-17.04/moses/scripts/Transliteration/threshold.pl\n",
            "ubuntu-17.04/moses/scripts/Transliteration/clean.pl\n",
            "ubuntu-17.04/moses/scripts/Transliteration/prepare-transliteration-phrase-table.pl\n",
            "ubuntu-17.04/moses/scripts/Transliteration/in-decoding-transliteration.pl\n",
            "ubuntu-17.04/moses/scripts/Transliteration/post-decoding-transliteration.pl\n",
            "ubuntu-17.04/moses/scripts/Transliteration/train-transliteration-module.pl\n",
            "ubuntu-17.04/moses/scripts/Transliteration/corpusCreator.pl\n",
            "ubuntu-17.04/moses/scripts/server/\n",
            "ubuntu-17.04/moses/scripts/server/sim-pe.py\n",
            "ubuntu-17.04/moses/scripts/server/moses.py\n",
            "ubuntu-17.04/moses/scripts/fuzzy-match/\n",
            "ubuntu-17.04/moses/scripts/fuzzy-match/.cproject\n",
            "ubuntu-17.04/moses/scripts/fuzzy-match/create_xml.perl\n",
            "ubuntu-17.04/moses/scripts/fuzzy-match/.project\n",
            "ubuntu-17.04/moses/scripts/fuzzy-match/compile.sh\n",
            "ubuntu-17.04/moses/scripts/other/\n",
            "ubuntu-17.04/moses/scripts/other/delete-scores.perl\n",
            "ubuntu-17.04/moses/scripts/other/translate_by_microsoft_bing.perl\n",
            "ubuntu-17.04/moses/scripts/other/beautify.py\n",
            "ubuntu-17.04/moses/scripts/other/get_many_translations_from_google.perl\n",
            "ubuntu-17.04/moses/scripts/other/retain-lines.perl\n",
            "ubuntu-17.04/moses/scripts/other/gacha_filter.py\n",
            "ubuntu-17.04/moses/scripts/other/convert-pt.perl\n",
            "ubuntu-17.04/moses/scripts/other/buckwalter.perl\n",
            "ubuntu-17.04/moses/scripts/other/blame-stat.sh\n",
            "ubuntu-17.04/moses/scripts/docker/\n",
            "ubuntu-17.04/moses/scripts/docker/Dockerfile.ubuntu.basic\n",
            "ubuntu-17.04/moses/scripts/docker/Dockerfile.ubuntu.fastlightpbmt\n",
            "ubuntu-17.04/moses/scripts/nbest-rescore/\n",
            "ubuntu-17.04/moses/scripts/nbest-rescore/topbest.py\n",
            "ubuntu-17.04/moses/scripts/nbest-rescore/README.md\n",
            "ubuntu-17.04/moses/scripts/nbest-rescore/train.py\n",
            "ubuntu-17.04/moses/scripts/nbest-rescore/rescore.py\n",
            "ubuntu-17.04/moses/scripts/recaser/\n",
            "ubuntu-17.04/moses/scripts/recaser/recase.perl\n",
            "ubuntu-17.04/moses/scripts/recaser/detruecase.perl\n",
            "ubuntu-17.04/moses/scripts/recaser/truecase.perl\n",
            "ubuntu-17.04/moses/scripts/recaser/train-truecaser.perl\n",
            "ubuntu-17.04/moses/scripts/recaser/train-recaser.perl\n",
            "ubuntu-17.04/moses/scripts/regression-testing/\n",
            "ubuntu-17.04/moses/scripts/regression-testing/moses-scripts-reg-test-data-1.0/\n",
            "ubuntu-17.04/moses/scripts/regression-testing/moses-scripts-reg-test-data-1.0/lm/\n",
            "ubuntu-17.04/moses/scripts/regression-testing/moses-scripts-reg-test-data-1.0/lm/train.en.w5.msb.nops.blm\n",
            "ubuntu-17.04/moses/scripts/regression-testing/moses-scripts-reg-test-data-1.0/models/\n",
            "ubuntu-17.04/moses/scripts/regression-testing/moses-scripts-reg-test-data-1.0/models/phrase-table.0-0.gz\n",
            "ubuntu-17.04/moses/scripts/regression-testing/moses-scripts-reg-test-data-1.0/models/reordering-table.msd-bidirectional-fe.0.5.0-0.gz\n",
            "ubuntu-17.04/moses/scripts/regression-testing/tests/\n",
            "ubuntu-17.04/moses/scripts/regression-testing/tests/mert-moses-new-continue/\n",
            "ubuntu-17.04/moses/scripts/regression-testing/tests/mert-moses-new-continue/data/\n",
            "ubuntu-17.04/moses/scripts/regression-testing/tests/mert-moses-new-continue/data/run2.features.dat\n",
            "ubuntu-17.04/moses/scripts/regression-testing/tests/mert-moses-new-continue/data/run3.features.dat\n",
            "ubuntu-17.04/moses/scripts/regression-testing/tests/mert-moses-new-continue/data/run5.features.dat\n",
            "ubuntu-17.04/moses/scripts/regression-testing/tests/mert-moses-new-continue/data/run1.scores.dat\n",
            "ubuntu-17.04/moses/scripts/regression-testing/tests/mert-moses-new-continue/data/run7.TRANS.out\n",
            "ubuntu-17.04/moses/scripts/regression-testing/tests/mert-moses-new-continue/data/run5.scores.dat\n",
            "ubuntu-17.04/moses/scripts/regression-testing/tests/mert-moses-new-continue/data/run5.names.txt\n",
            "ubuntu-17.04/moses/scripts/regression-testing/tests/mert-moses-new-continue/data/run4.scores.dat\n",
            "ubuntu-17.04/moses/scripts/regression-testing/tests/mert-moses-new-continue/data/run6.TRANS.out\n",
            "ubuntu-17.04/moses/scripts/regression-testing/tests/mert-moses-new-continue/data/run1.features.dat\n",
            "ubuntu-17.04/moses/scripts/regression-testing/tests/mert-moses-new-continue/data/run7.NBEST.out.gz\n",
            "ubuntu-17.04/moses/scripts/regression-testing/tests/mert-moses-new-continue/data/finished_step.txt\n",
            "ubuntu-17.04/moses/scripts/regression-testing/tests/mert-moses-new-continue/data/run4.features.dat\n",
            "ubuntu-17.04/moses/scripts/regression-testing/tests/mert-moses-new-continue/data/run3.scores.dat\n",
            "ubuntu-17.04/moses/scripts/regression-testing/tests/mert-moses-new-continue/data/run6.NBEST.out.gz\n",
            "ubuntu-17.04/moses/scripts/regression-testing/tests/mert-moses-new-continue/data/actual.index\n",
            "ubuntu-17.04/moses/scripts/regression-testing/tests/mert-moses-new-continue/data/archive.list\n",
            "ubuntu-17.04/moses/scripts/regression-testing/tests/mert-moses-new-continue/data/run5.mert.log\n",
            "ubuntu-17.04/moses/scripts/regression-testing/tests/mert-moses-new-continue/data/run5.weights.txt\n",
            "ubuntu-17.04/moses/scripts/regression-testing/tests/mert-moses-new-continue/data/run2.scores.dat\n",
            "ubuntu-17.04/moses/scripts/regression-testing/tests/mert-moses-new-continue/moses.ini\n",
            "ubuntu-17.04/moses/scripts/regression-testing/tests/mert-moses-new-continue/filter-stderr\n",
            "ubuntu-17.04/moses/scripts/regression-testing/tests/mert-moses-new-continue/input\n",
            "ubuntu-17.04/moses/scripts/regression-testing/tests/mert-moses-new-continue/reference.2\n",
            "ubuntu-17.04/moses/scripts/regression-testing/tests/mert-moses-new-continue/filter-stdout\n",
            "ubuntu-17.04/moses/scripts/regression-testing/tests/mert-moses-new-continue/reference.1\n",
            "ubuntu-17.04/moses/scripts/regression-testing/tests/mert-moses-new-continue/truth/\n",
            "ubuntu-17.04/moses/scripts/regression-testing/tests/mert-moses-new-continue/truth/results.dat\n",
            "ubuntu-17.04/moses/scripts/regression-testing/tests/mert-moses-new-continue/reference.0\n",
            "ubuntu-17.04/moses/scripts/regression-testing/tests/mert-moses-new-continue/command\n",
            "ubuntu-17.04/moses/scripts/regression-testing/tests/mert-moses-new-nocase/\n",
            "ubuntu-17.04/moses/scripts/regression-testing/tests/mert-moses-new-nocase/data/\n",
            "ubuntu-17.04/moses/scripts/regression-testing/tests/mert-moses-new-nocase/data/run4.TRANS.out\n",
            "ubuntu-17.04/moses/scripts/regression-testing/tests/mert-moses-new-nocase/data/run3.NBEST.out.gz\n",
            "ubuntu-17.04/moses/scripts/regression-testing/tests/mert-moses-new-nocase/data/run5.NBEST.out.gz\n",
            "ubuntu-17.04/moses/scripts/regression-testing/tests/mert-moses-new-nocase/data/run4.NBEST.out.gz\n",
            "ubuntu-17.04/moses/scripts/regression-testing/tests/mert-moses-new-nocase/data/run5.TRANS.out\n",
            "ubuntu-17.04/moses/scripts/regression-testing/tests/mert-moses-new-nocase/data/run2.TRANS.out\n",
            "ubuntu-17.04/moses/scripts/regression-testing/tests/mert-moses-new-nocase/data/run1.TRANS.out\n",
            "ubuntu-17.04/moses/scripts/regression-testing/tests/mert-moses-new-nocase/data/run2.NBEST.out.gz\n",
            "ubuntu-17.04/moses/scripts/regression-testing/tests/mert-moses-new-nocase/data/run1.NBEST.out.gz\n",
            "ubuntu-17.04/moses/scripts/regression-testing/tests/mert-moses-new-nocase/data/run3.TRANS.out\n",
            "ubuntu-17.04/moses/scripts/regression-testing/tests/mert-moses-new-nocase/data/archive.list\n",
            "ubuntu-17.04/moses/scripts/regression-testing/tests/mert-moses-new-nocase/moses.ini\n",
            "ubuntu-17.04/moses/scripts/regression-testing/tests/mert-moses-new-nocase/filter-stderr\n",
            "ubuntu-17.04/moses/scripts/regression-testing/tests/mert-moses-new-nocase/input\n",
            "ubuntu-17.04/moses/scripts/regression-testing/tests/mert-moses-new-nocase/reference.2\n",
            "ubuntu-17.04/moses/scripts/regression-testing/tests/mert-moses-new-nocase/filter-stdout\n",
            "ubuntu-17.04/moses/scripts/regression-testing/tests/mert-moses-new-nocase/reference.1\n",
            "ubuntu-17.04/moses/scripts/regression-testing/tests/mert-moses-new-nocase/truth/\n",
            "ubuntu-17.04/moses/scripts/regression-testing/tests/mert-moses-new-nocase/truth/results.dat\n",
            "ubuntu-17.04/moses/scripts/regression-testing/tests/mert-moses-new-nocase/reference.0\n",
            "ubuntu-17.04/moses/scripts/regression-testing/tests/mert-moses-new-nocase/command\n",
            "ubuntu-17.04/moses/scripts/regression-testing/tests/mert-moses-new/\n",
            "ubuntu-17.04/moses/scripts/regression-testing/tests/mert-moses-new/data/\n",
            "ubuntu-17.04/moses/scripts/regression-testing/tests/mert-moses-new/data/run4.TRANS.out\n",
            "ubuntu-17.04/moses/scripts/regression-testing/tests/mert-moses-new/data/run3.NBEST.out.gz\n",
            "ubuntu-17.04/moses/scripts/regression-testing/tests/mert-moses-new/data/run5.NBEST.out.gz\n",
            "ubuntu-17.04/moses/scripts/regression-testing/tests/mert-moses-new/data/run4.NBEST.out.gz\n",
            "ubuntu-17.04/moses/scripts/regression-testing/tests/mert-moses-new/data/run7.TRANS.out\n",
            "ubuntu-17.04/moses/scripts/regression-testing/tests/mert-moses-new/data/run5.TRANS.out\n",
            "ubuntu-17.04/moses/scripts/regression-testing/tests/mert-moses-new/data/run6.TRANS.out\n",
            "ubuntu-17.04/moses/scripts/regression-testing/tests/mert-moses-new/data/run2.TRANS.out\n",
            "ubuntu-17.04/moses/scripts/regression-testing/tests/mert-moses-new/data/run7.NBEST.out.gz\n",
            "ubuntu-17.04/moses/scripts/regression-testing/tests/mert-moses-new/data/run1.TRANS.out\n",
            "ubuntu-17.04/moses/scripts/regression-testing/tests/mert-moses-new/data/run6.NBEST.out.gz\n",
            "ubuntu-17.04/moses/scripts/regression-testing/tests/mert-moses-new/data/run2.NBEST.out.gz\n",
            "ubuntu-17.04/moses/scripts/regression-testing/tests/mert-moses-new/data/run1.NBEST.out.gz\n",
            "ubuntu-17.04/moses/scripts/regression-testing/tests/mert-moses-new/data/run3.TRANS.out\n",
            "ubuntu-17.04/moses/scripts/regression-testing/tests/mert-moses-new/data/archive.list\n",
            "ubuntu-17.04/moses/scripts/regression-testing/tests/mert-moses-new/moses.ini\n",
            "ubuntu-17.04/moses/scripts/regression-testing/tests/mert-moses-new/filter-stderr\n",
            "ubuntu-17.04/moses/scripts/regression-testing/tests/mert-moses-new/input\n",
            "ubuntu-17.04/moses/scripts/regression-testing/tests/mert-moses-new/reference.2\n",
            "ubuntu-17.04/moses/scripts/regression-testing/tests/mert-moses-new/filter-stdout\n",
            "ubuntu-17.04/moses/scripts/regression-testing/tests/mert-moses-new/reference.1\n",
            "ubuntu-17.04/moses/scripts/regression-testing/tests/mert-moses-new/truth/\n",
            "ubuntu-17.04/moses/scripts/regression-testing/tests/mert-moses-new/truth/results.dat\n",
            "ubuntu-17.04/moses/scripts/regression-testing/tests/mert-moses-new/reference.0\n",
            "ubuntu-17.04/moses/scripts/regression-testing/tests/mert-moses-new/command\n",
            "ubuntu-17.04/moses/scripts/regression-testing/tests/mert-moses-new-aggregate/\n",
            "ubuntu-17.04/moses/scripts/regression-testing/tests/mert-moses-new-aggregate/data/\n",
            "ubuntu-17.04/moses/scripts/regression-testing/tests/mert-moses-new-aggregate/data/run12.NBEST.out.gz\n",
            "ubuntu-17.04/moses/scripts/regression-testing/tests/mert-moses-new-aggregate/data/run4.TRANS.out\n",
            "ubuntu-17.04/moses/scripts/regression-testing/tests/mert-moses-new-aggregate/data/run3.NBEST.out.gz\n",
            "ubuntu-17.04/moses/scripts/regression-testing/tests/mert-moses-new-aggregate/data/run9.NBEST.out.gz\n",
            "ubuntu-17.04/moses/scripts/regression-testing/tests/mert-moses-new-aggregate/data/run5.NBEST.out.gz\n",
            "ubuntu-17.04/moses/scripts/regression-testing/tests/mert-moses-new-aggregate/data/run10.NBEST.out.gz\n",
            "ubuntu-17.04/moses/scripts/regression-testing/tests/mert-moses-new-aggregate/data/run12.TRANS.out\n",
            "ubuntu-17.04/moses/scripts/regression-testing/tests/mert-moses-new-aggregate/data/run4.NBEST.out.gz\n",
            "ubuntu-17.04/moses/scripts/regression-testing/tests/mert-moses-new-aggregate/data/run14.TRANS.out\n",
            "ubuntu-17.04/moses/scripts/regression-testing/tests/mert-moses-new-aggregate/data/run9.TRANS.out\n",
            "ubuntu-17.04/moses/scripts/regression-testing/tests/mert-moses-new-aggregate/data/run7.TRANS.out\n",
            "ubuntu-17.04/moses/scripts/regression-testing/tests/mert-moses-new-aggregate/data/run8.TRANS.out\n",
            "ubuntu-17.04/moses/scripts/regression-testing/tests/mert-moses-new-aggregate/data/run5.TRANS.out\n",
            "ubuntu-17.04/moses/scripts/regression-testing/tests/mert-moses-new-aggregate/data/run10.TRANS.out\n",
            "ubuntu-17.04/moses/scripts/regression-testing/tests/mert-moses-new-aggregate/data/run13.TRANS.out\n",
            "ubuntu-17.04/moses/scripts/regression-testing/tests/mert-moses-new-aggregate/data/run11.NBEST.out.gz\n",
            "ubuntu-17.04/moses/scripts/regression-testing/tests/mert-moses-new-aggregate/data/run11.TRANS.out\n",
            "ubuntu-17.04/moses/scripts/regression-testing/tests/mert-moses-new-aggregate/data/run6.TRANS.out\n",
            "ubuntu-17.04/moses/scripts/regression-testing/tests/mert-moses-new-aggregate/data/run14.NBEST.out.gz\n",
            "ubuntu-17.04/moses/scripts/regression-testing/tests/mert-moses-new-aggregate/data/run2.TRANS.out\n",
            "ubuntu-17.04/moses/scripts/regression-testing/tests/mert-moses-new-aggregate/data/run7.NBEST.out.gz\n",
            "ubuntu-17.04/moses/scripts/regression-testing/tests/mert-moses-new-aggregate/data/run8.NBEST.out.gz\n",
            "ubuntu-17.04/moses/scripts/regression-testing/tests/mert-moses-new-aggregate/data/run1.TRANS.out\n",
            "ubuntu-17.04/moses/scripts/regression-testing/tests/mert-moses-new-aggregate/data/run6.NBEST.out.gz\n",
            "ubuntu-17.04/moses/scripts/regression-testing/tests/mert-moses-new-aggregate/data/run2.NBEST.out.gz\n",
            "ubuntu-17.04/moses/scripts/regression-testing/tests/mert-moses-new-aggregate/data/run1.NBEST.out.gz\n",
            "ubuntu-17.04/moses/scripts/regression-testing/tests/mert-moses-new-aggregate/data/run13.NBEST.out.gz\n",
            "ubuntu-17.04/moses/scripts/regression-testing/tests/mert-moses-new-aggregate/data/run3.TRANS.out\n",
            "ubuntu-17.04/moses/scripts/regression-testing/tests/mert-moses-new-aggregate/data/archive.list\n",
            "ubuntu-17.04/moses/scripts/regression-testing/tests/mert-moses-new-aggregate/moses.ini\n",
            "ubuntu-17.04/moses/scripts/regression-testing/tests/mert-moses-new-aggregate/filter-stderr\n",
            "ubuntu-17.04/moses/scripts/regression-testing/tests/mert-moses-new-aggregate/input\n",
            "ubuntu-17.04/moses/scripts/regression-testing/tests/mert-moses-new-aggregate/reference.2\n",
            "ubuntu-17.04/moses/scripts/regression-testing/tests/mert-moses-new-aggregate/filter-stdout\n",
            "ubuntu-17.04/moses/scripts/regression-testing/tests/mert-moses-new-aggregate/reference.1\n",
            "ubuntu-17.04/moses/scripts/regression-testing/tests/mert-moses-new-aggregate/truth/\n",
            "ubuntu-17.04/moses/scripts/regression-testing/tests/mert-moses-new-aggregate/truth/results.dat\n",
            "ubuntu-17.04/moses/scripts/regression-testing/tests/mert-moses-new-aggregate/reference.0\n",
            "ubuntu-17.04/moses/scripts/regression-testing/tests/mert-moses-new-aggregate/command\n",
            "ubuntu-17.04/moses/scripts/regression-testing/moses-virtual\n",
            "ubuntu-17.04/moses/scripts/regression-testing/MosesScriptsRegressionTesting.pm\n",
            "ubuntu-17.04/moses/scripts/regression-testing/run-single-test.pl\n",
            "ubuntu-17.04/moses/scripts/regression-testing/run-test-suite.pl\n",
            "ubuntu-17.04/moses/scripts/regression-testing/create_localized_moses_ini.pl\n",
            "ubuntu-17.04/moses/scripts/regression-testing/moses-virtual.pl\n",
            "ubuntu-17.04/moses/scripts/regression-testing/compare-results.pl\n",
            "ubuntu-17.04/moses/scripts/regression-testing/modify-pars.pl\n",
            "ubuntu-17.04/moses/bin/\n",
            "ubuntu-17.04/moses/bin/queryPhraseTableMin\n",
            "ubuntu-17.04/moses/bin/build_binary\n",
            "ubuntu-17.04/moses/bin/lexical-reordering-score\n",
            "ubuntu-17.04/moses/bin/relax-parse\n",
            "ubuntu-17.04/moses/bin/biconcor\n",
            "ubuntu-17.04/moses/bin/extract-lex\n",
            "ubuntu-17.04/moses/bin/symal2mam\n",
            "ubuntu-17.04/moses/bin/1-1-Extraction\n",
            "ubuntu-17.04/moses/bin/moses2\n",
            "ubuntu-17.04/moses/bin/filter\n",
            "ubuntu-17.04/moses/bin/lmbrgrid\n",
            "ubuntu-17.04/moses/bin/merge-sorted\n",
            "ubuntu-17.04/moses/bin/pcfg-score\n",
            "ubuntu-17.04/moses/bin/queryOnDiskPt\n",
            "ubuntu-17.04/moses/bin/project-cache.jam\n",
            "ubuntu-17.04/moses/bin/score-stsg\n",
            "ubuntu-17.04/moses/bin/addLexROtoPT\n",
            "ubuntu-17.04/moses/bin/CreateProbingPT2\n",
            "ubuntu-17.04/moses/bin/generateSequences\n",
            "ubuntu-17.04/moses/bin/vwtrainer\n",
            "ubuntu-17.04/moses/bin/statistics\n",
            "ubuntu-17.04/moses/bin/consolidate-reverse\n",
            "ubuntu-17.04/moses/bin/score\n",
            "ubuntu-17.04/moses/bin/extract-mixed-syntax\n",
            "ubuntu-17.04/moses/bin/mert\n",
            "ubuntu-17.04/moses/bin/query\n",
            "ubuntu-17.04/moses/bin/phrase_table_vocab\n",
            "ubuntu-17.04/moses/bin/config.log\n",
            "ubuntu-17.04/moses/bin/hgdecode\n",
            "ubuntu-17.04/moses/bin/mtt-build\n",
            "ubuntu-17.04/moses/bin/kenlm_benchmark\n",
            "ubuntu-17.04/moses/bin/consolidate-direct\n",
            "ubuntu-17.04/moses/bin/CreateProbingPT\n",
            "ubuntu-17.04/moses/bin/extract-ghkm\n",
            "ubuntu-17.04/moses/bin/pro\n",
            "ubuntu-17.04/moses/bin/dump_counts\n",
            "ubuntu-17.04/moses/bin/pcfg-extract\n",
            "ubuntu-17.04/moses/bin/pruneGeneration\n",
            "ubuntu-17.04/moses/bin/phrase-lookup\n",
            "ubuntu-17.04/moses/bin/evaluator\n",
            "ubuntu-17.04/moses/bin/prunePhraseTable\n",
            "ubuntu-17.04/moses/bin/kbmira\n",
            "ubuntu-17.04/moses/bin/sentence-bleu\n",
            "ubuntu-17.04/moses/bin/extract-rules\n",
            "ubuntu-17.04/moses/bin/filter-rule-table\n",
            "ubuntu-17.04/moses/bin/fragment\n",
            "ubuntu-17.04/moses/bin/moses\n",
            "ubuntu-17.04/moses/bin/moses_chart\n",
            "ubuntu-17.04/moses/bin/gcc-6.3.0/\n",
            "ubuntu-17.04/moses/bin/gcc-6.3.0/debug/\n",
            "ubuntu-17.04/moses/bin/gcc-6.3.0/debug/empty_test_shared.o\n",
            "ubuntu-17.04/moses/bin/gcc-6.3.0/debug/empty_test_static\n",
            "ubuntu-17.04/moses/bin/gcc-6.3.0/debug/empty_test_static.o\n",
            "ubuntu-17.04/moses/bin/gcc-6.3.0/debug/empty_test_shared\n",
            "ubuntu-17.04/moses/bin/processLexicalTableMin\n",
            "ubuntu-17.04/moses/bin/queryLexicalTable\n",
            "ubuntu-17.04/moses/bin/CreateOnDiskPt\n",
            "ubuntu-17.04/moses/bin/sentence-bleu-nbest\n",
            "ubuntu-17.04/moses/bin/processPhraseTableMin\n",
            "ubuntu-17.04/moses/bin/lmplz\n",
            "ubuntu-17.04/moses/bin/symal\n",
            "ubuntu-17.04/moses/bin/postprocess-egret-forests\n",
            "ubuntu-17.04/moses/bin/extract\n",
            "ubuntu-17.04/moses/bin/consolidate\n",
            "ubuntu-17.04/moses/bin/extractor\n",
            "ubuntu-17.04/moses/bin/mmlex-build\n",
            "ubuntu-17.04/moses/bin/mosesserver\n",
            "ubuntu-17.04/moses/bin/train-expected-bleu\n",
            "ubuntu-17.04/moses/bin/TMining\n",
            "ubuntu-17.04/moses/bin/processLexicalTable\n",
            "ubuntu-17.04/moses/bin/prepare-expected-bleu-training\n"
          ],
          "name": "stdout"
        }
      ]
    },
    {
      "cell_type": "markdown",
      "metadata": {
        "id": "EPQ7Bpcln6x9"
      },
      "source": [
        "This is the repo which contains the parallel data we are going to use."
      ]
    },
    {
      "cell_type": "code",
      "metadata": {
        "id": "aCYNy9nyAOHP",
        "colab": {
          "base_uri": "https://localhost:8080/"
        },
        "outputId": "1e98d6ef-6ed2-4902-b5bc-91e58ce654d8"
      },
      "source": [
        "# Cloning our repo\n",
        "%cd /content\n",
        "!git clone https://github.com/priyanshu2103/Sanskrit-Hindi-Machine-Translation.git"
      ],
      "execution_count": 20,
      "outputs": [
        {
          "output_type": "stream",
          "text": [
            "/content\n",
            "Cloning into 'Sanskrit-Hindi-Machine-Translation'...\n",
            "remote: Enumerating objects: 61, done.\u001b[K\n",
            "remote: Counting objects: 100% (61/61), done.\u001b[K\n",
            "remote: Compressing objects: 100% (48/48), done.\u001b[K\n",
            "remote: Total 61 (delta 13), reused 55 (delta 10), pack-reused 0\u001b[K\n",
            "Unpacking objects: 100% (61/61), done.\n"
          ],
          "name": "stdout"
        }
      ]
    },
    {
      "cell_type": "markdown",
      "metadata": {
        "id": "OtVO52SeoX6H"
      },
      "source": [
        "We are using indic-nlp library for sanskrit text tokenization."
      ]
    },
    {
      "cell_type": "code",
      "metadata": {
        "id": "ciaAsTbZ__TX",
        "colab": {
          "base_uri": "https://localhost:8080/"
        },
        "outputId": "6dc2e84a-83bd-4450-9ca8-a8083a9d2474"
      },
      "source": [
        "# Install indic-nlp for tokenization\n",
        "!pip install indic-nlp-library\n",
        "!cp /content/Sanskrit-Hindi-Machine-Translation/indic_tokenize.py /usr/local/lib/python3.6/dist-packages/indicnlp/tokenize/indic_tokenize.py"
      ],
      "execution_count": 21,
      "outputs": [
        {
          "output_type": "stream",
          "text": [
            "Requirement already satisfied: indic-nlp-library in /usr/local/lib/python3.6/dist-packages (0.71)\n",
            "Requirement already satisfied: numpy in /usr/local/lib/python3.6/dist-packages (from indic-nlp-library) (1.18.5)\n",
            "Requirement already satisfied: pandas in /usr/local/lib/python3.6/dist-packages (from indic-nlp-library) (1.1.4)\n",
            "Requirement already satisfied: morfessor in /usr/local/lib/python3.6/dist-packages (from indic-nlp-library) (2.0.6)\n",
            "Requirement already satisfied: python-dateutil>=2.7.3 in /usr/local/lib/python3.6/dist-packages (from pandas->indic-nlp-library) (2.8.1)\n",
            "Requirement already satisfied: pytz>=2017.2 in /usr/local/lib/python3.6/dist-packages (from pandas->indic-nlp-library) (2018.9)\n",
            "Requirement already satisfied: six>=1.5 in /usr/local/lib/python3.6/dist-packages (from python-dateutil>=2.7.3->pandas->indic-nlp-library) (1.15.0)\n"
          ],
          "name": "stdout"
        }
      ]
    },
    {
      "cell_type": "code",
      "metadata": {
        "id": "_vINDHRO2xdg",
        "colab": {
          "base_uri": "https://localhost:8080/"
        },
        "outputId": "2d6266fa-3020-43ba-b4fd-fea75546b62a"
      },
      "source": [
        "# Extracting the parallel data into lists\n",
        "%cd /content/Sanskrit-Hindi-Machine-Translation/parallel-corpus/sanskrit-english/\n",
        "\n",
        "eng_lines = []\n",
        "sanskrit_lines = []\n",
        "\n",
        "with open('bhagvadgita_english.txt', 'r') as f:\n",
        "  eng_lines.extend([x.replace('\\n', '') for x in f.readlines()])\n",
        "\n",
        "with open('bible_english.txt', 'r') as f:\n",
        "  eng_lines.extend([x.replace('\\n', '') for x in f.readlines()])\n",
        "\n",
        "with open('manu_english.txt', 'r') as f:\n",
        "  eng_lines.extend([x.replace('\\n', '') for x in f.readlines()])\n",
        "\n",
        "with open('ramayan_english.txt', 'r') as f:\n",
        "  eng_lines.extend([x.replace('\\n', '') for x in f.readlines()])\n",
        "\n",
        "with open('rigveda_english.txt', 'r') as f:\n",
        "  eng_lines.extend([x.replace('\\n', '') for x in f.readlines()])\n",
        "\n",
        "\n",
        "\n",
        "with open('bhagvadgita_sanskrit.txt', 'r') as f:\n",
        "  sanskrit_lines.extend([x.replace('\\n', '') for x in f.readlines()])\n",
        "\n",
        "with open('bible_sanskrit.txt', 'r') as f:\n",
        "  sanskrit_lines.extend([x.replace('\\n', '') for x in f.readlines()])\n",
        "\n",
        "with open('manu_sanskrit.txt', 'r') as f:\n",
        "  sanskrit_lines.extend([x.replace('\\n', '') for x in f.readlines()])\n",
        "\n",
        "with open('ramayan_sanskrit.txt', 'r') as f:\n",
        "  sanskrit_lines.extend([x.replace('\\n', '') for x in f.readlines()])\n",
        "\n",
        "with open('rigveda_sanskrit.txt', 'r') as f:\n",
        "  sanskrit_lines.extend([x.replace('\\n', '') for x in f.readlines()])\n",
        "\n",
        "# print(eng_lines[:100])\n",
        "# print(sanskrit_lines[:100])\n",
        "\n",
        "print(len(eng_lines))\n",
        "print(len(sanskrit_lines))"
      ],
      "execution_count": 6,
      "outputs": [
        {
          "output_type": "stream",
          "text": [
            "/content\n",
            "/content/corpus\n",
            "/content/corpus/training\n"
          ],
          "name": "stdout"
        }
      ]
    },
    {
      "cell_type": "code",
      "metadata": {
        "id": "vISkiQdApCog"
      },
      "source": [
        "# Randomly shuffling the data into training and dev set, the test data is already provided on github\n",
        "import random\n",
        "c = list(zip(sanskrit_lines, eng_lines))\n",
        "random.shuffle(c)\n",
        "\n",
        "sanskrit_lines, eng_lines = zip(*c)\n",
        "\n",
        "train_text_sa = sanskrit_lines[:-1374]\n",
        "train_text_en = eng_lines[:-1374]\n",
        "\n",
        "dev_text_sa = sanskrit_lines[-1374:]\n",
        "dev_text_en = eng_lines[-1374:]"
      ],
      "execution_count": null,
      "outputs": []
    },
    {
      "cell_type": "code",
      "metadata": {
        "id": "M8oFbearpX4j"
      },
      "source": [
        "# Setting up the required files\n",
        "%cd /content\n",
        "!mkdir -p corpus\n",
        "%cd corpus\n",
        "!mkdir -p training\n",
        "%cd training\n",
        "\n",
        "with open('parallel.sa-en.sa', 'w') as f:\n",
        "  for line in train_text_sa:\n",
        "    f.write(line + '\\n')\n",
        "\n",
        "with open('parallel.sa-en.en', 'w') as f:\n",
        "  for line in train_text_en:\n",
        "    f.write(line + '\\n')\n",
        "\n",
        "!mkdir -p /content/corpus/dev\n",
        "%cd /content/corpus/dev\n",
        "with open('dev.sa-en.sa', 'w') as f:\n",
        "  for line in dev_text_sa:\n",
        "    f.write(line + '\\n')\n",
        "\n",
        "with open('dev.sa-en.en', 'w') as f:\n",
        "  for line in dev_text_en:\n",
        "    f.write(line + '\\n')"
      ],
      "execution_count": null,
      "outputs": []
    },
    {
      "cell_type": "code",
      "metadata": {
        "id": "Cg6LQPb2349I",
        "colab": {
          "base_uri": "https://localhost:8080/"
        },
        "outputId": "8a2c2e31-a3dc-485d-f2cd-3625d5a53e80"
      },
      "source": [
        "%cd /content"
      ],
      "execution_count": 16,
      "outputs": [
        {
          "output_type": "stream",
          "text": [
            "/content\n"
          ],
          "name": "stdout"
        }
      ]
    },
    {
      "cell_type": "code",
      "metadata": {
        "id": "y6AGdiPn5_Vc",
        "colab": {
          "base_uri": "https://localhost:8080/"
        },
        "outputId": "5ec1159e-de3e-4f99-9c18-1d437287f25c"
      },
      "source": [
        "!ubuntu-17.04/moses/scripts/tokenizer/tokenizer.perl -l en \\\n",
        "    < /content/corpus/training/parallel.sa-en.en    \\\n",
        "    > /content/corpus/parallel.sa-en.tok.en\n",
        "\n",
        "!python /usr/local/lib/python3.6/dist-packages/indicnlp/tokenize/indic_tokenize.py /content/corpus/training/parallel.sa-en.sa /content/corpus/parallel.sa-en.tok.sa sa"
      ],
      "execution_count": 22,
      "outputs": [
        {
          "output_type": "stream",
          "text": [
            "Tokenizer Version 1.1\n",
            "Language: en\n",
            "Number of threads: 1\n"
          ],
          "name": "stdout"
        }
      ]
    },
    {
      "cell_type": "code",
      "metadata": {
        "id": "Ny_AvMqJ6KJm"
      },
      "source": [
        "!ubuntu-17.04/moses/scripts/recaser/train-truecaser.perl \\\n",
        "     --model /content/corpus/truecase-model.en --corpus     \\\n",
        "     /content/corpus/parallel.sa-en.tok.en\n",
        "!ubuntu-17.04/moses/scripts/recaser/train-truecaser.perl \\\n",
        "     --model /content/corpus/truecase-model.sa --corpus     \\\n",
        "     /content/corpus/parallel.sa-en.tok.sa"
      ],
      "execution_count": 23,
      "outputs": []
    },
    {
      "cell_type": "code",
      "metadata": {
        "id": "92YuccWo64li"
      },
      "source": [
        "!ubuntu-17.04/moses/scripts/recaser/truecase.perl \\\n",
        "   --model /content/corpus/truecase-model.en         \\\n",
        "   < /content/corpus/parallel.sa-en.tok.en \\\n",
        "   > /content/corpus/parallel.sa-en.true.en\n",
        "!ubuntu-17.04/moses/scripts/recaser/truecase.perl \\\n",
        "   --model /content/corpus/truecase-model.sa  \\\n",
        "   < /content/corpus/parallel.sa-en.tok.sa \\\n",
        "   > /content/corpus/parallel.sa-en.true.sa"
      ],
      "execution_count": 24,
      "outputs": []
    },
    {
      "cell_type": "code",
      "metadata": {
        "id": "mlCJlOJU7pge",
        "colab": {
          "base_uri": "https://localhost:8080/"
        },
        "outputId": "5e9b2cf3-5a62-4881-fdf2-364e580b9825"
      },
      "source": [
        "!/content/ubuntu-17.04/moses/scripts/training/clean-corpus-n.perl \\\n",
        "    /content/corpus/parallel.sa-en.true sa en \\\n",
        "    /content/corpus/parallel.sa-en.clean 1 300"
      ],
      "execution_count": 25,
      "outputs": [
        {
          "output_type": "stream",
          "text": [
            "clean-corpus.perl: processing /content/corpus/parallel.sa-en.true.sa & .en to /content/corpus/parallel.sa-en.clean, cutoff 1-300, ratio 9\n",
            "..\n",
            "Input sentences: 26887  Output sentences:  26723\n"
          ],
          "name": "stdout"
        }
      ]
    },
    {
      "cell_type": "code",
      "metadata": {
        "id": "yk23m2Rr73l6",
        "colab": {
          "base_uri": "https://localhost:8080/"
        },
        "outputId": "5dde1f3a-5130-42d9-eca7-e7286bd7f560"
      },
      "source": [
        "!mkdir -p /content/lm\n",
        "%cd /content/lm\n",
        "!/content/ubuntu-17.04/moses/bin/lmplz -o 3 < /content/corpus/parallel.sa-en.true.en > parallel.sa-en.arpa.en"
      ],
      "execution_count": 26,
      "outputs": [
        {
          "output_type": "stream",
          "text": [
            "/content/lm\n",
            "=== 1/5 Counting and sorting n-grams ===\n",
            "Reading /content/corpus/parallel.sa-en.true.en\n",
            "----5---10---15---20---25---30---35---40---45---50---55---60---65---70---75---80---85---90---95--100\n",
            "tcmalloc: large alloc 2514862080 bytes == 0x559b41154000 @  0x7f470dade1e7 0x559b3fba73f4 0x559b3fc23900 0x559b3fc12800 0x559b3fb65110 0x7f470c975bf7 0x559b3fb66aca\n",
            "tcmalloc: large alloc 8382865408 bytes == 0x559bd6fb0000 @  0x7f470dade1e7 0x559b3fba73f4 0x559b3fbfea3e 0x559b3fbff3fe 0x559b3fc12817 0x559b3fb65110 0x7f470c975bf7 0x559b3fb66aca\n",
            "****************************************************************************************************\n",
            "Unigram tokens 665185 types 20605\n",
            "=== 2/5 Calculating and sorting adjusted counts ===\n",
            "Chain sizes: 1:247260 2:3799177216 3:7123457536\n",
            "tcmalloc: large alloc 7123460096 bytes == 0x559b41154000 @  0x7f470dade1e7 0x559b3fba73f4 0x559b3fbfea3e 0x559b3fbff3fe 0x559b3fc12d5d 0x559b3fb65110 0x7f470c975bf7 0x559b3fb66aca\n",
            "tcmalloc: large alloc 3799179264 bytes == 0x559dcb2e2000 @  0x7f470dade1e7 0x559b3fba73f4 0x559b3fbfea3e 0x559b3fbff3fe 0x559b3fc13195 0x559b3fb65110 0x7f470c975bf7 0x559b3fb66aca\n",
            "Statistics:\n",
            "1 20605 D1=0.644043 D2=0.945207 D3+=1.20223\n",
            "2 201427 D1=0.76763 D2=1.11293 D3+=1.38072\n",
            "3 411095 D1=0.861493 D2=1.20575 D3+=1.23266\n",
            "Memory estimate for binary LM:\n",
            "type       kB\n",
            "probing 12470 assuming -p 1.5\n",
            "probing 13731 assuming -r models -p 1.5\n",
            "trie     5176 without quantization\n",
            "trie     2869 assuming -q 8 -b 8 quantization \n",
            "trie     4906 assuming -a 22 array pointer compression\n",
            "trie     2599 assuming -a 22 -q 8 -b 8 array pointer compression and quantization\n",
            "=== 3/5 Calculating and sorting initial probabilities ===\n",
            "Chain sizes: 1:247260 2:3222832 3:8221900\n",
            "----5---10---15---20---25---30---35---40---45---50---55---60---65---70---75---80---85---90---95--100\n",
            "####################################################################################################\n",
            "=== 4/5 Calculating and writing order-interpolated probabilities ===\n",
            "Chain sizes: 1:247260 2:3222832 3:8221900\n",
            "----5---10---15---20---25---30---35---40---45---50---55---60---65---70---75---80---85---90---95--100\n",
            "####################################################################################################\n",
            "=== 5/5 Writing ARPA model ===\n",
            "Name:lmplz\tVmPeak:14603324 kB\tVmRSS:2500596 kB\tRSSMax:2505716 kB\tuser:1.09953\tsys:2.04658\tCPU:3.14611\treal:3.13772\n"
          ],
          "name": "stdout"
        }
      ]
    },
    {
      "cell_type": "code",
      "metadata": {
        "id": "-5SWolBl8MvQ",
        "colab": {
          "base_uri": "https://localhost:8080/"
        },
        "outputId": "46d9ab80-6e39-45cd-edc4-fc409e63c310"
      },
      "source": [
        "!/content/ubuntu-17.04/moses/bin/build_binary parallel.sa-en.arpa.en parallel.sa-en.blm.en"
      ],
      "execution_count": 27,
      "outputs": [
        {
          "output_type": "stream",
          "text": [
            "Reading parallel.sa-en.arpa.en\n",
            "----5---10---15---20---25---30---35---40---45---50---55---60---65---70---75---80---85---90---95--100\n",
            "****************************************************************************************************\n",
            "SUCCESS\n"
          ],
          "name": "stdout"
        }
      ]
    },
    {
      "cell_type": "code",
      "metadata": {
        "id": "ChwKtkY-8nDM",
        "colab": {
          "base_uri": "https://localhost:8080/"
        },
        "outputId": "807e6986-ab30-4f17-86dc-617fcea26345"
      },
      "source": [
        "!echo \"is this an English sentence ?\"                       \\\n",
        "   | /content/ubuntu-17.04/moses/bin/query parallel.sa-en.blm.en"
      ],
      "execution_count": 28,
      "outputs": [
        {
          "output_type": "stream",
          "text": [
            "is=37 1 -6.564294\tthis=69 2 -1.904331\tan=621 2 -3.3780825\tEnglish=0 1 -5.777322\tsentence=481 1 -4.7360168\t?=0 1 -5.5146914\t</s>=2 1 -5.204671\tTotal: -33.079407 OOV: 2\n",
            "Perplexity including OOVs:\t53165.45488211808\n",
            "Perplexity excluding OOVs:\t22776.066071282476\n",
            "OOVs:\t2\n",
            "Tokens:\t7\n",
            "Name:query\tVmPeak:50728 kB\tVmRSS:6156 kB\tRSSMax:18236 kB\tuser:0.002063\tsys:0.002063\tCPU:0.004126\treal:0.00145599\n"
          ],
          "name": "stdout"
        }
      ]
    },
    {
      "cell_type": "code",
      "metadata": {
        "id": "sngxz8e09LPy",
        "colab": {
          "base_uri": "https://localhost:8080/"
        },
        "outputId": "63580a63-8bdb-46c3-a106-4f3a83addf05"
      },
      "source": [
        "!mkdir -p /content/working\n",
        "%cd /content/working\n",
        "!nohup nice /content/ubuntu-17.04/moses/scripts/training/train-model.perl -root-dir train \\\n",
        " -mgiza \\\n",
        " -corpus /content/corpus/parallel.sa-en.clean \\\n",
        " -f sa -e en -alignment grow-diag-final-and -reordering msd-bidirectional-fe \\\n",
        " -lm 0:3:/content/lm/parallel.sa-en.blm.en:8                          \\\n",
        " -cores 4 \\\n",
        " -external-bin-dir /content/ubuntu-17.04/training-tools >& training.out &"
      ],
      "execution_count": 35,
      "outputs": [
        {
          "output_type": "stream",
          "text": [
            "/content/working\n"
          ],
          "name": "stdout"
        }
      ]
    },
    {
      "cell_type": "code",
      "metadata": {
        "id": "lVWXpK5LSt-b"
      },
      "source": [
        "!mkdir -p /content/corpus/dev\n",
        "!cp /content/working/drive/MyDrive/sans-eng\\ parallel\\ corpus/bible_english.txt /content/corpus/dev/dev_text.en\n",
        "!cp /content/working/drive/MyDrive/sans-eng\\ parallel\\ corpus/bible_sanskrit.txt /content/corpus/dev/dev_text.sa"
      ],
      "execution_count": 37,
      "outputs": []
    },
    {
      "cell_type": "code",
      "metadata": {
        "colab": {
          "base_uri": "https://localhost:8080/"
        },
        "id": "K3k_DDpfQF12",
        "outputId": "905faa89-3367-4bd4-9c08-346fb05b113d"
      },
      "source": [
        "%cd /content/corpus\n",
        "!/content/ubuntu-17.04/moses/scripts/tokenizer/tokenizer.perl -l en \\\n",
        "   < dev/dev_text.en > dev_text.tok.en\n",
        "!python /usr/local/lib/python3.6/dist-packages/indicnlp/tokenize/indic_tokenize.py /content/corpus/dev/dev_text.sa /content/corpus/dev_text.tok.sa sa\n",
        "\n",
        "!/content/ubuntu-17.04/moses/scripts/recaser/truecase.perl --model truecase-model.en \\\n",
        "   < dev_text.tok.en > dev_text.true.en\n",
        "!/content/ubuntu-17.04/moses/scripts/recaser/truecase.perl --model truecase-model.sa \\\n",
        "   < dev_text.tok.sa > dev_text.true.sa"
      ],
      "execution_count": 41,
      "outputs": [
        {
          "output_type": "stream",
          "text": [
            "/content/corpus\n",
            "Tokenizer Version 1.1\n",
            "Language: en\n",
            "Number of threads: 1\n"
          ],
          "name": "stdout"
        }
      ]
    },
    {
      "cell_type": "code",
      "metadata": {
        "colab": {
          "base_uri": "https://localhost:8080/"
        },
        "id": "Q4_5FRGRThMk",
        "outputId": "d655452c-93bb-4723-f345-3f368f658d0e"
      },
      "source": [
        "%cd /content/working\n",
        "!nohup nice /content/ubuntu-17.04/moses/scripts/training/mert-moses.pl \\\n",
        "  /content/corpus/dev_text.true.sa /content/corpus/dev_text.true.en \\\n",
        "  /content/ubuntu-17.04/moses/bin/moses train/model/moses.ini --mertdir /content/ubuntu-17.04/moses/bin/ \\\n",
        "  --decoder-flags=\"-threads 4\" \\\n",
        "  &> mert.out &"
      ],
      "execution_count": 42,
      "outputs": [
        {
          "output_type": "stream",
          "text": [
            "/content/working\n"
          ],
          "name": "stdout"
        }
      ]
    },
    {
      "cell_type": "code",
      "metadata": {
        "colab": {
          "base_uri": "https://localhost:8080/"
        },
        "id": "8z_PWJgFUtkQ",
        "outputId": "400e734c-6972-4f0a-8680-4615efafc151"
      },
      "source": [
        "!pip install googletrans"
      ],
      "execution_count": 43,
      "outputs": [
        {
          "output_type": "stream",
          "text": [
            "Collecting googletrans\n",
            "  Downloading https://files.pythonhosted.org/packages/71/3a/3b19effdd4c03958b90f40fe01c93de6d5280e03843cc5adf6956bfc9512/googletrans-3.0.0.tar.gz\n",
            "Collecting httpx==0.13.3\n",
            "\u001b[?25l  Downloading https://files.pythonhosted.org/packages/54/b4/698b284c6aed4d7c2b4fe3ba5df1fcf6093612423797e76fbb24890dd22f/httpx-0.13.3-py3-none-any.whl (55kB)\n",
            "\u001b[K     |████████████████████████████████| 61kB 3.0MB/s \n",
            "\u001b[?25hCollecting hstspreload\n",
            "\u001b[?25l  Downloading https://files.pythonhosted.org/packages/fe/f4/a290dfbc9cfebf7957c63e8caca5b80caddfd1d7721821a3e8b40a399923/hstspreload-2020.10.20-py3-none-any.whl (972kB)\n",
            "\u001b[K     |████████████████████████████████| 972kB 6.3MB/s \n",
            "\u001b[?25hCollecting rfc3986<2,>=1.3\n",
            "  Downloading https://files.pythonhosted.org/packages/78/be/7b8b99fd74ff5684225f50dd0e865393d2265656ef3b4ba9eaaaffe622b8/rfc3986-1.4.0-py2.py3-none-any.whl\n",
            "Requirement already satisfied: idna==2.* in /usr/local/lib/python3.6/dist-packages (from httpx==0.13.3->googletrans) (2.10)\n",
            "Requirement already satisfied: certifi in /usr/local/lib/python3.6/dist-packages (from httpx==0.13.3->googletrans) (2020.6.20)\n",
            "Collecting sniffio\n",
            "  Downloading https://files.pythonhosted.org/packages/52/b0/7b2e028b63d092804b6794595871f936aafa5e9322dcaaad50ebf67445b3/sniffio-1.2.0-py3-none-any.whl\n",
            "Requirement already satisfied: chardet==3.* in /usr/local/lib/python3.6/dist-packages (from httpx==0.13.3->googletrans) (3.0.4)\n",
            "Collecting httpcore==0.9.*\n",
            "\u001b[?25l  Downloading https://files.pythonhosted.org/packages/dd/d5/e4ff9318693ac6101a2095e580908b591838c6f33df8d3ee8dd953ba96a8/httpcore-0.9.1-py3-none-any.whl (42kB)\n",
            "\u001b[K     |████████████████████████████████| 51kB 5.5MB/s \n",
            "\u001b[?25hCollecting contextvars>=2.1; python_version < \"3.7\"\n",
            "  Downloading https://files.pythonhosted.org/packages/83/96/55b82d9f13763be9d672622e1b8106c85acb83edd7cc2fa5bc67cd9877e9/contextvars-2.4.tar.gz\n",
            "Collecting h11<0.10,>=0.8\n",
            "\u001b[?25l  Downloading https://files.pythonhosted.org/packages/5a/fd/3dad730b0f95e78aeeb742f96fa7bbecbdd56a58e405d3da440d5bfb90c6/h11-0.9.0-py2.py3-none-any.whl (53kB)\n",
            "\u001b[K     |████████████████████████████████| 61kB 6.3MB/s \n",
            "\u001b[?25hCollecting h2==3.*\n",
            "\u001b[?25l  Downloading https://files.pythonhosted.org/packages/25/de/da019bcc539eeab02f6d45836f23858ac467f584bfec7a526ef200242afe/h2-3.2.0-py2.py3-none-any.whl (65kB)\n",
            "\u001b[K     |████████████████████████████████| 71kB 6.4MB/s \n",
            "\u001b[?25hCollecting immutables>=0.9\n",
            "\u001b[?25l  Downloading https://files.pythonhosted.org/packages/99/e0/ea6fd4697120327d26773b5a84853f897a68e33d3f9376b00a8ff96e4f63/immutables-0.14-cp36-cp36m-manylinux1_x86_64.whl (98kB)\n",
            "\u001b[K     |████████████████████████████████| 102kB 8.0MB/s \n",
            "\u001b[?25hCollecting hpack<4,>=3.0\n",
            "  Downloading https://files.pythonhosted.org/packages/8a/cc/e53517f4a1e13f74776ca93271caef378dadec14d71c61c949d759d3db69/hpack-3.0.0-py2.py3-none-any.whl\n",
            "Collecting hyperframe<6,>=5.2.0\n",
            "  Downloading https://files.pythonhosted.org/packages/19/0c/bf88182bcb5dce3094e2f3e4fe20db28a9928cb7bd5b08024030e4b140db/hyperframe-5.2.0-py2.py3-none-any.whl\n",
            "Building wheels for collected packages: googletrans, contextvars\n",
            "  Building wheel for googletrans (setup.py) ... \u001b[?25l\u001b[?25hdone\n",
            "  Created wheel for googletrans: filename=googletrans-3.0.0-cp36-none-any.whl size=15736 sha256=ad35b4f7f7fa992232c3ea6ec75591320a7764c677f90f122f7a43a4429c92cc\n",
            "  Stored in directory: /root/.cache/pip/wheels/28/1a/a7/eaf4d7a3417a0c65796c547cff4deb6d79c7d14c2abd29273e\n",
            "  Building wheel for contextvars (setup.py) ... \u001b[?25l\u001b[?25hdone\n",
            "  Created wheel for contextvars: filename=contextvars-2.4-cp36-none-any.whl size=7666 sha256=8693d6d54e31f2055adb2a24e44628a30de29e573292d79c3020f1ab50eb4e79\n",
            "  Stored in directory: /root/.cache/pip/wheels/a5/7d/68/1ebae2668bda2228686e3c1cf16f2c2384cea6e9334ad5f6de\n",
            "Successfully built googletrans contextvars\n",
            "Installing collected packages: hstspreload, rfc3986, immutables, contextvars, sniffio, h11, hpack, hyperframe, h2, httpcore, httpx, googletrans\n",
            "Successfully installed contextvars-2.4 googletrans-3.0.0 h11-0.9.0 h2-3.2.0 hpack-3.0.0 hstspreload-2020.10.20 httpcore-0.9.1 httpx-0.13.3 hyperframe-5.2.0 immutables-0.14 rfc3986-1.4.0 sniffio-1.2.0\n"
          ],
          "name": "stdout"
        }
      ]
    },
    {
      "cell_type": "code",
      "metadata": {
        "colab": {
          "base_uri": "https://localhost:8080/"
        },
        "id": "oEyx4_EfxUJ9",
        "outputId": "0355ce3c-5c28-43e8-8a02-db813d8cf84d"
      },
      "source": [
        "!/content/ubuntu-17.04/moses/bin/moses -f /content/working/mert-work/moses.ini"
      ],
      "execution_count": 48,
      "outputs": [
        {
          "output_type": "stream",
          "text": [
            "Defined parameters (per moses.ini or switch):\n",
            "\tconfig: /content/working/mert-work/moses.ini \n",
            "\tdistortion-limit: 6 \n",
            "\tfeature: UnknownWordPenalty WordPenalty PhrasePenalty PhraseDictionaryMemory name=TranslationModel0 num-features=4 path=/content/working/train/model/phrase-table.gz input-factor=0 output-factor=0 LexicalReordering name=LexicalReordering0 num-features=6 type=wbe-msd-bidirectional-fe-allff input-factor=0 output-factor=0 path=/content/working/train/model/reordering-table.wbe-msd-bidirectional-fe.gz Distortion KENLM name=LM0 factor=0 path=/content/lm/parallel.sa-en.blm.en order=3 \n",
            "\tinput-factors: 0 \n",
            "\tmapping: 0 T 0 \n",
            "\tthreads: 48 \n",
            "\tweight: LexicalReordering0= 0.0864738 0.00939731 0.0217044 0.0602748 0.0552573 0.00817419 Distortion0= 0.00273384 LM0= 0.0214872 WordPenalty0= -0.188945 PhrasePenalty0= -0.470726 TranslationModel0= 0.00428964 0.00768241 -0.0339488 0.0289053 UnknownWordPenalty0= 1 \n",
            "line=UnknownWordPenalty\n",
            "FeatureFunction: UnknownWordPenalty0 start: 0 end: 0\n",
            "line=WordPenalty\n",
            "FeatureFunction: WordPenalty0 start: 1 end: 1\n",
            "line=PhrasePenalty\n",
            "FeatureFunction: PhrasePenalty0 start: 2 end: 2\n",
            "line=PhraseDictionaryMemory name=TranslationModel0 num-features=4 path=/content/working/train/model/phrase-table.gz input-factor=0 output-factor=0\n",
            "FeatureFunction: TranslationModel0 start: 3 end: 6\n",
            "line=LexicalReordering name=LexicalReordering0 num-features=6 type=wbe-msd-bidirectional-fe-allff input-factor=0 output-factor=0 path=/content/working/train/model/reordering-table.wbe-msd-bidirectional-fe.gz\n",
            "Initializing Lexical Reordering Feature..\n",
            "FeatureFunction: LexicalReordering0 start: 7 end: 12\n",
            "line=Distortion\n",
            "FeatureFunction: Distortion0 start: 13 end: 13\n",
            "line=KENLM name=LM0 factor=0 path=/content/lm/parallel.sa-en.blm.en order=3\n",
            "FeatureFunction: LM0 start: 14 end: 14\n",
            "Loading UnknownWordPenalty0\n",
            "Loading WordPenalty0\n",
            "Loading PhrasePenalty0\n",
            "Loading LexicalReordering0\n",
            "Loading table into memory...done.\n",
            "Loading Distortion0\n",
            "Loading LM0\n",
            "Loading TranslationModel0\n",
            "Start loading text phrase table. Moses format : [7.807] seconds\n",
            "Reading /content/working/train/model/phrase-table.gz\n",
            "----5---10---15---20---25---30---35---40---45---50---55---60---65---70---75---80---85---90---95--100\n",
            "****************************************************************************************************\n",
            "Created input-output object : [16.283] seconds\n",
            "^C\n"
          ],
          "name": "stdout"
        }
      ]
    },
    {
      "cell_type": "code",
      "metadata": {
        "colab": {
          "base_uri": "https://localhost:8080/"
        },
        "id": "7wHUDujAm8Ay",
        "outputId": "79187c8e-8403-48b4-fa14-53114b442fd2"
      },
      "source": [
        "%cd /content/corpus\n",
        "!/content/ubuntu-17.04/moses/scripts/tokenizer/tokenizer.perl -l en \\\n",
        "   < test/dev.sa-en.en > dev.sa-en.tok.en\n",
        "!python /usr/local/lib/python3.6/dist-packages/indicnlp/tokenize/indic_tokenize.py /content/corpus/test/dev.sa-en.sa /content/corpus/dev.sa-en.tok.sa sa\n",
        "\n",
        "!/content/ubuntu-17.04/moses/scripts/recaser/truecase.perl --model truecase-model.en \\\n",
        "   < dev.sa-en.tok.en > dev.sa-en.true.en\n",
        "!/content/ubuntu-17.04/moses/scripts/recaser/truecase.perl --model truecase-model.sa \\\n",
        "   < dev.sa-en.tok.sa > dev.sa-en.true.sa"
      ],
      "execution_count": 50,
      "outputs": [
        {
          "output_type": "stream",
          "text": [
            "/content/corpus\n",
            "Tokenizer Version 1.1\n",
            "Language: en\n",
            "Number of threads: 1\n"
          ],
          "name": "stdout"
        }
      ]
    },
    {
      "cell_type": "code",
      "metadata": {
        "colab": {
          "base_uri": "https://localhost:8080/"
        },
        "id": "jKlAbU602Vhc",
        "outputId": "8db052f0-e016-4a01-f670-328da385d8bf"
      },
      "source": [
        "!nohup nice /content/ubuntu-17.04/moses/bin/moses \\\n",
        "   -f /content/working/mert-work/moses.ini   \\\n",
        "   < /content/corpus/dev.sa-en.true.sa  \\\n",
        "   > /content/working/test.translated.en  \\\n",
        "   2> /content/working/test_result.out\n",
        "\n",
        "!/content/ubuntu-17.04/moses/scripts/generic/multi-bleu.perl \\\n",
        "   -lc /content/corpus/dev.sa-en.true.en    \\\n",
        "   < /content/working/test.translated.en"
      ],
      "execution_count": 51,
      "outputs": [
        {
          "output_type": "stream",
          "text": [
            "BLEU = 3.15, 14.2/3.7/2.0/1.4 (BP=0.908, ratio=0.912, hyp_len=19465, ref_len=21335)\n"
          ],
          "name": "stdout"
        }
      ]
    },
    {
      "cell_type": "code",
      "metadata": {
        "id": "my_dIFPEiDcw"
      },
      "source": [
        "from googletrans import Translator\n",
        "translator = Translator()"
      ],
      "execution_count": 66,
      "outputs": []
    },
    {
      "cell_type": "code",
      "metadata": {
        "colab": {
          "base_uri": "https://localhost:8080/"
        },
        "id": "VPEnERO93fpF",
        "outputId": "ffbfdd42-215a-4412-a109-4f71936c1bf1"
      },
      "source": [
        "with open('/content/working/test.translated.en', 'r') as f:\n",
        "  test = [x.replace('\\n', '') for x in f.readlines()]\n",
        "\n",
        "translated = []\n",
        "print(len(test))\n",
        "i=0\n",
        "for line in test:\n",
        "  try:\n",
        "    ans = translator.translate(line, dest='hi')\n",
        "    i+=1\n",
        "    translated.append(ans.text)\n",
        "  except:\n",
        "    print(\"done\", i)\n",
        "    translated.append('NULL')"
      ],
      "execution_count": 61,
      "outputs": [
        {
          "output_type": "stream",
          "text": [
            "870\n",
            "done 152\n"
          ],
          "name": "stdout"
        }
      ]
    },
    {
      "cell_type": "code",
      "metadata": {
        "colab": {
          "base_uri": "https://localhost:8080/"
        },
        "id": "hVptfeFO5_Eg",
        "outputId": "d67e60f5-fc84-4bb9-e629-733678031b83"
      },
      "source": [
        "print(ans)"
      ],
      "execution_count": 59,
      "outputs": [
        {
          "output_type": "stream",
          "text": [
            "Translated(src=en, dest=hi, text=start _ then the पर्व्वतमारुह्येश्वरमुद्दिश्य प्रार्थयमानः the night at the words of the entire यापितवान् _ the son of the lord of the earth _ END , pronunciation=start _ then the पर्व्वतमारुह्येश्वरमुद्दिश्य प्रार्थयमानः the night at the words of the entire यापितवान् _ the son of the lord of the earth _ END , extra_data=\"{'translat...\")\n"
          ],
          "name": "stdout"
        }
      ]
    },
    {
      "cell_type": "code",
      "metadata": {
        "colab": {
          "base_uri": "https://localhost:8080/"
        },
        "id": "_qs7X_JV84MY",
        "outputId": "4147b595-b80c-4103-eb97-498d84f10f73"
      },
      "source": [
        "print(ans.origin)\n",
        "print(ans.text)"
      ],
      "execution_count": 60,
      "outputs": [
        {
          "output_type": "stream",
          "text": [
            "start _ then the पर्व्वतमारुह्येश्वरमुद्दिश्य प्रार्थयमानः the night at the words of the entire यापितवान् _ the son of the lord of the earth _ END \n",
            "start _ then the पर्व्वतमारुह्येश्वरमुद्दिश्य प्रार्थयमानः the night at the words of the entire यापितवान् _ the son of the lord of the earth _ END \n"
          ],
          "name": "stdout"
        }
      ]
    },
    {
      "cell_type": "code",
      "metadata": {
        "id": "pBbmEcc99UZQ"
      },
      "source": [
        "import nltk\n",
        "def bleu():\n",
        "  \n",
        "  candidate = []\n",
        "  reference = []\n",
        "  for i in range(n):\n",
        "      pair = temp[i]\n",
        "      # print('>', pair[0])\n",
        "      # print('=', pair[1])\n",
        "      output_words, attentions = evaluate(encoder, decoder, pair[0])\n",
        "      output_sentence = ' '.join(output_words)\n",
        "      reference.append(pair[1].split())\n",
        "      candidate.append(output_sentence.split())\n",
        "      # print('<', output_sentence)\n",
        "      # print('')\n",
        "  print(\"bleu\", nltk.translate.bleu_score.corpus_bleu(reference, candidate))"
      ],
      "execution_count": null,
      "outputs": []
    },
    {
      "cell_type": "code",
      "metadata": {
        "colab": {
          "base_uri": "https://localhost:8080/"
        },
        "id": "UuPX6BH_DOqA",
        "outputId": "ac11ea6e-eb17-4b04-8bb4-edfd33bbf1f7"
      },
      "source": [
        "with open('/content/corpus/dev.sa-en.true.en', 'r') as f:\n",
        "  test = [x.replace('\\n', '') for x in f.readlines()]\n",
        "\n",
        "hindi_gt = []\n",
        "print(len(test))\n",
        "i=0\n",
        "for line in test:\n",
        "  try:\n",
        "    ans = translator.translate(line, dest='hi')\n",
        "    i+=1\n",
        "    hindi_gt.append(ans.text)\n",
        "    print(ans.text)\n",
        "    if i==10:\n",
        "      break\n",
        "  except:\n",
        "    print(\"done\", i)\n",
        "    hindi_gt.append('NULL')"
      ],
      "execution_count": 71,
      "outputs": [
        {
          "output_type": "stream",
          "text": [
            "1374\n",
            "he sendeth out his voice and many loving friends of him the highly lauded hasten with their songs .\n",
            "&apos;O victorious lord he who does not repay the help got through your grace and your brother &apos;s is despicable among men .\n",
            "who sit as deities in heaven above the skyvaults luminous sphere .\n",
            "&quot; just as a cow fond of its calf begins to distil milk from its teats at the sight of the calf , so does my heart melt at the sight of this excellent jewel .\n",
            "quickly he becomes righteous-souled ( minded ) and attains peace permanently . o son of kunti ! i swear that my devotee gets never lost .\n",
            "so will she shine on days to come immortal she moves on in her own strength undecaying .\n",
            "&apos;O rama vali will experience sorrow and become pale bereft of me even in heaven just as you are filled with sorrow even on a delightful mountain slope bereft of princess of videha .\n",
            "and from thence to Philippi , which is the chief city of that part of Macedonia , and a colony : and we were in that city abiding certain days .\n",
            "and saying , lord , my servant lieth at home sick of the palsy , grievously tormented .\n",
            "excellent agni thou art called my providence delight thou to be liberal .\n"
          ],
          "name": "stdout"
        }
      ]
    },
    {
      "cell_type": "code",
      "metadata": {
        "colab": {
          "base_uri": "https://localhost:8080/"
        },
        "id": "cS2fdx9RDm4H",
        "outputId": "f6c09b8a-33bf-466a-a4ed-4d93f2eb3cb9"
      },
      "source": [
        "print(test[:100])"
      ],
      "execution_count": 63,
      "outputs": [
        {
          "output_type": "stream",
          "text": [
            "['he sendeth out his voice and many loving friends of him the highly lauded hasten with their songs .', '&apos;O victorious lord he who does not repay the help got through your grace and your brother &apos;s is despicable among men .', 'who sit as deities in heaven above the skyvaults luminous sphere .', '&quot; just as a cow fond of its calf begins to distil milk from its teats at the sight of the calf , so does my heart melt at the sight of this excellent jewel .', 'quickly he becomes righteous-souled ( minded ) and attains peace permanently . o son of kunti ! i swear that my devotee gets never lost .', 'so will she shine on days to come immortal she moves on in her own strength undecaying .', '&apos;O rama vali will experience sorrow and become pale bereft of me even in heaven just as you are filled with sorrow even on a delightful mountain slope bereft of princess of videha .', 'and from thence to Philippi , which is the chief city of that part of Macedonia , and a colony : and we were in that city abiding certain days .', 'and saying , lord , my servant lieth at home sick of the palsy , grievously tormented .', 'excellent agni thou art called my providence delight thou to be liberal .', 'this holy hermitage belongs to kama . these ascetics are his disciples . they are always righteous and are free from sin .', 'if he will listen to my laud then may out somadrops that flow .', 'so unto sūrya heaven and earth at morning and at eve i speak .', 'trained or not in the use of arms , as long as rama is protected by viswamitra , just as nectar is protected by the flaming firegod rakshasas will not be able to compete with him .', 'when thou three hundred buffaloes flesh hadst eaten and drunk as maghavan three lakes of soma .', 'with his face discoloured due to thirst and fatigue , he ( sunassepha ) immediately fell into the sage &apos;s lap in a pitiable condition and said :', 'as from its stem the cucumber so may i be released from death not reft of immortality .', 'nāsatyas whether ye be far away or close to turvaśa .', 'him bright and radiant living men have stablished as their blithe priest the chief of sacrificers .', 'but if ye do not forgive , neither will your father which is in heaven forgive your trespasses .', 'wishing always to nourish the worlds kamadhenu conducts herself with an unequalled character . in accordance with her nature , she has imbibed in herself eminent virtues . she is endowed with all prosperity . in spite of her thousand sons , she is weeping thus for her two bulls , what can one say of kausalya separated from her only son will she be her normal self again ? &apos;', 'but among ( brothers ) equally skilled in their occupations , there is no additional share , ( consisting of the best animal ) among ten ; some trifle only shall be given to the eldest as a token of respect .', 'they reached a divine tree ( of great powers ) known as satyopayachana tree and having gone round and paid homage they entered the kulinga city .', 'spears swords and glittering ornaments .', 'when he arose , he took the young child and his mother by night , and departed into Egypt :', 'i came into this forest in obedience to my father &apos;s orders to repel the aggression of demons against you .', 'and when he was alone , they that were about him with the twelve asked of him the parable .', 'o son of prtha , not a single yogin , knowing these two courses , gets deluded . therefore , o arjuna , be practising yoga connected with all times .', '&apos;O sita don &apos;t you think it is a privilege to be the wife of the highsouled , tennecked ravana , who is the distinguished king of a high family of sage paulastya ?', '&apos;Blackeyed sita is not aware of my strength or my power . therefore let her see the real ( huge ) form that i can assume at my free will &apos; .', 'to bring the blind man joy thus cried the shewolf o aśvins o ye mighty ones o heroes .', 'then said the Jews , forty and six years was this temple in building , and wilt thou rear it up in three days ?', 'there came also a multitude out of the cities round about unto Jerusalem , bringing sick folks , and them which were vexed with unclean spirits : and they were healed every one .', 'king dasaratha distressed by the separation from his son , pondered over his past misdeed , and said to helpless kausalya , who was equally grieving over the separation from rama :', 'to people skilled in sacrifice .', 'every single warrior was attended by seven or eight women who applied oil and massaged his body and bathed him on the lovely banks of the river .', 'then the mighty ravana rained sharp , dreadful shafts , spears and vikarnis at jatayu , king of vultures .', 'let him not ( unnecessarily ) lengthen the period of impurity , nor interrupt the rites to be performed with the sacred fires ; for he who performs that ( agnihotra ) rite will not be impure , though ( he be ) a ( Sapinda ) relative .', 'may mighty indra pouring forth in bounty bestow on us good roads and perfect safety .', 'stirred be the glorious stones let it press out the juice the stone with heavenly song that reaches up to heaven .', 'sugriva spoke to lakshmana endowed with auspicious signs , and thereupon permitted tara and other women to leave the place .', 'thou mighty pourest forth the hide that holds the rain thou keepest far away hero the wicked man thou shuttest out the wicked man .', 'the pressers from the somapress send forth thy juice for rapturous joy .', 'drink of the juice o indra at thy plea sure for thy first draught is early morns libation .', 'who are the ṛṣis then who comprehended before our time the bounds of all thy greatness .', 'especially because i know thee to be expert in all customs and questions which are among the Jews : wherefore i beseech thee to hear me patiently .', 'may he the glorious lay upon his body the singers hymns as stars bedeck the heaven .', 'when the devatas were thus addressed by the imperishable visnu , they replied him saying , &quot; you may assume the form of a human being and slay ravana in the battle &quot; .', 'maruts may we be there when ye at dawn in rest and toil rain waters down and balm .', 'exceedingly energetic and deeply pious , he looked at the king who was frightful in appearance and addressed him with compassion saying , &quot; welfare to you &quot; .', 'he wins with coursers and with singers killed in song with heroes he obtains the prize .', 'praise of the god who touches heaven .', 'o best of bharata &apos;s descendants ! listen to my considered view about relinishing : indeed the act of relinishing is rightly spoken to be three-fold , o best among men !', 'and as ye go , preach , saying , the kingdom of heaven is at hand .', 'thereafter hearing sita &apos;s words , anasuya affectionately kissed her forehead and said this in order to make her happy :', 'that all men should honour the son , even as they honour the father . he that honoureth not the son honoureth not the father which hath sent him .', 'thus the regal sages knew this , received in regualr succession . by the passage of long time , this yoga has been however lost , o scorcher of enemies !', 'and the sun harnessing his horses goeth forth ye through your godlike nature let his paths be known .', 'i shall practise austerities . you ought to grant me a son who would be the supreme ruler of the world and capable of killing indra . you can say yes ( if you will ) &quot; .', 'thou drivest all seductive fiends away from him whom careful guard thou keepest brahmaṇaspati .', 'thus tormented again and again by the king of vultures , ravana shook with anger , his lips quivering .', 'famed for great deeds with priests who kneel and laud him he still hath conquered in the frays for cattle .', 'through fear of thee o indra all the regions of earth though naught may move them shake and tremble .', 'then the best of the monkeys and their troop leaders bewailed the death of vali , crying bitterly .', 'he breathed his last , and the monkeys who won went searching almost all over the mountain caves .', 'as i dwell in the forest , i shall serve you with my head bowed . for this i may altogether relinquish ayodhya or even heaven .', 'mightyarmed king prithu was the son of anaranya and prithu was father of the great king trishanku . that heroic trishanku , on account of his truthfulness ascended the heaven with his physical body .', 'near him thou seemest mightier still in native glory set to hold .', '&quot; having given up the kingdom voluntarily , rama , a highly renowned king cast off his luxurious upper garments and asked me to take care of his mother .', 'hither hath run the goldhued child of sūrya and reached the vat like a fleet vigorous courser .', 'all of you verily are great .', 'and to oblations brought by men .', '&#91; these are our &#93; teachers , fathers , sons and also paternal grandfathers , maternal uncles , fathers-in-law , son &apos;s sons , wives &apos; brothers , and ( other ) relatives .', 'Jesus answered and said , this voice came not because of me , but for your sakes .', '&apos;Seeing my son ruling this entire dominion of the earth , i will experience the bliss of attaining heaven at this age . &apos;', 'we set thee round us as a fort victorious agni thee a sage .', 'is lauded excellent with hundred praises by purūṇītha son of śatavani .', 'no foe hath he no counterpart no refuge is there from him the conqueror full of wisdom .', 'and fall into the rivers wave .', 'but when Jesus heard that , he said unto them , they that be whole need not a physician , but they that are sick .', 'but he went out , and began to publish it much , and to blaze abroad the matter , insomuch that Jesus could no more openly enter into the city , but was without in desert places : and they came to him from every quarter .', 'pour riches forth for us with troops of hero sons and bear ye up o stones the song that visits gods .', 'the swans the vrsaganas from anear us have brought their restless spirit to our dwelling .', '&apos;O king of kings why don &apos;t you understand that these female monkeys , your wives who were dear to you have come on foot this long distance with great difficulty ?', 'not yet satisfied ( they wanted to linger longer ) , they stood weeping , while rama went out of sight just as the sun disappears at nightfall .', 'no friend among mankind have we to lookto why have men called thee him who spurs the niggard .', 'and seeth two angels in white sitting , the one at the head , and the other at the feet , where the body of Jesus had lain .', 'come hitherward to us from earth from heaven borne on your golden chariot rolling lightly .', 'o rama , even though you are always vigilant and capable in all possible ways to defend youself , a doubt arises in our mind . it is perilous for you to live here with your wife .', 'beyond all trouble and distress borne in your ship .', 'then was Jesus led up of the spirit into the wilderness to be tempted of the devil .', 'just as a thief , so is the buddha ( a wise men ) . know that the tathagatas are atheists . they are men most distrusted among the people . a learned man should avoid atheists . ( note : verses 31 to 39 appear to be interpolations , it is anachronistic to talk about buddha in tretayuga . )', 'the brilliant kushamba and the righteous kushanabha constructed the cities of kaushanbi and mahodaya ( as their capital ) respectively .', 'and Jesus answering said unto him , Simon , i have somewhat to say unto thee . and he saith , master , say on .', 'the king of vultures had performed a very difficult and glorious feat by laying down his life fighting . sanctified by rama &apos;s offering as laid down in scriptures by the seers , he attained a holy , auspicious and divine state of the self .', 'woe unto you that are full ! for ye shall hunger . woe unto you that laugh now ! for ye shall mourn and weep .', 'blest with his thoughts in splendour shall exceed all men as though he overpassed the floods .', 'greet ye one another with a kiss of charity . peace be with you all that are in Christ Jesus . Amen .', 'o indu as thou flowest on bring us the wealth of earth and heaven .', 'meanwhile all the three army chiefs , mahakapala , sthulaksha , and the mighty pramathi ran towards rama in anger , bound ( as though ) by the noose of death .']\n"
          ],
          "name": "stdout"
        }
      ]
    },
    {
      "cell_type": "code",
      "metadata": {
        "id": "N_knb71aEYy1"
      },
      "source": [
        "ans = translator.translate(test[0], dest='hi')"
      ],
      "execution_count": 67,
      "outputs": []
    },
    {
      "cell_type": "code",
      "metadata": {
        "colab": {
          "base_uri": "https://localhost:8080/"
        },
        "id": "rzTv1WLLFO-i",
        "outputId": "f3948eff-6a67-4940-980d-f168b5b56e85"
      },
      "source": [
        "print(ans.text)"
      ],
      "execution_count": 70,
      "outputs": [
        {
          "output_type": "stream",
          "text": [
            "he sendeth out his voice and many loving friends of him the highly lauded hasten with their songs .\n"
          ],
          "name": "stdout"
        }
      ]
    },
    {
      "cell_type": "code",
      "metadata": {
        "colab": {
          "base_uri": "https://localhost:8080/"
        },
        "id": "lgx2fGlHEjaC",
        "outputId": "7c04c990-4c97-4d38-b295-d1fb822a23b7"
      },
      "source": [
        "!pip uninstall googletrans\n",
        "!git clone https://github.com/BoseCorp/py-googletrans.git\n",
        "%cd ./py-googletrans\n",
        "!python setup.py install"
      ],
      "execution_count": 65,
      "outputs": [
        {
          "output_type": "stream",
          "text": [
            "Uninstalling googletrans-3.0.0:\n",
            "  Would remove:\n",
            "    /usr/local/bin/translate\n",
            "    /usr/local/lib/python3.6/dist-packages/googletrans-3.0.0.dist-info/*\n",
            "    /usr/local/lib/python3.6/dist-packages/googletrans/*\n",
            "Proceed (y/n)? y\n",
            "  Successfully uninstalled googletrans-3.0.0\n",
            "Cloning into 'py-googletrans'...\n",
            "remote: Enumerating objects: 431, done.\u001b[K\n",
            "remote: Total 431 (delta 0), reused 0 (delta 0), pack-reused 431\u001b[K\n",
            "Receiving objects: 100% (431/431), 104.76 KiB | 4.19 MiB/s, done.\n",
            "Resolving deltas: 100% (254/254), done.\n",
            "/content/corpus/py-googletrans\n",
            "running install\n",
            "running bdist_egg\n",
            "running egg_info\n",
            "creating googletrans.egg-info\n",
            "writing googletrans.egg-info/PKG-INFO\n",
            "writing dependency_links to googletrans.egg-info/dependency_links.txt\n",
            "writing requirements to googletrans.egg-info/requires.txt\n",
            "writing top-level names to googletrans.egg-info/top_level.txt\n",
            "writing manifest file 'googletrans.egg-info/SOURCES.txt'\n",
            "reading manifest template 'MANIFEST.in'\n",
            "writing manifest file 'googletrans.egg-info/SOURCES.txt'\n",
            "installing library code to build/bdist.linux-x86_64/egg\n",
            "running install_lib\n",
            "running build_py\n",
            "creating build\n",
            "creating build/lib\n",
            "creating build/lib/googletrans\n",
            "copying googletrans/__init__.py -> build/lib/googletrans\n",
            "copying googletrans/gtoken.py -> build/lib/googletrans\n",
            "copying googletrans/models.py -> build/lib/googletrans\n",
            "copying googletrans/constants.py -> build/lib/googletrans\n",
            "copying googletrans/client.py -> build/lib/googletrans\n",
            "copying googletrans/urls.py -> build/lib/googletrans\n",
            "copying googletrans/utils.py -> build/lib/googletrans\n",
            "copying googletrans/adapters.py -> build/lib/googletrans\n",
            "copying googletrans/compat.py -> build/lib/googletrans\n",
            "creating build/bdist.linux-x86_64\n",
            "creating build/bdist.linux-x86_64/egg\n",
            "creating build/bdist.linux-x86_64/egg/googletrans\n",
            "copying build/lib/googletrans/__init__.py -> build/bdist.linux-x86_64/egg/googletrans\n",
            "copying build/lib/googletrans/gtoken.py -> build/bdist.linux-x86_64/egg/googletrans\n",
            "copying build/lib/googletrans/models.py -> build/bdist.linux-x86_64/egg/googletrans\n",
            "copying build/lib/googletrans/constants.py -> build/bdist.linux-x86_64/egg/googletrans\n",
            "copying build/lib/googletrans/client.py -> build/bdist.linux-x86_64/egg/googletrans\n",
            "copying build/lib/googletrans/urls.py -> build/bdist.linux-x86_64/egg/googletrans\n",
            "copying build/lib/googletrans/utils.py -> build/bdist.linux-x86_64/egg/googletrans\n",
            "copying build/lib/googletrans/adapters.py -> build/bdist.linux-x86_64/egg/googletrans\n",
            "copying build/lib/googletrans/compat.py -> build/bdist.linux-x86_64/egg/googletrans\n",
            "byte-compiling build/bdist.linux-x86_64/egg/googletrans/__init__.py to __init__.cpython-36.pyc\n",
            "byte-compiling build/bdist.linux-x86_64/egg/googletrans/gtoken.py to gtoken.cpython-36.pyc\n",
            "byte-compiling build/bdist.linux-x86_64/egg/googletrans/models.py to models.cpython-36.pyc\n",
            "byte-compiling build/bdist.linux-x86_64/egg/googletrans/constants.py to constants.cpython-36.pyc\n",
            "byte-compiling build/bdist.linux-x86_64/egg/googletrans/client.py to client.cpython-36.pyc\n",
            "byte-compiling build/bdist.linux-x86_64/egg/googletrans/urls.py to urls.cpython-36.pyc\n",
            "byte-compiling build/bdist.linux-x86_64/egg/googletrans/utils.py to utils.cpython-36.pyc\n",
            "byte-compiling build/bdist.linux-x86_64/egg/googletrans/adapters.py to adapters.cpython-36.pyc\n",
            "byte-compiling build/bdist.linux-x86_64/egg/googletrans/compat.py to compat.cpython-36.pyc\n",
            "creating build/bdist.linux-x86_64/egg/EGG-INFO\n",
            "installing scripts to build/bdist.linux-x86_64/egg/EGG-INFO/scripts\n",
            "running install_scripts\n",
            "running build_scripts\n",
            "creating build/scripts-3.6\n",
            "copying and adjusting translate -> build/scripts-3.6\n",
            "changing mode of build/scripts-3.6/translate from 644 to 755\n",
            "creating build/bdist.linux-x86_64/egg/EGG-INFO/scripts\n",
            "copying build/scripts-3.6/translate -> build/bdist.linux-x86_64/egg/EGG-INFO/scripts\n",
            "changing mode of build/bdist.linux-x86_64/egg/EGG-INFO/scripts/translate to 755\n",
            "copying googletrans.egg-info/PKG-INFO -> build/bdist.linux-x86_64/egg/EGG-INFO\n",
            "copying googletrans.egg-info/SOURCES.txt -> build/bdist.linux-x86_64/egg/EGG-INFO\n",
            "copying googletrans.egg-info/dependency_links.txt -> build/bdist.linux-x86_64/egg/EGG-INFO\n",
            "copying googletrans.egg-info/requires.txt -> build/bdist.linux-x86_64/egg/EGG-INFO\n",
            "copying googletrans.egg-info/top_level.txt -> build/bdist.linux-x86_64/egg/EGG-INFO\n",
            "zip_safe flag not set; analyzing archive contents...\n",
            "creating dist\n",
            "creating 'dist/googletrans-2.3.0-py3.6.egg' and adding 'build/bdist.linux-x86_64/egg' to it\n",
            "removing 'build/bdist.linux-x86_64/egg' (and everything under it)\n",
            "Processing googletrans-2.3.0-py3.6.egg\n",
            "Copying googletrans-2.3.0-py3.6.egg to /usr/local/lib/python3.6/dist-packages\n",
            "Adding googletrans 2.3.0 to easy-install.pth file\n",
            "Installing translate script to /usr/local/bin\n",
            "\n",
            "Installed /usr/local/lib/python3.6/dist-packages/googletrans-2.3.0-py3.6.egg\n",
            "Processing dependencies for googletrans==2.3.0\n",
            "Searching for requests==2.23.0\n",
            "Best match: requests 2.23.0\n",
            "Adding requests 2.23.0 to easy-install.pth file\n",
            "\n",
            "Using /usr/local/lib/python3.6/dist-packages\n",
            "Searching for certifi==2020.6.20\n",
            "Best match: certifi 2020.6.20\n",
            "Adding certifi 2020.6.20 to easy-install.pth file\n",
            "\n",
            "Using /usr/local/lib/python3.6/dist-packages\n",
            "Searching for idna==2.10\n",
            "Best match: idna 2.10\n",
            "Adding idna 2.10 to easy-install.pth file\n",
            "\n",
            "Using /usr/local/lib/python3.6/dist-packages\n",
            "Searching for chardet==3.0.4\n",
            "Best match: chardet 3.0.4\n",
            "Adding chardet 3.0.4 to easy-install.pth file\n",
            "Installing chardetect script to /usr/local/bin\n",
            "\n",
            "Using /usr/local/lib/python3.6/dist-packages\n",
            "Searching for urllib3==1.24.3\n",
            "Best match: urllib3 1.24.3\n",
            "Adding urllib3 1.24.3 to easy-install.pth file\n",
            "\n",
            "Using /usr/local/lib/python3.6/dist-packages\n",
            "Finished processing dependencies for googletrans==2.3.0\n"
          ],
          "name": "stdout"
        }
      ]
    },
    {
      "cell_type": "code",
      "metadata": {
        "id": "TIhuOx-qFBBz"
      },
      "source": [
        ""
      ],
      "execution_count": null,
      "outputs": []
    }
  ]
}