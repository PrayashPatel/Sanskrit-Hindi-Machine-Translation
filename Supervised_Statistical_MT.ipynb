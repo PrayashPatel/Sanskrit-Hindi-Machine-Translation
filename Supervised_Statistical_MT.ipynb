{
  "nbformat": 4,
  "nbformat_minor": 0,
  "metadata": {
    "colab": {
      "name": "Supervised_Statistical_MT.ipynb",
      "provenance": [],
      "collapsed_sections": [],
      "authorship_tag": "ABX9TyM7vw9nlsDzhUm6e1PLKas+",
      "include_colab_link": true
    },
    "kernelspec": {
      "name": "python3",
      "display_name": "Python 3"
    }
  },
  "cells": [
    {
      "cell_type": "markdown",
      "metadata": {
        "id": "view-in-github",
        "colab_type": "text"
      },
      "source": [
        "<a href=\"https://colab.research.google.com/github/priyanshu2103/Sanskrit-Hindi-Machine-Translation/blob/main/Supervised_Statistical_MT.ipynb\" target=\"_parent\"><img src=\"https://colab.research.google.com/assets/colab-badge.svg\" alt=\"Open In Colab\"/></a>"
      ]
    },
    {
      "cell_type": "markdown",
      "metadata": {
        "id": "VoDWTjffnPgT"
      },
      "source": [
        "# **```Supervised Statistical Machine Translation```**"
      ]
    },
    {
      "cell_type": "markdown",
      "metadata": {
        "id": "0gIch8-tnmSz"
      },
      "source": [
        "This notebook runs the Moses SMT system, following the official documentation. Moses is used to translate Sanskrit to English, which is then translated to Hindi using Google Translate API.\n",
        "\n",
        "NOTE: Moses training and tuning takes around 2-2.5 hrs to run "
      ]
    },
    {
      "cell_type": "code",
      "metadata": {
        "id": "KJH6-cD4dxAU",
        "colab": {
          "base_uri": "https://localhost:8080/"
        },
        "outputId": "30376fed-bd07-4a12-c46a-3e1cbc02036e"
      },
      "source": [
        "# Downloading Moses Binaries directly, as it is complicated to install moses by source \n",
        "!wget http://www.statmt.org/moses/RELEASE-4.0/binaries/ubuntu-17.04.tgz\n",
        "!tar -xvzf ubuntu-17.04.tgz\n",
        "!rm -rf ubuntu-17.04.tgz"
      ],
      "execution_count": 1,
      "outputs": [
        {
          "output_type": "stream",
          "text": [
            "--2020-11-20 10:04:15--  http://www.statmt.org/moses/RELEASE-4.0/binaries/ubuntu-17.04.tgz\n",
            "Resolving www.statmt.org (www.statmt.org)... 129.215.197.184\n",
            "Connecting to www.statmt.org (www.statmt.org)|129.215.197.184|:80... connected.\n",
            "HTTP request sent, awaiting response... 200 OK\n",
            "Length: 120382471 (115M) [application/x-gzip]\n",
            "Saving to: ‘ubuntu-17.04.tgz’\n",
            "\n",
            "ubuntu-17.04.tgz    100%[===================>] 114.81M  1.18MB/s    in 97s     \n",
            "\n",
            "2020-11-20 10:05:53 (1.18 MB/s) - ‘ubuntu-17.04.tgz’ saved [120382471/120382471]\n",
            "\n",
            "ubuntu-17.04/\n",
            "ubuntu-17.04/training-tools/\n",
            "ubuntu-17.04/training-tools/mkcls\n",
            "ubuntu-17.04/training-tools/snt2cooc\n",
            "ubuntu-17.04/training-tools/merge_alignment.py\n",
            "ubuntu-17.04/training-tools/mgiza\n",
            "ubuntu-17.04/moses/\n",
            "ubuntu-17.04/moses/scripts/\n",
            "ubuntu-17.04/moses/scripts/analysis/\n",
            "ubuntu-17.04/moses/scripts/analysis/sg2dot.perl\n",
            "ubuntu-17.04/moses/scripts/analysis/smtgui/\n",
            "ubuntu-17.04/moses/scripts/analysis/smtgui/newsmtgui.cgi\n",
            "ubuntu-17.04/moses/scripts/analysis/smtgui/file-factors\n",
            "ubuntu-17.04/moses/scripts/analysis/smtgui/Corpus.pm\n",
            "ubuntu-17.04/moses/scripts/analysis/smtgui/file-descriptions\n",
            "ubuntu-17.04/moses/scripts/analysis/smtgui/README\n",
            "ubuntu-17.04/moses/scripts/analysis/smtgui/filter-phrase-table.pl\n",
            "ubuntu-17.04/moses/scripts/analysis/bootstrap-hypothesis-difference-significance.pl\n",
            "ubuntu-17.04/moses/scripts/analysis/README\n",
            "ubuntu-17.04/moses/scripts/analysis/extract-target-trees.py\n",
            "ubuntu-17.04/moses/scripts/analysis/sentence-by-sentence.pl\n",
            "ubuntu-17.04/moses/scripts/analysis/show-phrases-used.pl\n",
            "ubuntu-17.04/moses/scripts/analysis/oov.pl\n",
            "ubuntu-17.04/moses/scripts/analysis/perllib/\n",
            "ubuntu-17.04/moses/scripts/analysis/perllib/Error.pm\n",
            "ubuntu-17.04/moses/scripts/analysis/suspicious_tokenization.pl\n",
            "ubuntu-17.04/moses/scripts/analysis/weight-scan.pl\n",
            "ubuntu-17.04/moses/scripts/analysis/nontranslated_words.pl\n",
            "ubuntu-17.04/moses/scripts/analysis/weight-scan-summarize.sh\n",
            "ubuntu-17.04/moses/scripts/generic/\n",
            "ubuntu-17.04/moses/scripts/generic/mteval-v14.pl\n",
            "ubuntu-17.04/moses/scripts/generic/mteval-v12.pl\n",
            "ubuntu-17.04/moses/scripts/generic/giza-parallel.perl\n",
            "ubuntu-17.04/moses/scripts/generic/score-parallel.perl\n",
            "ubuntu-17.04/moses/scripts/generic/binarize4moses2.perl\n",
            "ubuntu-17.04/moses/scripts/generic/extract-parallel.perl\n",
            "ubuntu-17.04/moses/scripts/generic/qsub-wrapper.pl\n",
            "ubuntu-17.04/moses/scripts/generic/fsa2fsal.pl\n",
            "ubuntu-17.04/moses/scripts/generic/reverse-alignment.perl\n",
            "ubuntu-17.04/moses/scripts/generic/bsbleu.py\n",
            "ubuntu-17.04/moses/scripts/generic/trainlm-irst2.perl\n",
            "ubuntu-17.04/moses/scripts/generic/strip-xml.perl\n",
            "ubuntu-17.04/moses/scripts/generic/moses_sim_pe.py\n",
            "ubuntu-17.04/moses/scripts/generic/multi-bleu.perl\n",
            "ubuntu-17.04/moses/scripts/generic/generic-parallel.perl\n",
            "ubuntu-17.04/moses/scripts/generic/lopar2pos.pl\n",
            "ubuntu-17.04/moses/scripts/generic/moses-parallel.pl\n",
            "ubuntu-17.04/moses/scripts/generic/ph_numbers.perl\n",
            "ubuntu-17.04/moses/scripts/generic/mteval-v13a.pl\n",
            "ubuntu-17.04/moses/scripts/generic/multi_moses.py\n",
            "ubuntu-17.04/moses/scripts/generic/extract-factors.pl\n",
            "ubuntu-17.04/moses/scripts/generic/fsa2plf.pl\n",
            "ubuntu-17.04/moses/scripts/generic/fsa-sample.fsa\n",
            "ubuntu-17.04/moses/scripts/generic/score_parallel.py\n",
            "ubuntu-17.04/moses/scripts/generic/fsal2fsa.pl\n",
            "ubuntu-17.04/moses/scripts/generic/compound-splitter.perl\n",
            "ubuntu-17.04/moses/scripts/generic/mteval-v11b.pl\n",
            "ubuntu-17.04/moses/scripts/training/\n",
            "ubuntu-17.04/moses/scripts/training/wrap_moses.py\n",
            "ubuntu-17.04/moses/scripts/training/build-generation-table.perl\n",
            "ubuntu-17.04/moses/scripts/training/train-global-lexicon-model.perl\n",
            "ubuntu-17.04/moses/scripts/training/remove-orphan-phrase-pairs-from-reordering-table.perl\n",
            "ubuntu-17.04/moses/scripts/training/absolutize_moses_model.pl\n",
            "ubuntu-17.04/moses/scripts/training/LexicalTranslationModel.pm\n",
            "ubuntu-17.04/moses/scripts/training/reduce-factors.perl\n",
            "ubuntu-17.04/moses/scripts/training/combine_factors_syntax.pl\n",
            "ubuntu-17.04/moses/scripts/training/threshold-filter.perl\n",
            "ubuntu-17.04/moses/scripts/training/bilingual-lm/\n",
            "ubuntu-17.04/moses/scripts/training/bilingual-lm/test_nplm.py\n",
            "ubuntu-17.04/moses/scripts/training/bilingual-lm/README\n",
            "ubuntu-17.04/moses/scripts/training/bilingual-lm/extract_test.py\n",
            "ubuntu-17.04/moses/scripts/training/bilingual-lm/train_nplm.py\n",
            "ubuntu-17.04/moses/scripts/training/bilingual-lm/create_blm_ini.py\n",
            "ubuntu-17.04/moses/scripts/training/bilingual-lm/averageNullEmbedding.py\n",
            "ubuntu-17.04/moses/scripts/training/bilingual-lm/tag.sh\n",
            "ubuntu-17.04/moses/scripts/training/bilingual-lm/extract_training.py\n",
            "ubuntu-17.04/moses/scripts/training/bilingual-lm/reduce_ngrams.py\n",
            "ubuntu-17.04/moses/scripts/training/bilingual-lm/extract.py\n",
            "ubuntu-17.04/moses/scripts/training/Jamfile\n",
            "ubuntu-17.04/moses/scripts/training/train-neurallm.py\n",
            "ubuntu-17.04/moses/scripts/training/filter-rule-table.py\n",
            "ubuntu-17.04/moses/scripts/training/postprocess-lopar.perl\n",
            "ubuntu-17.04/moses/scripts/training/clone_moses_model.pl\n",
            "ubuntu-17.04/moses/scripts/training/clean-corpus-n-ratio.perl\n",
            "ubuntu-17.04/moses/scripts/training/get-lexical.perl\n",
            "ubuntu-17.04/moses/scripts/training/convert-moses-ini-to-v2.perl\n",
            "ubuntu-17.04/moses/scripts/training/reduce_combine.pl\n",
            "ubuntu-17.04/moses/scripts/training/create_nplm_ini.py\n",
            "ubuntu-17.04/moses/scripts/training/giza2bal.pl\n",
            "ubuntu-17.04/moses/scripts/training/strip-xml.perl\n",
            "ubuntu-17.04/moses/scripts/training/analyse_moses_model.pl\n",
            "ubuntu-17.04/moses/scripts/training/build-mmsapt.perl\n",
            "ubuntu-17.04/moses/scripts/training/flexibility_score.py\n",
            "ubuntu-17.04/moses/scripts/training/combine_factors.pl\n",
            "ubuntu-17.04/moses/scripts/training/reduce-topt-count.pl\n",
            "ubuntu-17.04/moses/scripts/training/train-model.perl\n",
            "ubuntu-17.04/moses/scripts/training/rdlm/\n",
            "ubuntu-17.04/moses/scripts/training/rdlm/extract_syntactic_ngrams.py\n",
            "ubuntu-17.04/moses/scripts/training/rdlm/README\n",
            "ubuntu-17.04/moses/scripts/training/rdlm/average_null_embedding.py\n",
            "ubuntu-17.04/moses/scripts/training/rdlm/train_rdlm.py\n",
            "ubuntu-17.04/moses/scripts/training/rdlm/extract_vocab.py\n",
            "ubuntu-17.04/moses/scripts/training/clean-corpus-n.perl\n",
            "ubuntu-17.04/moses/scripts/training/create_count_tables.py\n",
            "ubuntu-17.04/moses/scripts/training/exodus.perl\n",
            "ubuntu-17.04/moses/scripts/training/mert-moses.pl\n",
            "ubuntu-17.04/moses/scripts/training/wrappers/\n",
            "ubuntu-17.04/moses/scripts/training/wrappers/make-factor-de-pos.perl\n",
            "ubuntu-17.04/moses/scripts/training/wrappers/conll2mosesxml.py\n",
            "ubuntu-17.04/moses/scripts/training/wrappers/make-factor-en-pos.mxpost.perl\n",
            "ubuntu-17.04/moses/scripts/training/wrappers/parse-en-senna.perl\n",
            "ubuntu-17.04/moses/scripts/training/wrappers/syntax-hyphen-splitting.perl\n",
            "ubuntu-17.04/moses/scripts/training/wrappers/make-factor-suffix.perl\n",
            "ubuntu-17.04/moses/scripts/training/wrappers/find-unparseable.perl\n",
            "ubuntu-17.04/moses/scripts/training/wrappers/berkeleyparsed2mosesxml.perl\n",
            "ubuntu-17.04/moses/scripts/training/wrappers/mosesxml2berkeleyparsed.perl\n",
            "ubuntu-17.04/moses/scripts/training/wrappers/madamira-tok.perl\n",
            "ubuntu-17.04/moses/scripts/training/wrappers/adam-suffix-array/\n",
            "ubuntu-17.04/moses/scripts/training/wrappers/adam-suffix-array/suffix-array-create.sh\n",
            "ubuntu-17.04/moses/scripts/training/wrappers/adam-suffix-array/suffix-array-extract.sh\n",
            "ubuntu-17.04/moses/scripts/training/wrappers/parse-de-berkeley.perl\n",
            "ubuntu-17.04/moses/scripts/training/wrappers/make-factor-stem.perl\n",
            "ubuntu-17.04/moses/scripts/training/wrappers/parse-en-egret.perl\n",
            "ubuntu-17.04/moses/scripts/training/wrappers/berkeleyparsed2mosesxml_PTB.perl\n",
            "ubuntu-17.04/moses/scripts/training/wrappers/parse-en-collins.perl\n",
            "ubuntu-17.04/moses/scripts/training/wrappers/morfessor-wrapper.perl\n",
            "ubuntu-17.04/moses/scripts/training/wrappers/senna2brackets.py\n",
            "ubuntu-17.04/moses/scripts/training/wrappers/make-factor-de-morph.perl\n",
            "ubuntu-17.04/moses/scripts/training/wrappers/parse-de-bitpar.perl\n",
            "ubuntu-17.04/moses/scripts/training/wrappers/tree-converter-mosesxml.sh\n",
            "ubuntu-17.04/moses/scripts/training/wrappers/make-factor-en-porter.perl\n",
            "ubuntu-17.04/moses/scripts/training/wrappers/madamira-wrapper.perl\n",
            "ubuntu-17.04/moses/scripts/training/wrappers/make-factor-pos.tree-tagger.perl\n",
            "ubuntu-17.04/moses/scripts/training/wrappers/parse-en-bllip.perl\n",
            "ubuntu-17.04/moses/scripts/training/wrappers/filter-excluded-lines.perl\n",
            "ubuntu-17.04/moses/scripts/training/wrappers/make-factor-de-lemma.perl\n",
            "ubuntu-17.04/moses/scripts/training/wrappers/make-factor-brown-cluster-mkcls.perl\n",
            "ubuntu-17.04/moses/scripts/training/wrappers/parse-en-stanford.py\n",
            "ubuntu-17.04/moses/scripts/training/wrappers/mada-wrapper.perl\n",
            "ubuntu-17.04/moses/scripts/training/wrappers/tagger-german-chunk.perl\n",
            "ubuntu-17.04/moses/scripts/training/wrappers/mosesxml2brackets.py\n",
            "ubuntu-17.04/moses/scripts/training/corpus-sizes.perl\n",
            "ubuntu-17.04/moses/scripts/training/binarize-model.perl\n",
            "ubuntu-17.04/moses/scripts/training/filter-model-given-input.pl\n",
            "ubuntu-17.04/moses/scripts/share/\n",
            "ubuntu-17.04/moses/scripts/share/nonbreaking_prefixes/\n",
            "ubuntu-17.04/moses/scripts/share/nonbreaking_prefixes/nonbreaking_prefix.pl\n",
            "ubuntu-17.04/moses/scripts/share/nonbreaking_prefixes/nonbreaking_prefix.en\n",
            "ubuntu-17.04/moses/scripts/share/nonbreaking_prefixes/nonbreaking_prefix.fr\n",
            "ubuntu-17.04/moses/scripts/share/nonbreaking_prefixes/nonbreaking_prefix.ro\n",
            "ubuntu-17.04/moses/scripts/share/nonbreaking_prefixes/nonbreaking_prefix.pt\n",
            "ubuntu-17.04/moses/scripts/share/nonbreaking_prefixes/nonbreaking_prefix.de\n",
            "ubuntu-17.04/moses/scripts/share/nonbreaking_prefixes/README.txt\n",
            "ubuntu-17.04/moses/scripts/share/nonbreaking_prefixes/nonbreaking_prefix.sk\n",
            "ubuntu-17.04/moses/scripts/share/nonbreaking_prefixes/nonbreaking_prefix.hu\n",
            "ubuntu-17.04/moses/scripts/share/nonbreaking_prefixes/nonbreaking_prefix.zh\n",
            "ubuntu-17.04/moses/scripts/share/nonbreaking_prefixes/nonbreaking_prefix.el\n",
            "ubuntu-17.04/moses/scripts/share/nonbreaking_prefixes/nonbreaking_prefix.ga\n",
            "ubuntu-17.04/moses/scripts/share/nonbreaking_prefixes/nonbreaking_prefix.cs\n",
            "ubuntu-17.04/moses/scripts/share/nonbreaking_prefixes/nonbreaking_prefix.lt\n",
            "ubuntu-17.04/moses/scripts/share/nonbreaking_prefixes/nonbreaking_prefix.nl\n",
            "ubuntu-17.04/moses/scripts/share/nonbreaking_prefixes/nonbreaking_prefix.lv\n",
            "ubuntu-17.04/moses/scripts/share/nonbreaking_prefixes/nonbreaking_prefix.es\n",
            "ubuntu-17.04/moses/scripts/share/nonbreaking_prefixes/nonbreaking_prefix.sl\n",
            "ubuntu-17.04/moses/scripts/share/nonbreaking_prefixes/nonbreaking_prefix.is\n",
            "ubuntu-17.04/moses/scripts/share/nonbreaking_prefixes/nonbreaking_prefix.it\n",
            "ubuntu-17.04/moses/scripts/share/nonbreaking_prefixes/nonbreaking_prefix.yue\n",
            "ubuntu-17.04/moses/scripts/share/nonbreaking_prefixes/nonbreaking_prefix.ta\n",
            "ubuntu-17.04/moses/scripts/share/nonbreaking_prefixes/nonbreaking_prefix.fi\n",
            "ubuntu-17.04/moses/scripts/share/nonbreaking_prefixes/nonbreaking_prefix.ru\n",
            "ubuntu-17.04/moses/scripts/share/nonbreaking_prefixes/nonbreaking_prefix.sv\n",
            "ubuntu-17.04/moses/scripts/share/nonbreaking_prefixes/nonbreaking_prefix.ca\n",
            "ubuntu-17.04/moses/scripts/Jamfile\n",
            "ubuntu-17.04/moses/scripts/tests/\n",
            "ubuntu-17.04/moses/scripts/tests/train-factored-test-step9.test\n",
            "ubuntu-17.04/moses/scripts/tests/README\n",
            "ubuntu-17.04/moses/scripts/tests/full-train-mert-decode.test\n",
            "ubuntu-17.04/moses/scripts/tests/cs-en-sample/\n",
            "ubuntu-17.04/moses/scripts/tests/cs-en-sample/train.cs\n",
            "ubuntu-17.04/moses/scripts/tests/cs-en-sample/test.src\n",
            "ubuntu-17.04/moses/scripts/tests/cs-en-sample/lm.en.gz\n",
            "ubuntu-17.04/moses/scripts/tests/cs-en-sample/train.en\n",
            "ubuntu-17.04/moses/scripts/tests/cs-en-sample/test.ref\n",
            "ubuntu-17.04/moses/scripts/OSM/\n",
            "ubuntu-17.04/moses/scripts/OSM/OSM-Train.perl\n",
            "ubuntu-17.04/moses/scripts/OSM/extract-singletons.perl\n",
            "ubuntu-17.04/moses/scripts/OSM/flipAlignment.perl\n",
            "ubuntu-17.04/moses/scripts/README\n",
            "ubuntu-17.04/moses/scripts/tokenizer/\n",
            "ubuntu-17.04/moses/scripts/tokenizer/deescape-special-chars-PTB.perl\n",
            "ubuntu-17.04/moses/scripts/tokenizer/tokenizer.perl\n",
            "ubuntu-17.04/moses/scripts/tokenizer/basic-protected-patterns\n",
            "ubuntu-17.04/moses/scripts/tokenizer/lowercase.perl\n",
            "ubuntu-17.04/moses/scripts/tokenizer/tokenizer_PTB.perl\n",
            "ubuntu-17.04/moses/scripts/tokenizer/replace-unicode-punctuation.perl\n",
            "ubuntu-17.04/moses/scripts/tokenizer/normalize-punctuation.perl\n",
            "ubuntu-17.04/moses/scripts/tokenizer/deescape-special-chars.perl\n",
            "ubuntu-17.04/moses/scripts/tokenizer/pre-tokenizer.perl\n",
            "ubuntu-17.04/moses/scripts/tokenizer/escape-special-chars.perl\n",
            "ubuntu-17.04/moses/scripts/tokenizer/remove-non-printing-char.perl\n",
            "ubuntu-17.04/moses/scripts/tokenizer/detokenizer.perl\n",
            "ubuntu-17.04/moses/scripts/tokenizer/pre-tok-clean.perl\n",
            "ubuntu-17.04/moses/scripts/tokenizer/pre_tokenize_cleaning.py\n",
            "ubuntu-17.04/moses/scripts/tokenizer/delete-long-words.perl\n",
            "ubuntu-17.04/moses/scripts/ems/\n",
            "ubuntu-17.04/moses/scripts/ems/experiment.machines\n",
            "ubuntu-17.04/moses/scripts/ems/experiment.perl\n",
            "ubuntu-17.04/moses/scripts/ems/experiment.meta\n",
            "ubuntu-17.04/moses/scripts/ems/example/\n",
            "ubuntu-17.04/moses/scripts/ems/example/config.toy\n",
            "ubuntu-17.04/moses/scripts/ems/example/data/\n",
            "ubuntu-17.04/moses/scripts/ems/example/data/nc-5k.en\n",
            "ubuntu-17.04/moses/scripts/ems/example/data/weight.ini\n",
            "ubuntu-17.04/moses/scripts/ems/example/data/nc-5k.fr\n",
            "ubuntu-17.04/moses/scripts/ems/example/data/test-ref.en.sgm\n",
            "ubuntu-17.04/moses/scripts/ems/example/data/weight_bilinguallm.ini\n",
            "ubuntu-17.04/moses/scripts/ems/example/data/run.hierarchical.sh\n",
            "ubuntu-17.04/moses/scripts/ems/example/data/test-src.fr.sgm\n",
            "ubuntu-17.04/moses/scripts/ems/example/data/config.hierarchical\n",
            "ubuntu-17.04/moses/scripts/ems/example/config.syntax\n",
            "ubuntu-17.04/moses/scripts/ems/example/config.basic\n",
            "ubuntu-17.04/moses/scripts/ems/example/config.factored\n",
            "ubuntu-17.04/moses/scripts/ems/example/config.toy.bilinguallm\n",
            "ubuntu-17.04/moses/scripts/ems/example/config.hierarchical\n",
            "ubuntu-17.04/moses/scripts/ems/support/\n",
            "ubuntu-17.04/moses/scripts/ems/support/ter.perl\n",
            "ubuntu-17.04/moses/scripts/ems/support/symmetrize-fast-align.perl\n",
            "ubuntu-17.04/moses/scripts/ems/support/submit-grid.perl\n",
            "ubuntu-17.04/moses/scripts/ems/support/interpolate-lm.perl\n",
            "ubuntu-17.04/moses/scripts/ems/support/tree-converter-wrapper.perl\n",
            "ubuntu-17.04/moses/scripts/ems/support/mml-filter.perl\n",
            "ubuntu-17.04/moses/scripts/ems/support/prepare-fast-align.perl\n",
            "ubuntu-17.04/moses/scripts/ems/support/consolidate-training-data.perl\n",
            "ubuntu-17.04/moses/scripts/ems/support/report-experiment-scores.perl\n",
            "ubuntu-17.04/moses/scripts/ems/support/split-sentences.perl\n",
            "ubuntu-17.04/moses/scripts/ems/support/run-wade.perl\n",
            "ubuntu-17.04/moses/scripts/ems/support/lmplz-wrapper.perl\n",
            "ubuntu-17.04/moses/scripts/ems/support/create-xml.perl\n",
            "ubuntu-17.04/moses/scripts/ems/support/generic-parallelizer.perl\n",
            "ubuntu-17.04/moses/scripts/ems/support/mml-filter.py\n",
            "ubuntu-17.04/moses/scripts/ems/support/wrap-xml.perl\n",
            "ubuntu-17.04/moses/scripts/ems/support/substitute-filtered-tables.perl\n",
            "ubuntu-17.04/moses/scripts/ems/support/build-domain-file-from-subcorpora.perl\n",
            "ubuntu-17.04/moses/scripts/ems/support/berkeley-train.sh\n",
            "ubuntu-17.04/moses/scripts/ems/support/substitute-filtered-tables-and-weights.perl\n",
            "ubuntu-17.04/moses/scripts/ems/support/analysis.perl\n",
            "ubuntu-17.04/moses/scripts/ems/support/berkeley-process.sh\n",
            "ubuntu-17.04/moses/scripts/ems/support/build-sparse-features.perl\n",
            "ubuntu-17.04/moses/scripts/ems/support/reference-from-sgm.perl\n",
            "ubuntu-17.04/moses/scripts/ems/support/defaultconfig.py\n",
            "ubuntu-17.04/moses/scripts/ems/support/mml-train.perl\n",
            "ubuntu-17.04/moses/scripts/ems/support/thot-lm-wrapper.perl\n",
            "ubuntu-17.04/moses/scripts/ems/support/remove-segmentation-markup.perl\n",
            "ubuntu-17.04/moses/scripts/ems/support/run-command-on-multiple-refsets.perl\n",
            "ubuntu-17.04/moses/scripts/ems/support/generic-multicore-parallelizer.perl\n",
            "ubuntu-17.04/moses/scripts/ems/support/input-from-sgm.perl\n",
            "ubuntu-17.04/moses/scripts/ems/support/fast-align-in-parts.perl\n",
            "ubuntu-17.04/moses/scripts/ems/support/substitute-weights.perl\n",
            "ubuntu-17.04/moses/scripts/ems/support/cache-model.perl\n",
            "ubuntu-17.04/moses/scripts/ems/support/mml-score.perl\n",
            "ubuntu-17.04/moses/scripts/ems/web/\n",
            "ubuntu-17.04/moses/scripts/ems/web/analysis.php\n",
            "ubuntu-17.04/moses/scripts/ems/web/close.gif\n",
            "ubuntu-17.04/moses/scripts/ems/web/hierarchical-segmentation.css\n",
            "ubuntu-17.04/moses/scripts/ems/web/javascripts/\n",
            "ubuntu-17.04/moses/scripts/ems/web/javascripts/controls.js\n",
            "ubuntu-17.04/moses/scripts/ems/web/javascripts/builder.js\n",
            "ubuntu-17.04/moses/scripts/ems/web/javascripts/effects.js\n",
            "ubuntu-17.04/moses/scripts/ems/web/javascripts/slider.js\n",
            "ubuntu-17.04/moses/scripts/ems/web/javascripts/scriptaculous.js\n",
            "ubuntu-17.04/moses/scripts/ems/web/javascripts/dragdrop.js\n",
            "ubuntu-17.04/moses/scripts/ems/web/javascripts/sound.js\n",
            "ubuntu-17.04/moses/scripts/ems/web/javascripts/prototype.js\n",
            "ubuntu-17.04/moses/scripts/ems/web/javascripts/scriptaculous-js-1.8.3/\n",
            "ubuntu-17.04/moses/scripts/ems/web/javascripts/scriptaculous-js-1.8.3/src/\n",
            "ubuntu-17.04/moses/scripts/ems/web/javascripts/scriptaculous-js-1.8.3/src/controls.js\n",
            "ubuntu-17.04/moses/scripts/ems/web/javascripts/scriptaculous-js-1.8.3/src/builder.js\n",
            "ubuntu-17.04/moses/scripts/ems/web/javascripts/scriptaculous-js-1.8.3/src/effects.js\n",
            "ubuntu-17.04/moses/scripts/ems/web/javascripts/scriptaculous-js-1.8.3/src/slider.js\n",
            "ubuntu-17.04/moses/scripts/ems/web/javascripts/scriptaculous-js-1.8.3/src/scriptaculous.js\n",
            "ubuntu-17.04/moses/scripts/ems/web/javascripts/scriptaculous-js-1.8.3/src/dragdrop.js\n",
            "ubuntu-17.04/moses/scripts/ems/web/javascripts/scriptaculous-js-1.8.3/src/sound.js\n",
            "ubuntu-17.04/moses/scripts/ems/web/javascripts/scriptaculous-js-1.8.3/src/unittest.js\n",
            "ubuntu-17.04/moses/scripts/ems/web/javascripts/scriptaculous-js-1.8.3/test/\n",
            "ubuntu-17.04/moses/scripts/ems/web/javascripts/scriptaculous-js-1.8.3/test/run_functional_tests.html\n",
            "ubuntu-17.04/moses/scripts/ems/web/javascripts/scriptaculous-js-1.8.3/test/functional/\n",
            "ubuntu-17.04/moses/scripts/ems/web/javascripts/scriptaculous-js-1.8.3/test/functional/effects_grow_strink_test.html\n",
            "ubuntu-17.04/moses/scripts/ems/web/javascripts/scriptaculous-js-1.8.3/test/functional/dragdrop_delay_test.html\n",
            "ubuntu-17.04/moses/scripts/ems/web/javascripts/scriptaculous-js-1.8.3/test/functional/icon.png\n",
            "ubuntu-17.04/moses/scripts/ems/web/javascripts/scriptaculous-js-1.8.3/test/functional/effect_shake.html\n",
            "ubuntu-17.04/moses/scripts/ems/web/javascripts/scriptaculous-js-1.8.3/test/functional/ajax_autocompleter_test.html\n",
            "ubuntu-17.04/moses/scripts/ems/web/javascripts/scriptaculous-js-1.8.3/test/functional/effects_queue_test.html\n",
            "ubuntu-17.04/moses/scripts/ems/web/javascripts/scriptaculous-js-1.8.3/test/functional/ajax_inplacecollectioneditor_test.html\n",
            "ubuntu-17.04/moses/scripts/ems/web/javascripts/scriptaculous-js-1.8.3/test/functional/sortable_tree_test.html\n",
            "ubuntu-17.04/moses/scripts/ems/web/javascripts/scriptaculous-js-1.8.3/test/functional/dragdrop3_test.html\n",
            "ubuntu-17.04/moses/scripts/ems/web/javascripts/scriptaculous-js-1.8.3/test/functional/sword.mp3\n",
            "ubuntu-17.04/moses/scripts/ems/web/javascripts/scriptaculous-js-1.8.3/test/functional/sortable_nested_test.html\n",
            "ubuntu-17.04/moses/scripts/ems/web/javascripts/scriptaculous-js-1.8.3/test/functional/_ajax_inplaceeditor_result.html\n",
            "ubuntu-17.04/moses/scripts/ems/web/javascripts/scriptaculous-js-1.8.3/test/functional/effects_float_appear_test.html\n",
            "ubuntu-17.04/moses/scripts/ems/web/javascripts/scriptaculous-js-1.8.3/test/functional/effects6_test.html\n",
            "ubuntu-17.04/moses/scripts/ems/web/javascripts/scriptaculous-js-1.8.3/test/functional/effect_scale_test.html\n",
            "ubuntu-17.04/moses/scripts/ems/web/javascripts/scriptaculous-js-1.8.3/test/functional/ajax_autocompleter2_test.html\n",
            "ubuntu-17.04/moses/scripts/ems/web/javascripts/scriptaculous-js-1.8.3/test/functional/dragdrop6_test.html\n",
            "ubuntu-17.04/moses/scripts/ems/web/javascripts/scriptaculous-js-1.8.3/test/functional/dragdrop9_test.html\n",
            "ubuntu-17.04/moses/scripts/ems/web/javascripts/scriptaculous-js-1.8.3/test/functional/sortable_test.html\n",
            "ubuntu-17.04/moses/scripts/ems/web/javascripts/scriptaculous-js-1.8.3/test/functional/sortable4_test.html\n",
            "ubuntu-17.04/moses/scripts/ems/web/javascripts/scriptaculous-js-1.8.3/test/functional/_autocomplete_result_single.html\n",
            "ubuntu-17.04/moses/scripts/ems/web/javascripts/scriptaculous-js-1.8.3/test/functional/effects_toggle_test.html\n",
            "ubuntu-17.04/moses/scripts/ems/web/javascripts/scriptaculous-js-1.8.3/test/functional/effects_random_demo.html\n",
            "ubuntu-17.04/moses/scripts/ems/web/javascripts/scriptaculous-js-1.8.3/test/functional/effects5b_test.html\n",
            "ubuntu-17.04/moses/scripts/ems/web/javascripts/scriptaculous-js-1.8.3/test/functional/effect_direct_test.html\n",
            "ubuntu-17.04/moses/scripts/ems/web/javascripts/scriptaculous-js-1.8.3/test/functional/sound_test.html\n",
            "ubuntu-17.04/moses/scripts/ems/web/javascripts/scriptaculous-js-1.8.3/test/functional/effects_highlight_bg_image.html\n",
            "ubuntu-17.04/moses/scripts/ems/web/javascripts/scriptaculous-js-1.8.3/test/functional/dropmarker.png\n",
            "ubuntu-17.04/moses/scripts/ems/web/javascripts/scriptaculous-js-1.8.3/test/functional/sortable6_test.html\n",
            "ubuntu-17.04/moses/scripts/ems/web/javascripts/scriptaculous-js-1.8.3/test/functional/effects4_test.html\n",
            "ubuntu-17.04/moses/scripts/ems/web/javascripts/scriptaculous-js-1.8.3/test/functional/effects_queue_limit_test.html\n",
            "ubuntu-17.04/moses/scripts/ems/web/javascripts/scriptaculous-js-1.8.3/test/functional/_autocomplete_result.html\n",
            "ubuntu-17.04/moses/scripts/ems/web/javascripts/scriptaculous-js-1.8.3/test/functional/texteffects_test.html\n",
            "ubuntu-17.04/moses/scripts/ems/web/javascripts/scriptaculous-js-1.8.3/test/functional/slider_test.html\n",
            "ubuntu-17.04/moses/scripts/ems/web/javascripts/scriptaculous-js-1.8.3/test/functional/sortable2_test.html\n",
            "ubuntu-17.04/moses/scripts/ems/web/javascripts/scriptaculous-js-1.8.3/test/functional/index.html\n",
            "ubuntu-17.04/moses/scripts/ems/web/javascripts/scriptaculous-js-1.8.3/test/functional/dragdrop7_test.html\n",
            "ubuntu-17.04/moses/scripts/ems/web/javascripts/scriptaculous-js-1.8.3/test/functional/_ajax_inplaceeditor_text.html\n",
            "ubuntu-17.04/moses/scripts/ems/web/javascripts/scriptaculous-js-1.8.3/test/functional/ajax_inplaceeditor_test.html\n",
            "ubuntu-17.04/moses/scripts/ems/web/javascripts/scriptaculous-js-1.8.3/test/functional/effect_puff_test.html\n",
            "ubuntu-17.04/moses/scripts/ems/web/javascripts/scriptaculous-js-1.8.3/test/functional/dragdrop8_test.html\n",
            "ubuntu-17.04/moses/scripts/ems/web/javascripts/scriptaculous-js-1.8.3/test/functional/sortable3_test.html\n",
            "ubuntu-17.04/moses/scripts/ems/web/javascripts/scriptaculous-js-1.8.3/test/functional/position_clone_test.html\n",
            "ubuntu-17.04/moses/scripts/ems/web/javascripts/scriptaculous-js-1.8.3/test/functional/effects2_test.html\n",
            "ubuntu-17.04/moses/scripts/ems/web/javascripts/scriptaculous-js-1.8.3/test/functional/effects_test.html\n",
            "ubuntu-17.04/moses/scripts/ems/web/javascripts/scriptaculous-js-1.8.3/test/functional/effects_blind_test.html\n",
            "ubuntu-17.04/moses/scripts/ems/web/javascripts/scriptaculous-js-1.8.3/test/functional/effects5_test.html\n",
            "ubuntu-17.04/moses/scripts/ems/web/javascripts/scriptaculous-js-1.8.3/test/functional/dragdrop5_test.html\n",
            "ubuntu-17.04/moses/scripts/ems/web/javascripts/scriptaculous-js-1.8.3/test/functional/dragdrop_test.html\n",
            "ubuntu-17.04/moses/scripts/ems/web/javascripts/scriptaculous-js-1.8.3/test/functional/dragdrop2_test.html\n",
            "ubuntu-17.04/moses/scripts/ems/web/javascripts/scriptaculous-js-1.8.3/test/functional/dragdrop4_test.html\n",
            "ubuntu-17.04/moses/scripts/ems/web/javascripts/scriptaculous-js-1.8.3/test/functional/sortable5_test.html\n",
            "ubuntu-17.04/moses/scripts/ems/web/javascripts/scriptaculous-js-1.8.3/test/functional/effects3_test.html\n",
            "ubuntu-17.04/moses/scripts/ems/web/javascripts/scriptaculous-js-1.8.3/test/test.css\n",
            "ubuntu-17.04/moses/scripts/ems/web/javascripts/scriptaculous-js-1.8.3/test/run_unit_tests.html\n",
            "ubuntu-17.04/moses/scripts/ems/web/javascripts/scriptaculous-js-1.8.3/test/unit/\n",
            "ubuntu-17.04/moses/scripts/ems/web/javascripts/scriptaculous-js-1.8.3/test/unit/icon.png\n",
            "ubuntu-17.04/moses/scripts/ems/web/javascripts/scriptaculous-js-1.8.3/test/unit/ajax_autocompleter_test.html\n",
            "ubuntu-17.04/moses/scripts/ems/web/javascripts/scriptaculous-js-1.8.3/test/unit/bdd_test.html\n",
            "ubuntu-17.04/moses/scripts/ems/web/javascripts/scriptaculous-js-1.8.3/test/unit/_ajax_inplaceeditor_result.html\n",
            "ubuntu-17.04/moses/scripts/ems/web/javascripts/scriptaculous-js-1.8.3/test/unit/_ajax_inplaceeditor_ipce_alt_text.html\n",
            "ubuntu-17.04/moses/scripts/ems/web/javascripts/scriptaculous-js-1.8.3/test/unit/element_test.html\n",
            "ubuntu-17.04/moses/scripts/ems/web/javascripts/scriptaculous-js-1.8.3/test/unit/_ajax_updater_result.html\n",
            "ubuntu-17.04/moses/scripts/ems/web/javascripts/scriptaculous-js-1.8.3/test/unit/sortable_test.html\n",
            "ubuntu-17.04/moses/scripts/ems/web/javascripts/scriptaculous-js-1.8.3/test/unit/_ajax_inplaceeditor_result2.html\n",
            "ubuntu-17.04/moses/scripts/ems/web/javascripts/scriptaculous-js-1.8.3/test/unit/_autocomplete_result.html\n",
            "ubuntu-17.04/moses/scripts/ems/web/javascripts/scriptaculous-js-1.8.3/test/unit/slider_test.html\n",
            "ubuntu-17.04/moses/scripts/ems/web/javascripts/scriptaculous-js-1.8.3/test/unit/_autocomplete_result_nobr.html\n",
            "ubuntu-17.04/moses/scripts/ems/web/javascripts/scriptaculous-js-1.8.3/test/unit/index.html\n",
            "ubuntu-17.04/moses/scripts/ems/web/javascripts/scriptaculous-js-1.8.3/test/unit/_ajax_inplaceeditor_text.html\n",
            "ubuntu-17.04/moses/scripts/ems/web/javascripts/scriptaculous-js-1.8.3/test/unit/ajax_inplaceeditor_test.html\n",
            "ubuntu-17.04/moses/scripts/ems/web/javascripts/scriptaculous-js-1.8.3/test/unit/string_test.html\n",
            "ubuntu-17.04/moses/scripts/ems/web/javascripts/scriptaculous-js-1.8.3/test/unit/_ajax_inplaceeditor_tagged.html\n",
            "ubuntu-17.04/moses/scripts/ems/web/javascripts/scriptaculous-js-1.8.3/test/unit/position_clone_test.html\n",
            "ubuntu-17.04/moses/scripts/ems/web/javascripts/scriptaculous-js-1.8.3/test/unit/effects_test.html\n",
            "ubuntu-17.04/moses/scripts/ems/web/javascripts/scriptaculous-js-1.8.3/test/unit/unittest_test.html\n",
            "ubuntu-17.04/moses/scripts/ems/web/javascripts/scriptaculous-js-1.8.3/test/unit/dragdrop_test.html\n",
            "ubuntu-17.04/moses/scripts/ems/web/javascripts/scriptaculous-js-1.8.3/test/unit/builder_test.html\n",
            "ubuntu-17.04/moses/scripts/ems/web/javascripts/scriptaculous-js-1.8.3/test/unit/loading_test.html\n",
            "ubuntu-17.04/moses/scripts/ems/web/javascripts/scriptaculous-js-1.8.3/CHANGELOG\n",
            "ubuntu-17.04/moses/scripts/ems/web/javascripts/scriptaculous-js-1.8.3/README.rdoc\n",
            "ubuntu-17.04/moses/scripts/ems/web/javascripts/scriptaculous-js-1.8.3/MIT-LICENSE\n",
            "ubuntu-17.04/moses/scripts/ems/web/javascripts/scriptaculous-js-1.8.3/lib/\n",
            "ubuntu-17.04/moses/scripts/ems/web/javascripts/scriptaculous-js-1.8.3/lib/prototype.js\n",
            "ubuntu-17.04/moses/scripts/ems/web/javascripts/unittest.js\n",
            "ubuntu-17.04/moses/scripts/ems/web/index.php\n",
            "ubuntu-17.04/moses/scripts/ems/web/spinner.gif\n",
            "ubuntu-17.04/moses/scripts/ems/web/bilingual-concordance.css\n",
            "ubuntu-17.04/moses/scripts/ems/web/favicon.ico\n",
            "ubuntu-17.04/moses/scripts/ems/web/comment.php\n",
            "ubuntu-17.04/moses/scripts/ems/web/progress.perl\n",
            "ubuntu-17.04/moses/scripts/ems/web/general.css\n",
            "ubuntu-17.04/moses/scripts/ems/web/diff.php\n",
            "ubuntu-17.04/moses/scripts/ems/web/base64.js\n",
            "ubuntu-17.04/moses/scripts/ems/web/sgviz.php\n",
            "ubuntu-17.04/moses/scripts/ems/web/sgviz.js\n",
            "ubuntu-17.04/moses/scripts/ems/web/overview.php\n",
            "ubuntu-17.04/moses/scripts/ems/web/lib.php\n",
            "ubuntu-17.04/moses/scripts/ems/web/analysis_diff.php\n",
            "ubuntu-17.04/moses/scripts/ems/web/setup\n",
            "ubuntu-17.04/moses/scripts/ems/web/hierarchical-segmentation.js\n",
            "ubuntu-17.04/moses/scripts/ems/fix-info.perl\n",
            "ubuntu-17.04/moses/scripts/Transliteration/\n",
            "ubuntu-17.04/moses/scripts/Transliteration/threshold.pl\n",
            "ubuntu-17.04/moses/scripts/Transliteration/clean.pl\n",
            "ubuntu-17.04/moses/scripts/Transliteration/prepare-transliteration-phrase-table.pl\n",
            "ubuntu-17.04/moses/scripts/Transliteration/in-decoding-transliteration.pl\n",
            "ubuntu-17.04/moses/scripts/Transliteration/post-decoding-transliteration.pl\n",
            "ubuntu-17.04/moses/scripts/Transliteration/train-transliteration-module.pl\n",
            "ubuntu-17.04/moses/scripts/Transliteration/corpusCreator.pl\n",
            "ubuntu-17.04/moses/scripts/server/\n",
            "ubuntu-17.04/moses/scripts/server/sim-pe.py\n",
            "ubuntu-17.04/moses/scripts/server/moses.py\n",
            "ubuntu-17.04/moses/scripts/fuzzy-match/\n",
            "ubuntu-17.04/moses/scripts/fuzzy-match/.cproject\n",
            "ubuntu-17.04/moses/scripts/fuzzy-match/create_xml.perl\n",
            "ubuntu-17.04/moses/scripts/fuzzy-match/.project\n",
            "ubuntu-17.04/moses/scripts/fuzzy-match/compile.sh\n",
            "ubuntu-17.04/moses/scripts/other/\n",
            "ubuntu-17.04/moses/scripts/other/delete-scores.perl\n",
            "ubuntu-17.04/moses/scripts/other/translate_by_microsoft_bing.perl\n",
            "ubuntu-17.04/moses/scripts/other/beautify.py\n",
            "ubuntu-17.04/moses/scripts/other/get_many_translations_from_google.perl\n",
            "ubuntu-17.04/moses/scripts/other/retain-lines.perl\n",
            "ubuntu-17.04/moses/scripts/other/gacha_filter.py\n",
            "ubuntu-17.04/moses/scripts/other/convert-pt.perl\n",
            "ubuntu-17.04/moses/scripts/other/buckwalter.perl\n",
            "ubuntu-17.04/moses/scripts/other/blame-stat.sh\n",
            "ubuntu-17.04/moses/scripts/docker/\n",
            "ubuntu-17.04/moses/scripts/docker/Dockerfile.ubuntu.basic\n",
            "ubuntu-17.04/moses/scripts/docker/Dockerfile.ubuntu.fastlightpbmt\n",
            "ubuntu-17.04/moses/scripts/nbest-rescore/\n",
            "ubuntu-17.04/moses/scripts/nbest-rescore/topbest.py\n",
            "ubuntu-17.04/moses/scripts/nbest-rescore/README.md\n",
            "ubuntu-17.04/moses/scripts/nbest-rescore/train.py\n",
            "ubuntu-17.04/moses/scripts/nbest-rescore/rescore.py\n",
            "ubuntu-17.04/moses/scripts/recaser/\n",
            "ubuntu-17.04/moses/scripts/recaser/recase.perl\n",
            "ubuntu-17.04/moses/scripts/recaser/detruecase.perl\n",
            "ubuntu-17.04/moses/scripts/recaser/truecase.perl\n",
            "ubuntu-17.04/moses/scripts/recaser/train-truecaser.perl\n",
            "ubuntu-17.04/moses/scripts/recaser/train-recaser.perl\n",
            "ubuntu-17.04/moses/scripts/regression-testing/\n",
            "ubuntu-17.04/moses/scripts/regression-testing/moses-scripts-reg-test-data-1.0/\n",
            "ubuntu-17.04/moses/scripts/regression-testing/moses-scripts-reg-test-data-1.0/lm/\n",
            "ubuntu-17.04/moses/scripts/regression-testing/moses-scripts-reg-test-data-1.0/lm/train.en.w5.msb.nops.blm\n",
            "ubuntu-17.04/moses/scripts/regression-testing/moses-scripts-reg-test-data-1.0/models/\n",
            "ubuntu-17.04/moses/scripts/regression-testing/moses-scripts-reg-test-data-1.0/models/phrase-table.0-0.gz\n",
            "ubuntu-17.04/moses/scripts/regression-testing/moses-scripts-reg-test-data-1.0/models/reordering-table.msd-bidirectional-fe.0.5.0-0.gz\n",
            "ubuntu-17.04/moses/scripts/regression-testing/tests/\n",
            "ubuntu-17.04/moses/scripts/regression-testing/tests/mert-moses-new-continue/\n",
            "ubuntu-17.04/moses/scripts/regression-testing/tests/mert-moses-new-continue/data/\n",
            "ubuntu-17.04/moses/scripts/regression-testing/tests/mert-moses-new-continue/data/run2.features.dat\n",
            "ubuntu-17.04/moses/scripts/regression-testing/tests/mert-moses-new-continue/data/run3.features.dat\n",
            "ubuntu-17.04/moses/scripts/regression-testing/tests/mert-moses-new-continue/data/run5.features.dat\n",
            "ubuntu-17.04/moses/scripts/regression-testing/tests/mert-moses-new-continue/data/run1.scores.dat\n",
            "ubuntu-17.04/moses/scripts/regression-testing/tests/mert-moses-new-continue/data/run7.TRANS.out\n",
            "ubuntu-17.04/moses/scripts/regression-testing/tests/mert-moses-new-continue/data/run5.scores.dat\n",
            "ubuntu-17.04/moses/scripts/regression-testing/tests/mert-moses-new-continue/data/run5.names.txt\n",
            "ubuntu-17.04/moses/scripts/regression-testing/tests/mert-moses-new-continue/data/run4.scores.dat\n",
            "ubuntu-17.04/moses/scripts/regression-testing/tests/mert-moses-new-continue/data/run6.TRANS.out\n",
            "ubuntu-17.04/moses/scripts/regression-testing/tests/mert-moses-new-continue/data/run1.features.dat\n",
            "ubuntu-17.04/moses/scripts/regression-testing/tests/mert-moses-new-continue/data/run7.NBEST.out.gz\n",
            "ubuntu-17.04/moses/scripts/regression-testing/tests/mert-moses-new-continue/data/finished_step.txt\n",
            "ubuntu-17.04/moses/scripts/regression-testing/tests/mert-moses-new-continue/data/run4.features.dat\n",
            "ubuntu-17.04/moses/scripts/regression-testing/tests/mert-moses-new-continue/data/run3.scores.dat\n",
            "ubuntu-17.04/moses/scripts/regression-testing/tests/mert-moses-new-continue/data/run6.NBEST.out.gz\n",
            "ubuntu-17.04/moses/scripts/regression-testing/tests/mert-moses-new-continue/data/actual.index\n",
            "ubuntu-17.04/moses/scripts/regression-testing/tests/mert-moses-new-continue/data/archive.list\n",
            "ubuntu-17.04/moses/scripts/regression-testing/tests/mert-moses-new-continue/data/run5.mert.log\n",
            "ubuntu-17.04/moses/scripts/regression-testing/tests/mert-moses-new-continue/data/run5.weights.txt\n",
            "ubuntu-17.04/moses/scripts/regression-testing/tests/mert-moses-new-continue/data/run2.scores.dat\n",
            "ubuntu-17.04/moses/scripts/regression-testing/tests/mert-moses-new-continue/moses.ini\n",
            "ubuntu-17.04/moses/scripts/regression-testing/tests/mert-moses-new-continue/filter-stderr\n",
            "ubuntu-17.04/moses/scripts/regression-testing/tests/mert-moses-new-continue/input\n",
            "ubuntu-17.04/moses/scripts/regression-testing/tests/mert-moses-new-continue/reference.2\n",
            "ubuntu-17.04/moses/scripts/regression-testing/tests/mert-moses-new-continue/filter-stdout\n",
            "ubuntu-17.04/moses/scripts/regression-testing/tests/mert-moses-new-continue/reference.1\n",
            "ubuntu-17.04/moses/scripts/regression-testing/tests/mert-moses-new-continue/truth/\n",
            "ubuntu-17.04/moses/scripts/regression-testing/tests/mert-moses-new-continue/truth/results.dat\n",
            "ubuntu-17.04/moses/scripts/regression-testing/tests/mert-moses-new-continue/reference.0\n",
            "ubuntu-17.04/moses/scripts/regression-testing/tests/mert-moses-new-continue/command\n",
            "ubuntu-17.04/moses/scripts/regression-testing/tests/mert-moses-new-nocase/\n",
            "ubuntu-17.04/moses/scripts/regression-testing/tests/mert-moses-new-nocase/data/\n",
            "ubuntu-17.04/moses/scripts/regression-testing/tests/mert-moses-new-nocase/data/run4.TRANS.out\n",
            "ubuntu-17.04/moses/scripts/regression-testing/tests/mert-moses-new-nocase/data/run3.NBEST.out.gz\n",
            "ubuntu-17.04/moses/scripts/regression-testing/tests/mert-moses-new-nocase/data/run5.NBEST.out.gz\n",
            "ubuntu-17.04/moses/scripts/regression-testing/tests/mert-moses-new-nocase/data/run4.NBEST.out.gz\n",
            "ubuntu-17.04/moses/scripts/regression-testing/tests/mert-moses-new-nocase/data/run5.TRANS.out\n",
            "ubuntu-17.04/moses/scripts/regression-testing/tests/mert-moses-new-nocase/data/run2.TRANS.out\n",
            "ubuntu-17.04/moses/scripts/regression-testing/tests/mert-moses-new-nocase/data/run1.TRANS.out\n",
            "ubuntu-17.04/moses/scripts/regression-testing/tests/mert-moses-new-nocase/data/run2.NBEST.out.gz\n",
            "ubuntu-17.04/moses/scripts/regression-testing/tests/mert-moses-new-nocase/data/run1.NBEST.out.gz\n",
            "ubuntu-17.04/moses/scripts/regression-testing/tests/mert-moses-new-nocase/data/run3.TRANS.out\n",
            "ubuntu-17.04/moses/scripts/regression-testing/tests/mert-moses-new-nocase/data/archive.list\n",
            "ubuntu-17.04/moses/scripts/regression-testing/tests/mert-moses-new-nocase/moses.ini\n",
            "ubuntu-17.04/moses/scripts/regression-testing/tests/mert-moses-new-nocase/filter-stderr\n",
            "ubuntu-17.04/moses/scripts/regression-testing/tests/mert-moses-new-nocase/input\n",
            "ubuntu-17.04/moses/scripts/regression-testing/tests/mert-moses-new-nocase/reference.2\n",
            "ubuntu-17.04/moses/scripts/regression-testing/tests/mert-moses-new-nocase/filter-stdout\n",
            "ubuntu-17.04/moses/scripts/regression-testing/tests/mert-moses-new-nocase/reference.1\n",
            "ubuntu-17.04/moses/scripts/regression-testing/tests/mert-moses-new-nocase/truth/\n",
            "ubuntu-17.04/moses/scripts/regression-testing/tests/mert-moses-new-nocase/truth/results.dat\n",
            "ubuntu-17.04/moses/scripts/regression-testing/tests/mert-moses-new-nocase/reference.0\n",
            "ubuntu-17.04/moses/scripts/regression-testing/tests/mert-moses-new-nocase/command\n",
            "ubuntu-17.04/moses/scripts/regression-testing/tests/mert-moses-new/\n",
            "ubuntu-17.04/moses/scripts/regression-testing/tests/mert-moses-new/data/\n",
            "ubuntu-17.04/moses/scripts/regression-testing/tests/mert-moses-new/data/run4.TRANS.out\n",
            "ubuntu-17.04/moses/scripts/regression-testing/tests/mert-moses-new/data/run3.NBEST.out.gz\n",
            "ubuntu-17.04/moses/scripts/regression-testing/tests/mert-moses-new/data/run5.NBEST.out.gz\n",
            "ubuntu-17.04/moses/scripts/regression-testing/tests/mert-moses-new/data/run4.NBEST.out.gz\n",
            "ubuntu-17.04/moses/scripts/regression-testing/tests/mert-moses-new/data/run7.TRANS.out\n",
            "ubuntu-17.04/moses/scripts/regression-testing/tests/mert-moses-new/data/run5.TRANS.out\n",
            "ubuntu-17.04/moses/scripts/regression-testing/tests/mert-moses-new/data/run6.TRANS.out\n",
            "ubuntu-17.04/moses/scripts/regression-testing/tests/mert-moses-new/data/run2.TRANS.out\n",
            "ubuntu-17.04/moses/scripts/regression-testing/tests/mert-moses-new/data/run7.NBEST.out.gz\n",
            "ubuntu-17.04/moses/scripts/regression-testing/tests/mert-moses-new/data/run1.TRANS.out\n",
            "ubuntu-17.04/moses/scripts/regression-testing/tests/mert-moses-new/data/run6.NBEST.out.gz\n",
            "ubuntu-17.04/moses/scripts/regression-testing/tests/mert-moses-new/data/run2.NBEST.out.gz\n",
            "ubuntu-17.04/moses/scripts/regression-testing/tests/mert-moses-new/data/run1.NBEST.out.gz\n",
            "ubuntu-17.04/moses/scripts/regression-testing/tests/mert-moses-new/data/run3.TRANS.out\n",
            "ubuntu-17.04/moses/scripts/regression-testing/tests/mert-moses-new/data/archive.list\n",
            "ubuntu-17.04/moses/scripts/regression-testing/tests/mert-moses-new/moses.ini\n",
            "ubuntu-17.04/moses/scripts/regression-testing/tests/mert-moses-new/filter-stderr\n",
            "ubuntu-17.04/moses/scripts/regression-testing/tests/mert-moses-new/input\n",
            "ubuntu-17.04/moses/scripts/regression-testing/tests/mert-moses-new/reference.2\n",
            "ubuntu-17.04/moses/scripts/regression-testing/tests/mert-moses-new/filter-stdout\n",
            "ubuntu-17.04/moses/scripts/regression-testing/tests/mert-moses-new/reference.1\n",
            "ubuntu-17.04/moses/scripts/regression-testing/tests/mert-moses-new/truth/\n",
            "ubuntu-17.04/moses/scripts/regression-testing/tests/mert-moses-new/truth/results.dat\n",
            "ubuntu-17.04/moses/scripts/regression-testing/tests/mert-moses-new/reference.0\n",
            "ubuntu-17.04/moses/scripts/regression-testing/tests/mert-moses-new/command\n",
            "ubuntu-17.04/moses/scripts/regression-testing/tests/mert-moses-new-aggregate/\n",
            "ubuntu-17.04/moses/scripts/regression-testing/tests/mert-moses-new-aggregate/data/\n",
            "ubuntu-17.04/moses/scripts/regression-testing/tests/mert-moses-new-aggregate/data/run12.NBEST.out.gz\n",
            "ubuntu-17.04/moses/scripts/regression-testing/tests/mert-moses-new-aggregate/data/run4.TRANS.out\n",
            "ubuntu-17.04/moses/scripts/regression-testing/tests/mert-moses-new-aggregate/data/run3.NBEST.out.gz\n",
            "ubuntu-17.04/moses/scripts/regression-testing/tests/mert-moses-new-aggregate/data/run9.NBEST.out.gz\n",
            "ubuntu-17.04/moses/scripts/regression-testing/tests/mert-moses-new-aggregate/data/run5.NBEST.out.gz\n",
            "ubuntu-17.04/moses/scripts/regression-testing/tests/mert-moses-new-aggregate/data/run10.NBEST.out.gz\n",
            "ubuntu-17.04/moses/scripts/regression-testing/tests/mert-moses-new-aggregate/data/run12.TRANS.out\n",
            "ubuntu-17.04/moses/scripts/regression-testing/tests/mert-moses-new-aggregate/data/run4.NBEST.out.gz\n",
            "ubuntu-17.04/moses/scripts/regression-testing/tests/mert-moses-new-aggregate/data/run14.TRANS.out\n",
            "ubuntu-17.04/moses/scripts/regression-testing/tests/mert-moses-new-aggregate/data/run9.TRANS.out\n",
            "ubuntu-17.04/moses/scripts/regression-testing/tests/mert-moses-new-aggregate/data/run7.TRANS.out\n",
            "ubuntu-17.04/moses/scripts/regression-testing/tests/mert-moses-new-aggregate/data/run8.TRANS.out\n",
            "ubuntu-17.04/moses/scripts/regression-testing/tests/mert-moses-new-aggregate/data/run5.TRANS.out\n",
            "ubuntu-17.04/moses/scripts/regression-testing/tests/mert-moses-new-aggregate/data/run10.TRANS.out\n",
            "ubuntu-17.04/moses/scripts/regression-testing/tests/mert-moses-new-aggregate/data/run13.TRANS.out\n",
            "ubuntu-17.04/moses/scripts/regression-testing/tests/mert-moses-new-aggregate/data/run11.NBEST.out.gz\n",
            "ubuntu-17.04/moses/scripts/regression-testing/tests/mert-moses-new-aggregate/data/run11.TRANS.out\n",
            "ubuntu-17.04/moses/scripts/regression-testing/tests/mert-moses-new-aggregate/data/run6.TRANS.out\n",
            "ubuntu-17.04/moses/scripts/regression-testing/tests/mert-moses-new-aggregate/data/run14.NBEST.out.gz\n",
            "ubuntu-17.04/moses/scripts/regression-testing/tests/mert-moses-new-aggregate/data/run2.TRANS.out\n",
            "ubuntu-17.04/moses/scripts/regression-testing/tests/mert-moses-new-aggregate/data/run7.NBEST.out.gz\n",
            "ubuntu-17.04/moses/scripts/regression-testing/tests/mert-moses-new-aggregate/data/run8.NBEST.out.gz\n",
            "ubuntu-17.04/moses/scripts/regression-testing/tests/mert-moses-new-aggregate/data/run1.TRANS.out\n",
            "ubuntu-17.04/moses/scripts/regression-testing/tests/mert-moses-new-aggregate/data/run6.NBEST.out.gz\n",
            "ubuntu-17.04/moses/scripts/regression-testing/tests/mert-moses-new-aggregate/data/run2.NBEST.out.gz\n",
            "ubuntu-17.04/moses/scripts/regression-testing/tests/mert-moses-new-aggregate/data/run1.NBEST.out.gz\n",
            "ubuntu-17.04/moses/scripts/regression-testing/tests/mert-moses-new-aggregate/data/run13.NBEST.out.gz\n",
            "ubuntu-17.04/moses/scripts/regression-testing/tests/mert-moses-new-aggregate/data/run3.TRANS.out\n",
            "ubuntu-17.04/moses/scripts/regression-testing/tests/mert-moses-new-aggregate/data/archive.list\n",
            "ubuntu-17.04/moses/scripts/regression-testing/tests/mert-moses-new-aggregate/moses.ini\n",
            "ubuntu-17.04/moses/scripts/regression-testing/tests/mert-moses-new-aggregate/filter-stderr\n",
            "ubuntu-17.04/moses/scripts/regression-testing/tests/mert-moses-new-aggregate/input\n",
            "ubuntu-17.04/moses/scripts/regression-testing/tests/mert-moses-new-aggregate/reference.2\n",
            "ubuntu-17.04/moses/scripts/regression-testing/tests/mert-moses-new-aggregate/filter-stdout\n",
            "ubuntu-17.04/moses/scripts/regression-testing/tests/mert-moses-new-aggregate/reference.1\n",
            "ubuntu-17.04/moses/scripts/regression-testing/tests/mert-moses-new-aggregate/truth/\n",
            "ubuntu-17.04/moses/scripts/regression-testing/tests/mert-moses-new-aggregate/truth/results.dat\n",
            "ubuntu-17.04/moses/scripts/regression-testing/tests/mert-moses-new-aggregate/reference.0\n",
            "ubuntu-17.04/moses/scripts/regression-testing/tests/mert-moses-new-aggregate/command\n",
            "ubuntu-17.04/moses/scripts/regression-testing/moses-virtual\n",
            "ubuntu-17.04/moses/scripts/regression-testing/MosesScriptsRegressionTesting.pm\n",
            "ubuntu-17.04/moses/scripts/regression-testing/run-single-test.pl\n",
            "ubuntu-17.04/moses/scripts/regression-testing/run-test-suite.pl\n",
            "ubuntu-17.04/moses/scripts/regression-testing/create_localized_moses_ini.pl\n",
            "ubuntu-17.04/moses/scripts/regression-testing/moses-virtual.pl\n",
            "ubuntu-17.04/moses/scripts/regression-testing/compare-results.pl\n",
            "ubuntu-17.04/moses/scripts/regression-testing/modify-pars.pl\n",
            "ubuntu-17.04/moses/bin/\n",
            "ubuntu-17.04/moses/bin/queryPhraseTableMin\n",
            "ubuntu-17.04/moses/bin/build_binary\n",
            "ubuntu-17.04/moses/bin/lexical-reordering-score\n",
            "ubuntu-17.04/moses/bin/relax-parse\n",
            "ubuntu-17.04/moses/bin/biconcor\n",
            "ubuntu-17.04/moses/bin/extract-lex\n",
            "ubuntu-17.04/moses/bin/symal2mam\n",
            "ubuntu-17.04/moses/bin/1-1-Extraction\n",
            "ubuntu-17.04/moses/bin/moses2\n",
            "ubuntu-17.04/moses/bin/filter\n",
            "ubuntu-17.04/moses/bin/lmbrgrid\n",
            "ubuntu-17.04/moses/bin/merge-sorted\n",
            "ubuntu-17.04/moses/bin/pcfg-score\n",
            "ubuntu-17.04/moses/bin/queryOnDiskPt\n",
            "ubuntu-17.04/moses/bin/project-cache.jam\n",
            "ubuntu-17.04/moses/bin/score-stsg\n",
            "ubuntu-17.04/moses/bin/addLexROtoPT\n",
            "ubuntu-17.04/moses/bin/CreateProbingPT2\n",
            "ubuntu-17.04/moses/bin/generateSequences\n",
            "ubuntu-17.04/moses/bin/vwtrainer\n",
            "ubuntu-17.04/moses/bin/statistics\n",
            "ubuntu-17.04/moses/bin/consolidate-reverse\n",
            "ubuntu-17.04/moses/bin/score\n",
            "ubuntu-17.04/moses/bin/extract-mixed-syntax\n",
            "ubuntu-17.04/moses/bin/mert\n",
            "ubuntu-17.04/moses/bin/query\n",
            "ubuntu-17.04/moses/bin/phrase_table_vocab\n",
            "ubuntu-17.04/moses/bin/config.log\n",
            "ubuntu-17.04/moses/bin/hgdecode\n",
            "ubuntu-17.04/moses/bin/mtt-build\n",
            "ubuntu-17.04/moses/bin/kenlm_benchmark\n",
            "ubuntu-17.04/moses/bin/consolidate-direct\n",
            "ubuntu-17.04/moses/bin/CreateProbingPT\n",
            "ubuntu-17.04/moses/bin/extract-ghkm\n",
            "ubuntu-17.04/moses/bin/pro\n",
            "ubuntu-17.04/moses/bin/dump_counts\n",
            "ubuntu-17.04/moses/bin/pcfg-extract\n",
            "ubuntu-17.04/moses/bin/pruneGeneration\n",
            "ubuntu-17.04/moses/bin/phrase-lookup\n",
            "ubuntu-17.04/moses/bin/evaluator\n",
            "ubuntu-17.04/moses/bin/prunePhraseTable\n",
            "ubuntu-17.04/moses/bin/kbmira\n",
            "ubuntu-17.04/moses/bin/sentence-bleu\n",
            "ubuntu-17.04/moses/bin/extract-rules\n",
            "ubuntu-17.04/moses/bin/filter-rule-table\n",
            "ubuntu-17.04/moses/bin/fragment\n",
            "ubuntu-17.04/moses/bin/moses\n",
            "ubuntu-17.04/moses/bin/moses_chart\n",
            "ubuntu-17.04/moses/bin/gcc-6.3.0/\n",
            "ubuntu-17.04/moses/bin/gcc-6.3.0/debug/\n",
            "ubuntu-17.04/moses/bin/gcc-6.3.0/debug/empty_test_shared.o\n",
            "ubuntu-17.04/moses/bin/gcc-6.3.0/debug/empty_test_static\n",
            "ubuntu-17.04/moses/bin/gcc-6.3.0/debug/empty_test_static.o\n",
            "ubuntu-17.04/moses/bin/gcc-6.3.0/debug/empty_test_shared\n",
            "ubuntu-17.04/moses/bin/processLexicalTableMin\n",
            "ubuntu-17.04/moses/bin/queryLexicalTable\n",
            "ubuntu-17.04/moses/bin/CreateOnDiskPt\n",
            "ubuntu-17.04/moses/bin/sentence-bleu-nbest\n",
            "ubuntu-17.04/moses/bin/processPhraseTableMin\n",
            "ubuntu-17.04/moses/bin/lmplz\n",
            "ubuntu-17.04/moses/bin/symal\n",
            "ubuntu-17.04/moses/bin/postprocess-egret-forests\n",
            "ubuntu-17.04/moses/bin/extract\n",
            "ubuntu-17.04/moses/bin/consolidate\n",
            "ubuntu-17.04/moses/bin/extractor\n",
            "ubuntu-17.04/moses/bin/mmlex-build\n",
            "ubuntu-17.04/moses/bin/mosesserver\n",
            "ubuntu-17.04/moses/bin/train-expected-bleu\n",
            "ubuntu-17.04/moses/bin/TMining\n",
            "ubuntu-17.04/moses/bin/processLexicalTable\n",
            "ubuntu-17.04/moses/bin/prepare-expected-bleu-training\n"
          ],
          "name": "stdout"
        }
      ]
    },
    {
      "cell_type": "markdown",
      "metadata": {
        "id": "EPQ7Bpcln6x9"
      },
      "source": [
        "This is the repo which contains the parallel data we are going to use."
      ]
    },
    {
      "cell_type": "code",
      "metadata": {
        "id": "aCYNy9nyAOHP",
        "colab": {
          "base_uri": "https://localhost:8080/"
        },
        "outputId": "1e98d6ef-6ed2-4902-b5bc-91e58ce654d8"
      },
      "source": [
        "# Cloning our repo\n",
        "%cd /content\n",
        "!git clone https://github.com/priyanshu2103/Sanskrit-Hindi-Machine-Translation.git"
      ],
      "execution_count": 20,
      "outputs": [
        {
          "output_type": "stream",
          "text": [
            "/content\n",
            "Cloning into 'Sanskrit-Hindi-Machine-Translation'...\n",
            "remote: Enumerating objects: 61, done.\u001b[K\n",
            "remote: Counting objects: 100% (61/61), done.\u001b[K\n",
            "remote: Compressing objects: 100% (48/48), done.\u001b[K\n",
            "remote: Total 61 (delta 13), reused 55 (delta 10), pack-reused 0\u001b[K\n",
            "Unpacking objects: 100% (61/61), done.\n"
          ],
          "name": "stdout"
        }
      ]
    },
    {
      "cell_type": "markdown",
      "metadata": {
        "id": "OtVO52SeoX6H"
      },
      "source": [
        "We are using indic-nlp library for sanskrit text tokenization."
      ]
    },
    {
      "cell_type": "code",
      "metadata": {
        "id": "ciaAsTbZ__TX",
        "colab": {
          "base_uri": "https://localhost:8080/"
        },
        "outputId": "6dc2e84a-83bd-4450-9ca8-a8083a9d2474"
      },
      "source": [
        "# Install indic-nlp for tokenization\n",
        "!pip install indic-nlp-library\n",
        "!cp /content/Sanskrit-Hindi-Machine-Translation/indic_tokenize.py /usr/local/lib/python3.6/dist-packages/indicnlp/tokenize/indic_tokenize.py"
      ],
      "execution_count": 21,
      "outputs": [
        {
          "output_type": "stream",
          "text": [
            "Requirement already satisfied: indic-nlp-library in /usr/local/lib/python3.6/dist-packages (0.71)\n",
            "Requirement already satisfied: numpy in /usr/local/lib/python3.6/dist-packages (from indic-nlp-library) (1.18.5)\n",
            "Requirement already satisfied: pandas in /usr/local/lib/python3.6/dist-packages (from indic-nlp-library) (1.1.4)\n",
            "Requirement already satisfied: morfessor in /usr/local/lib/python3.6/dist-packages (from indic-nlp-library) (2.0.6)\n",
            "Requirement already satisfied: python-dateutil>=2.7.3 in /usr/local/lib/python3.6/dist-packages (from pandas->indic-nlp-library) (2.8.1)\n",
            "Requirement already satisfied: pytz>=2017.2 in /usr/local/lib/python3.6/dist-packages (from pandas->indic-nlp-library) (2018.9)\n",
            "Requirement already satisfied: six>=1.5 in /usr/local/lib/python3.6/dist-packages (from python-dateutil>=2.7.3->pandas->indic-nlp-library) (1.15.0)\n"
          ],
          "name": "stdout"
        }
      ]
    },
    {
      "cell_type": "code",
      "metadata": {
        "id": "_vINDHRO2xdg",
        "colab": {
          "base_uri": "https://localhost:8080/"
        },
        "outputId": "2d6266fa-3020-43ba-b4fd-fea75546b62a"
      },
      "source": [
        "# Extracting the parallel data into lists\n",
        "%cd /content/Sanskrit-Hindi-Machine-Translation/parallel-corpus/sanskrit-english/\n",
        "\n",
        "eng_lines = []\n",
        "sanskrit_lines = []\n",
        "\n",
        "with open('bhagvadgita_english.txt', 'r') as f:\n",
        "  eng_lines.extend([x.replace('\\n', '') for x in f.readlines()])\n",
        "\n",
        "with open('bible_english.txt', 'r') as f:\n",
        "  eng_lines.extend([x.replace('\\n', '') for x in f.readlines()])\n",
        "\n",
        "with open('manu_english.txt', 'r') as f:\n",
        "  eng_lines.extend([x.replace('\\n', '') for x in f.readlines()])\n",
        "\n",
        "with open('ramayan_english.txt', 'r') as f:\n",
        "  eng_lines.extend([x.replace('\\n', '') for x in f.readlines()])\n",
        "\n",
        "with open('rigveda_english.txt', 'r') as f:\n",
        "  eng_lines.extend([x.replace('\\n', '') for x in f.readlines()])\n",
        "\n",
        "\n",
        "\n",
        "with open('bhagvadgita_sanskrit.txt', 'r') as f:\n",
        "  sanskrit_lines.extend([x.replace('\\n', '') for x in f.readlines()])\n",
        "\n",
        "with open('bible_sanskrit.txt', 'r') as f:\n",
        "  sanskrit_lines.extend([x.replace('\\n', '') for x in f.readlines()])\n",
        "\n",
        "with open('manu_sanskrit.txt', 'r') as f:\n",
        "  sanskrit_lines.extend([x.replace('\\n', '') for x in f.readlines()])\n",
        "\n",
        "with open('ramayan_sanskrit.txt', 'r') as f:\n",
        "  sanskrit_lines.extend([x.replace('\\n', '') for x in f.readlines()])\n",
        "\n",
        "with open('rigveda_sanskrit.txt', 'r') as f:\n",
        "  sanskrit_lines.extend([x.replace('\\n', '') for x in f.readlines()])\n",
        "\n",
        "# print(eng_lines[:100])\n",
        "# print(sanskrit_lines[:100])\n",
        "\n",
        "print(len(eng_lines))\n",
        "print(len(sanskrit_lines))"
      ],
      "execution_count": 6,
      "outputs": [
        {
          "output_type": "stream",
          "text": [
            "/content\n",
            "/content/corpus\n",
            "/content/corpus/training\n"
          ],
          "name": "stdout"
        }
      ]
    },
    {
      "cell_type": "code",
      "metadata": {
        "id": "vISkiQdApCog"
      },
      "source": [
        "# Randomly shuffling the data into training and dev set, the test data is already provided on github\n",
        "import random\n",
        "c = list(zip(sanskrit_lines, eng_lines))\n",
        "random.shuffle(c)\n",
        "\n",
        "sanskrit_lines, eng_lines = zip(*c)\n",
        "\n",
        "train_text_sa = sanskrit_lines[:-1374]\n",
        "train_text_en = eng_lines[:-1374]\n",
        "\n",
        "dev_text_sa = sanskrit_lines[-1374:]\n",
        "dev_text_en = eng_lines[-1374:]"
      ],
      "execution_count": null,
      "outputs": []
    },
    {
      "cell_type": "code",
      "metadata": {
        "id": "M8oFbearpX4j"
      },
      "source": [
        "# Setting up the required files\n",
        "%cd /content\n",
        "!mkdir -p corpus\n",
        "%cd corpus\n",
        "!mkdir -p training\n",
        "%cd training\n",
        "\n",
        "with open('parallel.sa-en.sa', 'w') as f:\n",
        "  for line in train_text_sa:\n",
        "    f.write(line + '\\n')\n",
        "\n",
        "with open('parallel.sa-en.en', 'w') as f:\n",
        "  for line in train_text_en:\n",
        "    f.write(line + '\\n')\n",
        "\n",
        "!mkdir -p /content/corpus/dev\n",
        "%cd /content/corpus/dev\n",
        "with open('dev.sa-en.sa', 'w') as f:\n",
        "  for line in dev_text_sa:\n",
        "    f.write(line + '\\n')\n",
        "\n",
        "with open('dev.sa-en.en', 'w') as f:\n",
        "  for line in dev_text_en:\n",
        "    f.write(line + '\\n')"
      ],
      "execution_count": null,
      "outputs": []
    },
    {
      "cell_type": "code",
      "metadata": {
        "id": "Cg6LQPb2349I",
        "colab": {
          "base_uri": "https://localhost:8080/"
        },
        "outputId": "8a2c2e31-a3dc-485d-f2cd-3625d5a53e80"
      },
      "source": [
        "%cd /content"
      ],
      "execution_count": 16,
      "outputs": [
        {
          "output_type": "stream",
          "text": [
            "/content\n"
          ],
          "name": "stdout"
        }
      ]
    },
    {
      "cell_type": "markdown",
      "metadata": {
        "id": "k5XhckbTScbz"
      },
      "source": [
        "Tokenize"
      ]
    },
    {
      "cell_type": "code",
      "metadata": {
        "id": "y6AGdiPn5_Vc",
        "colab": {
          "base_uri": "https://localhost:8080/"
        },
        "outputId": "5ec1159e-de3e-4f99-9c18-1d437287f25c"
      },
      "source": [
        "!ubuntu-17.04/moses/scripts/tokenizer/tokenizer.perl -l en \\\n",
        "    < /content/corpus/training/parallel.sa-en.en    \\\n",
        "    > /content/corpus/parallel.sa-en.tok.en\n",
        "\n",
        "!python /usr/local/lib/python3.6/dist-packages/indicnlp/tokenize/indic_tokenize.py /content/corpus/training/parallel.sa-en.sa /content/corpus/parallel.sa-en.tok.sa sa"
      ],
      "execution_count": 22,
      "outputs": [
        {
          "output_type": "stream",
          "text": [
            "Tokenizer Version 1.1\n",
            "Language: en\n",
            "Number of threads: 1\n"
          ],
          "name": "stdout"
        }
      ]
    },
    {
      "cell_type": "markdown",
      "metadata": {
        "id": "iIkYWJ62SeJl"
      },
      "source": [
        "Truecase\n",
        "\n",
        "We first need to learn the truecaser, then apply it"
      ]
    },
    {
      "cell_type": "code",
      "metadata": {
        "id": "Ny_AvMqJ6KJm"
      },
      "source": [
        "!ubuntu-17.04/moses/scripts/recaser/train-truecaser.perl \\\n",
        "     --model /content/corpus/truecase-model.en --corpus     \\\n",
        "     /content/corpus/parallel.sa-en.tok.en\n",
        "!ubuntu-17.04/moses/scripts/recaser/train-truecaser.perl \\\n",
        "     --model /content/corpus/truecase-model.sa --corpus     \\\n",
        "     /content/corpus/parallel.sa-en.tok.sa"
      ],
      "execution_count": 23,
      "outputs": []
    },
    {
      "cell_type": "code",
      "metadata": {
        "id": "92YuccWo64li"
      },
      "source": [
        "!ubuntu-17.04/moses/scripts/recaser/truecase.perl \\\n",
        "   --model /content/corpus/truecase-model.en         \\\n",
        "   < /content/corpus/parallel.sa-en.tok.en \\\n",
        "   > /content/corpus/parallel.sa-en.true.en\n",
        "!ubuntu-17.04/moses/scripts/recaser/truecase.perl \\\n",
        "   --model /content/corpus/truecase-model.sa  \\\n",
        "   < /content/corpus/parallel.sa-en.tok.sa \\\n",
        "   > /content/corpus/parallel.sa-en.true.sa"
      ],
      "execution_count": 24,
      "outputs": []
    },
    {
      "cell_type": "markdown",
      "metadata": {
        "id": "aU7xj0r8SpEk"
      },
      "source": [
        "Clean the data by filtering out sentences longer than 80 words and remove any blank lines"
      ]
    },
    {
      "cell_type": "code",
      "metadata": {
        "id": "mlCJlOJU7pge"
      },
      "source": [
        "!/content/ubuntu-17.04/moses/scripts/training/clean-corpus-n.perl \\\n",
        "    /content/corpus/parallel.sa-en.true sa en \\\n",
        "    /content/corpus/parallel.sa-en.clean 1 80"
      ],
      "execution_count": null,
      "outputs": []
    },
    {
      "cell_type": "markdown",
      "metadata": {
        "id": "andLXpdgSzYC"
      },
      "source": [
        "Train the Language Model"
      ]
    },
    {
      "cell_type": "code",
      "metadata": {
        "id": "yk23m2Rr73l6",
        "colab": {
          "base_uri": "https://localhost:8080/"
        },
        "outputId": "5dde1f3a-5130-42d9-eca7-e7286bd7f560"
      },
      "source": [
        "!mkdir -p /content/lm\n",
        "%cd /content/lm\n",
        "!/content/ubuntu-17.04/moses/bin/lmplz -o 3 < /content/corpus/parallel.sa-en.true.en > parallel.sa-en.arpa.en"
      ],
      "execution_count": 26,
      "outputs": [
        {
          "output_type": "stream",
          "text": [
            "/content/lm\n",
            "=== 1/5 Counting and sorting n-grams ===\n",
            "Reading /content/corpus/parallel.sa-en.true.en\n",
            "----5---10---15---20---25---30---35---40---45---50---55---60---65---70---75---80---85---90---95--100\n",
            "tcmalloc: large alloc 2514862080 bytes == 0x559b41154000 @  0x7f470dade1e7 0x559b3fba73f4 0x559b3fc23900 0x559b3fc12800 0x559b3fb65110 0x7f470c975bf7 0x559b3fb66aca\n",
            "tcmalloc: large alloc 8382865408 bytes == 0x559bd6fb0000 @  0x7f470dade1e7 0x559b3fba73f4 0x559b3fbfea3e 0x559b3fbff3fe 0x559b3fc12817 0x559b3fb65110 0x7f470c975bf7 0x559b3fb66aca\n",
            "****************************************************************************************************\n",
            "Unigram tokens 665185 types 20605\n",
            "=== 2/5 Calculating and sorting adjusted counts ===\n",
            "Chain sizes: 1:247260 2:3799177216 3:7123457536\n",
            "tcmalloc: large alloc 7123460096 bytes == 0x559b41154000 @  0x7f470dade1e7 0x559b3fba73f4 0x559b3fbfea3e 0x559b3fbff3fe 0x559b3fc12d5d 0x559b3fb65110 0x7f470c975bf7 0x559b3fb66aca\n",
            "tcmalloc: large alloc 3799179264 bytes == 0x559dcb2e2000 @  0x7f470dade1e7 0x559b3fba73f4 0x559b3fbfea3e 0x559b3fbff3fe 0x559b3fc13195 0x559b3fb65110 0x7f470c975bf7 0x559b3fb66aca\n",
            "Statistics:\n",
            "1 20605 D1=0.644043 D2=0.945207 D3+=1.20223\n",
            "2 201427 D1=0.76763 D2=1.11293 D3+=1.38072\n",
            "3 411095 D1=0.861493 D2=1.20575 D3+=1.23266\n",
            "Memory estimate for binary LM:\n",
            "type       kB\n",
            "probing 12470 assuming -p 1.5\n",
            "probing 13731 assuming -r models -p 1.5\n",
            "trie     5176 without quantization\n",
            "trie     2869 assuming -q 8 -b 8 quantization \n",
            "trie     4906 assuming -a 22 array pointer compression\n",
            "trie     2599 assuming -a 22 -q 8 -b 8 array pointer compression and quantization\n",
            "=== 3/5 Calculating and sorting initial probabilities ===\n",
            "Chain sizes: 1:247260 2:3222832 3:8221900\n",
            "----5---10---15---20---25---30---35---40---45---50---55---60---65---70---75---80---85---90---95--100\n",
            "####################################################################################################\n",
            "=== 4/5 Calculating and writing order-interpolated probabilities ===\n",
            "Chain sizes: 1:247260 2:3222832 3:8221900\n",
            "----5---10---15---20---25---30---35---40---45---50---55---60---65---70---75---80---85---90---95--100\n",
            "####################################################################################################\n",
            "=== 5/5 Writing ARPA model ===\n",
            "Name:lmplz\tVmPeak:14603324 kB\tVmRSS:2500596 kB\tRSSMax:2505716 kB\tuser:1.09953\tsys:2.04658\tCPU:3.14611\treal:3.13772\n"
          ],
          "name": "stdout"
        }
      ]
    },
    {
      "cell_type": "code",
      "metadata": {
        "id": "-5SWolBl8MvQ",
        "colab": {
          "base_uri": "https://localhost:8080/"
        },
        "outputId": "46d9ab80-6e39-45cd-edc4-fc409e63c310"
      },
      "source": [
        "!/content/ubuntu-17.04/moses/bin/build_binary parallel.sa-en.arpa.en parallel.sa-en.blm.en"
      ],
      "execution_count": 27,
      "outputs": [
        {
          "output_type": "stream",
          "text": [
            "Reading parallel.sa-en.arpa.en\n",
            "----5---10---15---20---25---30---35---40---45---50---55---60---65---70---75---80---85---90---95--100\n",
            "****************************************************************************************************\n",
            "SUCCESS\n"
          ],
          "name": "stdout"
        }
      ]
    },
    {
      "cell_type": "code",
      "metadata": {
        "id": "ChwKtkY-8nDM",
        "colab": {
          "base_uri": "https://localhost:8080/"
        },
        "outputId": "807e6986-ab30-4f17-86dc-617fcea26345"
      },
      "source": [
        "# Simple sanity check to see if correct process uptil now\n",
        "!echo \"is this an English sentence ?\"                       \\\n",
        "   | /content/ubuntu-17.04/moses/bin/query parallel.sa-en.blm.en"
      ],
      "execution_count": 28,
      "outputs": [
        {
          "output_type": "stream",
          "text": [
            "is=37 1 -6.564294\tthis=69 2 -1.904331\tan=621 2 -3.3780825\tEnglish=0 1 -5.777322\tsentence=481 1 -4.7360168\t?=0 1 -5.5146914\t</s>=2 1 -5.204671\tTotal: -33.079407 OOV: 2\n",
            "Perplexity including OOVs:\t53165.45488211808\n",
            "Perplexity excluding OOVs:\t22776.066071282476\n",
            "OOVs:\t2\n",
            "Tokens:\t7\n",
            "Name:query\tVmPeak:50728 kB\tVmRSS:6156 kB\tRSSMax:18236 kB\tuser:0.002063\tsys:0.002063\tCPU:0.004126\treal:0.00145599\n"
          ],
          "name": "stdout"
        }
      ]
    },
    {
      "cell_type": "markdown",
      "metadata": {
        "id": "PxgaqXWZS_A8"
      },
      "source": [
        "Actual training using mgiza alignment tool"
      ]
    },
    {
      "cell_type": "code",
      "metadata": {
        "id": "sngxz8e09LPy",
        "colab": {
          "base_uri": "https://localhost:8080/"
        },
        "outputId": "63580a63-8bdb-46c3-a106-4f3a83addf05"
      },
      "source": [
        "!mkdir -p /content/working\n",
        "%cd /content/working\n",
        "!nohup nice /content/ubuntu-17.04/moses/scripts/training/train-model.perl -root-dir train \\\n",
        " -mgiza \\\n",
        " -corpus /content/corpus/parallel.sa-en.clean \\\n",
        " -f sa -e en -alignment grow-diag-final-and -reordering msd-bidirectional-fe \\\n",
        " -lm 0:3:/content/lm/parallel.sa-en.blm.en:8                          \\\n",
        " -cores 4 \\\n",
        " -external-bin-dir /content/ubuntu-17.04/training-tools >& training.out &"
      ],
      "execution_count": 35,
      "outputs": [
        {
          "output_type": "stream",
          "text": [
            "/content/working\n"
          ],
          "name": "stdout"
        }
      ]
    },
    {
      "cell_type": "code",
      "metadata": {
        "colab": {
          "base_uri": "https://localhost:8080/"
        },
        "id": "K3k_DDpfQF12",
        "outputId": "905faa89-3367-4bd4-9c08-346fb05b113d"
      },
      "source": [
        "%cd /content/corpus\n",
        "!/content/ubuntu-17.04/moses/scripts/tokenizer/tokenizer.perl -l en \\\n",
        "   < dev/dev.sa-en.en > dev.sa-en.tok.en\n",
        "!python /usr/local/lib/python3.6/dist-packages/indicnlp/tokenize/indic_tokenize.py /content/corpus/dev/dev.sa-en.sa /content/corpus/dev.sa-en.tok.sa sa\n",
        "\n",
        "!/content/ubuntu-17.04/moses/scripts/recaser/truecase.perl --model truecase-model.en \\\n",
        "   < dev.sa-en.tok.en > dev.sa-en.true.en\n",
        "!/content/ubuntu-17.04/moses/scripts/recaser/truecase.perl --model truecase-model.sa \\\n",
        "   < dev.sa-en.tok.sa > dev.sa-en.true.sa"
      ],
      "execution_count": 41,
      "outputs": [
        {
          "output_type": "stream",
          "text": [
            "/content/corpus\n",
            "Tokenizer Version 1.1\n",
            "Language: en\n",
            "Number of threads: 1\n"
          ],
          "name": "stdout"
        }
      ]
    },
    {
      "cell_type": "code",
      "metadata": {
        "colab": {
          "base_uri": "https://localhost:8080/"
        },
        "id": "Q4_5FRGRThMk",
        "outputId": "d655452c-93bb-4723-f345-3f368f658d0e"
      },
      "source": [
        "%cd /content/working\n",
        "!nohup nice /content/ubuntu-17.04/moses/scripts/training/mert-moses.pl \\\n",
        "  /content/corpus/dev.sa-en.true.sa /content/corpus/dev.sa-en.true.en \\\n",
        "  /content/ubuntu-17.04/moses/bin/moses train/model/moses.ini --mertdir /content/ubuntu-17.04/moses/bin/ \\\n",
        "  --decoder-flags=\"-threads 4\" \\\n",
        "  &> mert.out &"
      ],
      "execution_count": 42,
      "outputs": [
        {
          "output_type": "stream",
          "text": [
            "/content/working\n"
          ],
          "name": "stdout"
        }
      ]
    },
    {
      "cell_type": "code",
      "metadata": {
        "id": "7wHUDujAm8Ay"
      },
      "source": [
        "%cd /content/corpus\n",
        "# !/content/ubuntu-17.04/moses/scripts/tokenizer/tokenizer.perl -l en \\\n",
        "#    < test/dev.sa-en.en > dev.sa-en.tok.en\n",
        "!python /usr/local/lib/python3.6/dist-packages/indicnlp/tokenize/indic_tokenize.py /content/Sanskrit-Hindi-Machine-Translation/parallel-corpus/sanskrit-hindi/test_sanskrit.sa /content/corpus/test.tok.sa sa\n",
        "\n",
        "# !/content/ubuntu-17.04/moses/scripts/recaser/truecase.perl --model truecase-model.en \\\n",
        "#    < dev.sa-en.tok.en > dev.sa-en.true.en\n",
        "!/content/ubuntu-17.04/moses/scripts/recaser/truecase.perl --model truecase-model.sa \\\n",
        "   < test.tok.sa > test.true.sa"
      ],
      "execution_count": null,
      "outputs": []
    },
    {
      "cell_type": "code",
      "metadata": {
        "id": "jKlAbU602Vhc"
      },
      "source": [
        "!nohup nice /content/ubuntu-17.04/moses/bin/moses \\\n",
        "   -f /content/working/mert-work/moses.ini   \\\n",
        "   < /content/corpus/test.true.sa  \\\n",
        "   > /content/working/test.translated.en  \\\n",
        "   2> /content/working/test_result.out\n",
        "\n",
        "\n",
        "# !/content/ubuntu-17.04/moses/scripts/generic/multi-bleu.perl \\\n",
        "#    -lc /content/corpus/dev.sa-en.true.en    \\\n",
        "#    < /content/working/test.translated.en"
      ],
      "execution_count": null,
      "outputs": []
    },
    {
      "cell_type": "markdown",
      "metadata": {
        "id": "pHapMi2-UeOK"
      },
      "source": [
        "Google translate API to translate English to Hindi"
      ]
    },
    {
      "cell_type": "code",
      "metadata": {
        "id": "my_dIFPEiDcw"
      },
      "source": [
        "!pip install googletrans\n",
        "from googletrans import Translator\n",
        "translator = Translator()"
      ],
      "execution_count": 66,
      "outputs": []
    },
    {
      "cell_type": "markdown",
      "metadata": {
        "id": "5LskrGNkNTbA"
      },
      "source": [
        "For translating multiple lines from file"
      ]
    },
    {
      "cell_type": "code",
      "metadata": {
        "id": "VPEnERO93fpF"
      },
      "source": [
        "with open('/content/working/test.translated.en', 'r') as f:\n",
        "  test = [x.replace('\\n', '') for x in f.readlines()]\n",
        "\n",
        "translated = []\n",
        "print(len(test))\n",
        "\n",
        "for line in test:\n",
        "  ans = translator.translate(line, dest='hi')\n",
        "  translated.append(ans.text)\n",
        "\n",
        "with open('translated_hindi.hi', 'w') as f:\n",
        "  for line in translated:\n",
        "    f.write(line + '\\n')"
      ],
      "execution_count": null,
      "outputs": []
    },
    {
      "cell_type": "code",
      "metadata": {
        "colab": {
          "base_uri": "https://localhost:8080/"
        },
        "id": "pBbmEcc99UZQ",
        "outputId": "f785264f-9aea-4609-952e-578891e1a396"
      },
      "source": [
        "# calculate bleu score\n",
        "import nltk\n",
        "with open('/content/Sanskrit-Hindi-Machine-Translation/parallel-corpus/sanskrit-hindi/test_hindi.hi', 'r') as f: # ground truth file\n",
        "  reference = [x.replace('\\n', '') for x in f.readlines()]\n",
        "\n",
        "with open('translated_hindi.hi', 'r') as f: # translated hindi file (our output)\n",
        "  candidate = [x.replace('\\n', '') for x in f.readlines()]\n",
        "\n",
        "from nltk.translate.bleu_score import SmoothingFunction\n",
        "smoothie = SmoothingFunction().method4\n",
        "\n",
        "print(\"bleu\", nltk.translate.bleu_score.corpus_bleu(reference, candidate, smoothing_function=smoothie))"
      ],
      "execution_count": 2,
      "outputs": [
        {
          "output_type": "stream",
          "text": [
            "bleu 0.28475005173770523\n"
          ],
          "name": "stdout"
        }
      ]
    },
    {
      "cell_type": "markdown",
      "metadata": {
        "id": "Aa0Qsvz5NeQ2"
      },
      "source": [
        "For translating single line present in /content/input.txt"
      ]
    },
    {
      "cell_type": "code",
      "metadata": {
        "id": "UBCtMXFlK2de"
      },
      "source": [
        "!/content/ubuntu-17.04/moses/bin/moses -f /content/working/mert-work/moses.ini < /content/input.txt > /content/temp.txt\n",
        "with open('/content/temp.txt', 'r') as f:\n",
        "  line = f.readline\n",
        "ans = translator.translate(line, dest='hi')\n",
        "print(ans.text)"
      ],
      "execution_count": null,
      "outputs": []
    }
  ]
}